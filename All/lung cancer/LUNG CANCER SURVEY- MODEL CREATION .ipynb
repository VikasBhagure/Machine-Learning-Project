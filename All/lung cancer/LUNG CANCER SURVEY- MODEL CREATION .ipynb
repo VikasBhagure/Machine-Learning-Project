{
 "cells": [
  {
   "cell_type": "markdown",
   "id": "3eb8f480",
   "metadata": {},
   "source": [
    "# <u>Lung Cancer Prediction<u>"
   ]
  },
  {
   "cell_type": "markdown",
   "id": "39a2a9ab",
   "metadata": {},
   "source": [
    "* A categorical dataset to determine whether a person has cancer or not\n",
    "* The dataset contains details of the features of predicting **Lung Cancer** based on gender, age, and many other factors.\n",
    "* Here we can split the data into two parts **features and Target**. Target being **Lung Cancer** and rest will be features.\n",
    "* In this notebook, the prediction is made whether a person will have the chance of Lung cancer using suitable **ML** approach. \n",
    "* The **ML** approach applied according to the data observation "
   ]
  },
  {
   "cell_type": "markdown",
   "id": "1d2dc17c",
   "metadata": {},
   "source": [
    "### <u>ABSTRACT<u>: \n",
    "* The effectiveness of cancer prediction system helps the people to know their cancer risk with low cost and it also helps the people to take the appropriate decision based on their cancer risk status. The data is collected from the website online lung cancer prediction system and get a feedback from the user. This site has implemented during period of August 2013 the people who visited this site.\n",
    "Total no. of attributes:16\n",
    "No .of instances:284\n",
    "Attribute information:\n",
    "1.\tGender: M(male), F(female)\n",
    "2.\tAge: Age of the patient\n",
    "3.\tSmoking:  YES=2 , NO=1.\n",
    "4.\tYellow fingers: YES=2 , NO=1.\n",
    "5.\tAnxiety: YES=2 , NO=1.\n",
    "6.\tPeer_pressure: YES=2 , NO=1.\n",
    "7.\tChronic Disease: YES=2 , NO=1.\n",
    "8.\tFatigue: YES=2 , NO=1.\n",
    "9.\tAllergy: YES=2 , NO=1.\n",
    "10.\tWheezing: YES=2 , NO=1.\n",
    "11.\tAlcohol: YES=2 , NO=1.\n",
    "12.\tCoughing: YES=2 , NO=1.\n",
    "13.\tShortness of Breath: YES=2 , NO=1.\n",
    "14.\tSwallowing Difficulty: YES=2 , NO=1.\n",
    "15.\tChest pain: YES=2 , NO=1.\n",
    "16.\tLung Cancer: YES , NO.\n"
   ]
  },
  {
   "cell_type": "markdown",
   "id": "53132281",
   "metadata": {},
   "source": [
    "#### <u>Structure:<u>\n",
    "##### Import Libraries one by one according to the requirement of the data \n",
    "* Import libraries for reading and cleaning the data to make it ready for prediction."
   ]
  },
  {
   "cell_type": "code",
   "execution_count": 1,
   "id": "fd5e1e50",
   "metadata": {},
   "outputs": [],
   "source": [
    "import pandas as pd\n",
    "import numpy as np\n",
    "import matplotlib.pyplot as plt\n",
    "import seaborn as sns\n",
    "import warnings\n",
    "%matplotlib inline"
   ]
  },
  {
   "cell_type": "markdown",
   "id": "f6b75c71",
   "metadata": {},
   "source": [
    "#### Reading the dataset"
   ]
  },
  {
   "cell_type": "code",
   "execution_count": 2,
   "id": "4c52bdf3",
   "metadata": {},
   "outputs": [],
   "source": [
    "df=pd.read_csv(\"surveylungcancer.csv\")"
   ]
  },
  {
   "cell_type": "code",
   "execution_count": 3,
   "id": "ade94529",
   "metadata": {
    "scrolled": true
   },
   "outputs": [
    {
     "data": {
      "text/html": [
       "<div>\n",
       "<style scoped>\n",
       "    .dataframe tbody tr th:only-of-type {\n",
       "        vertical-align: middle;\n",
       "    }\n",
       "\n",
       "    .dataframe tbody tr th {\n",
       "        vertical-align: top;\n",
       "    }\n",
       "\n",
       "    .dataframe thead th {\n",
       "        text-align: right;\n",
       "    }\n",
       "</style>\n",
       "<table border=\"1\" class=\"dataframe\">\n",
       "  <thead>\n",
       "    <tr style=\"text-align: right;\">\n",
       "      <th></th>\n",
       "      <th>GENDER</th>\n",
       "      <th>AGE</th>\n",
       "      <th>SMOKING</th>\n",
       "      <th>YELLOW_FINGERS</th>\n",
       "      <th>ANXIETY</th>\n",
       "      <th>PEER_PRESSURE</th>\n",
       "      <th>CHRONIC DISEASE</th>\n",
       "      <th>FATIGUE</th>\n",
       "      <th>ALLERGY</th>\n",
       "      <th>WHEEZING</th>\n",
       "      <th>ALCOHOL CONSUMING</th>\n",
       "      <th>COUGHING</th>\n",
       "      <th>SHORTNESS OF BREATH</th>\n",
       "      <th>SWALLOWING DIFFICULTY</th>\n",
       "      <th>CHEST PAIN</th>\n",
       "      <th>LUNG_CANCER</th>\n",
       "    </tr>\n",
       "  </thead>\n",
       "  <tbody>\n",
       "    <tr>\n",
       "      <th>0</th>\n",
       "      <td>M</td>\n",
       "      <td>69</td>\n",
       "      <td>1</td>\n",
       "      <td>2</td>\n",
       "      <td>2</td>\n",
       "      <td>1</td>\n",
       "      <td>1</td>\n",
       "      <td>2</td>\n",
       "      <td>1</td>\n",
       "      <td>2</td>\n",
       "      <td>2</td>\n",
       "      <td>2</td>\n",
       "      <td>2</td>\n",
       "      <td>2</td>\n",
       "      <td>2</td>\n",
       "      <td>YES</td>\n",
       "    </tr>\n",
       "    <tr>\n",
       "      <th>1</th>\n",
       "      <td>M</td>\n",
       "      <td>74</td>\n",
       "      <td>2</td>\n",
       "      <td>1</td>\n",
       "      <td>1</td>\n",
       "      <td>1</td>\n",
       "      <td>2</td>\n",
       "      <td>2</td>\n",
       "      <td>2</td>\n",
       "      <td>1</td>\n",
       "      <td>1</td>\n",
       "      <td>1</td>\n",
       "      <td>2</td>\n",
       "      <td>2</td>\n",
       "      <td>2</td>\n",
       "      <td>YES</td>\n",
       "    </tr>\n",
       "    <tr>\n",
       "      <th>2</th>\n",
       "      <td>F</td>\n",
       "      <td>59</td>\n",
       "      <td>1</td>\n",
       "      <td>1</td>\n",
       "      <td>1</td>\n",
       "      <td>2</td>\n",
       "      <td>1</td>\n",
       "      <td>2</td>\n",
       "      <td>1</td>\n",
       "      <td>2</td>\n",
       "      <td>1</td>\n",
       "      <td>2</td>\n",
       "      <td>2</td>\n",
       "      <td>1</td>\n",
       "      <td>2</td>\n",
       "      <td>NO</td>\n",
       "    </tr>\n",
       "    <tr>\n",
       "      <th>3</th>\n",
       "      <td>M</td>\n",
       "      <td>63</td>\n",
       "      <td>2</td>\n",
       "      <td>2</td>\n",
       "      <td>2</td>\n",
       "      <td>1</td>\n",
       "      <td>1</td>\n",
       "      <td>1</td>\n",
       "      <td>1</td>\n",
       "      <td>1</td>\n",
       "      <td>2</td>\n",
       "      <td>1</td>\n",
       "      <td>1</td>\n",
       "      <td>2</td>\n",
       "      <td>2</td>\n",
       "      <td>NO</td>\n",
       "    </tr>\n",
       "    <tr>\n",
       "      <th>4</th>\n",
       "      <td>F</td>\n",
       "      <td>63</td>\n",
       "      <td>1</td>\n",
       "      <td>2</td>\n",
       "      <td>1</td>\n",
       "      <td>1</td>\n",
       "      <td>1</td>\n",
       "      <td>1</td>\n",
       "      <td>1</td>\n",
       "      <td>2</td>\n",
       "      <td>1</td>\n",
       "      <td>2</td>\n",
       "      <td>2</td>\n",
       "      <td>1</td>\n",
       "      <td>1</td>\n",
       "      <td>NO</td>\n",
       "    </tr>\n",
       "    <tr>\n",
       "      <th>...</th>\n",
       "      <td>...</td>\n",
       "      <td>...</td>\n",
       "      <td>...</td>\n",
       "      <td>...</td>\n",
       "      <td>...</td>\n",
       "      <td>...</td>\n",
       "      <td>...</td>\n",
       "      <td>...</td>\n",
       "      <td>...</td>\n",
       "      <td>...</td>\n",
       "      <td>...</td>\n",
       "      <td>...</td>\n",
       "      <td>...</td>\n",
       "      <td>...</td>\n",
       "      <td>...</td>\n",
       "      <td>...</td>\n",
       "    </tr>\n",
       "    <tr>\n",
       "      <th>304</th>\n",
       "      <td>F</td>\n",
       "      <td>56</td>\n",
       "      <td>1</td>\n",
       "      <td>1</td>\n",
       "      <td>1</td>\n",
       "      <td>2</td>\n",
       "      <td>2</td>\n",
       "      <td>2</td>\n",
       "      <td>1</td>\n",
       "      <td>1</td>\n",
       "      <td>2</td>\n",
       "      <td>2</td>\n",
       "      <td>2</td>\n",
       "      <td>2</td>\n",
       "      <td>1</td>\n",
       "      <td>YES</td>\n",
       "    </tr>\n",
       "    <tr>\n",
       "      <th>305</th>\n",
       "      <td>M</td>\n",
       "      <td>70</td>\n",
       "      <td>2</td>\n",
       "      <td>1</td>\n",
       "      <td>1</td>\n",
       "      <td>1</td>\n",
       "      <td>1</td>\n",
       "      <td>2</td>\n",
       "      <td>2</td>\n",
       "      <td>2</td>\n",
       "      <td>2</td>\n",
       "      <td>2</td>\n",
       "      <td>2</td>\n",
       "      <td>1</td>\n",
       "      <td>2</td>\n",
       "      <td>YES</td>\n",
       "    </tr>\n",
       "    <tr>\n",
       "      <th>306</th>\n",
       "      <td>M</td>\n",
       "      <td>58</td>\n",
       "      <td>2</td>\n",
       "      <td>1</td>\n",
       "      <td>1</td>\n",
       "      <td>1</td>\n",
       "      <td>1</td>\n",
       "      <td>1</td>\n",
       "      <td>2</td>\n",
       "      <td>2</td>\n",
       "      <td>2</td>\n",
       "      <td>2</td>\n",
       "      <td>1</td>\n",
       "      <td>1</td>\n",
       "      <td>2</td>\n",
       "      <td>YES</td>\n",
       "    </tr>\n",
       "    <tr>\n",
       "      <th>307</th>\n",
       "      <td>M</td>\n",
       "      <td>67</td>\n",
       "      <td>2</td>\n",
       "      <td>1</td>\n",
       "      <td>2</td>\n",
       "      <td>1</td>\n",
       "      <td>1</td>\n",
       "      <td>2</td>\n",
       "      <td>2</td>\n",
       "      <td>1</td>\n",
       "      <td>2</td>\n",
       "      <td>2</td>\n",
       "      <td>2</td>\n",
       "      <td>1</td>\n",
       "      <td>2</td>\n",
       "      <td>YES</td>\n",
       "    </tr>\n",
       "    <tr>\n",
       "      <th>308</th>\n",
       "      <td>M</td>\n",
       "      <td>62</td>\n",
       "      <td>1</td>\n",
       "      <td>1</td>\n",
       "      <td>1</td>\n",
       "      <td>2</td>\n",
       "      <td>1</td>\n",
       "      <td>2</td>\n",
       "      <td>2</td>\n",
       "      <td>2</td>\n",
       "      <td>2</td>\n",
       "      <td>1</td>\n",
       "      <td>1</td>\n",
       "      <td>2</td>\n",
       "      <td>1</td>\n",
       "      <td>YES</td>\n",
       "    </tr>\n",
       "  </tbody>\n",
       "</table>\n",
       "<p>309 rows × 16 columns</p>\n",
       "</div>"
      ],
      "text/plain": [
       "    GENDER  AGE  SMOKING  YELLOW_FINGERS  ANXIETY  PEER_PRESSURE  \\\n",
       "0        M   69        1               2        2              1   \n",
       "1        M   74        2               1        1              1   \n",
       "2        F   59        1               1        1              2   \n",
       "3        M   63        2               2        2              1   \n",
       "4        F   63        1               2        1              1   \n",
       "..     ...  ...      ...             ...      ...            ...   \n",
       "304      F   56        1               1        1              2   \n",
       "305      M   70        2               1        1              1   \n",
       "306      M   58        2               1        1              1   \n",
       "307      M   67        2               1        2              1   \n",
       "308      M   62        1               1        1              2   \n",
       "\n",
       "     CHRONIC DISEASE  FATIGUE   ALLERGY   WHEEZING  ALCOHOL CONSUMING  \\\n",
       "0                  1         2         1         2                  2   \n",
       "1                  2         2         2         1                  1   \n",
       "2                  1         2         1         2                  1   \n",
       "3                  1         1         1         1                  2   \n",
       "4                  1         1         1         2                  1   \n",
       "..               ...       ...       ...       ...                ...   \n",
       "304                2         2         1         1                  2   \n",
       "305                1         2         2         2                  2   \n",
       "306                1         1         2         2                  2   \n",
       "307                1         2         2         1                  2   \n",
       "308                1         2         2         2                  2   \n",
       "\n",
       "     COUGHING  SHORTNESS OF BREATH  SWALLOWING DIFFICULTY  CHEST PAIN  \\\n",
       "0           2                    2                      2           2   \n",
       "1           1                    2                      2           2   \n",
       "2           2                    2                      1           2   \n",
       "3           1                    1                      2           2   \n",
       "4           2                    2                      1           1   \n",
       "..        ...                  ...                    ...         ...   \n",
       "304         2                    2                      2           1   \n",
       "305         2                    2                      1           2   \n",
       "306         2                    1                      1           2   \n",
       "307         2                    2                      1           2   \n",
       "308         1                    1                      2           1   \n",
       "\n",
       "    LUNG_CANCER  \n",
       "0           YES  \n",
       "1           YES  \n",
       "2            NO  \n",
       "3            NO  \n",
       "4            NO  \n",
       "..          ...  \n",
       "304         YES  \n",
       "305         YES  \n",
       "306         YES  \n",
       "307         YES  \n",
       "308         YES  \n",
       "\n",
       "[309 rows x 16 columns]"
      ]
     },
     "execution_count": 3,
     "metadata": {},
     "output_type": "execute_result"
    }
   ],
   "source": [
    "df"
   ]
  },
  {
   "cell_type": "markdown",
   "id": "25c10aa9",
   "metadata": {},
   "source": [
    "#### Step 1. Preparing the data:\n",
    "* Shape\n",
    "* Attributes \n",
    "* information of data\n",
    "* index \n",
    "* Dimensions of the data\n",
    "* Size of the data\n",
    "* To know a rough about the data roughly,\n",
    "** Statistics and pairplot "
   ]
  },
  {
   "cell_type": "code",
   "execution_count": 4,
   "id": "259fc8d4",
   "metadata": {},
   "outputs": [
    {
     "name": "stdout",
     "output_type": "stream",
     "text": [
      "<class 'pandas.core.frame.DataFrame'>\n",
      "RangeIndex: 309 entries, 0 to 308\n",
      "Data columns (total 16 columns):\n",
      " #   Column                 Non-Null Count  Dtype \n",
      "---  ------                 --------------  ----- \n",
      " 0   GENDER                 309 non-null    object\n",
      " 1   AGE                    309 non-null    int64 \n",
      " 2   SMOKING                309 non-null    int64 \n",
      " 3   YELLOW_FINGERS         309 non-null    int64 \n",
      " 4   ANXIETY                309 non-null    int64 \n",
      " 5   PEER_PRESSURE          309 non-null    int64 \n",
      " 6   CHRONIC DISEASE        309 non-null    int64 \n",
      " 7   FATIGUE                309 non-null    int64 \n",
      " 8   ALLERGY                309 non-null    int64 \n",
      " 9   WHEEZING               309 non-null    int64 \n",
      " 10  ALCOHOL CONSUMING      309 non-null    int64 \n",
      " 11  COUGHING               309 non-null    int64 \n",
      " 12  SHORTNESS OF BREATH    309 non-null    int64 \n",
      " 13  SWALLOWING DIFFICULTY  309 non-null    int64 \n",
      " 14  CHEST PAIN             309 non-null    int64 \n",
      " 15  LUNG_CANCER            309 non-null    object\n",
      "dtypes: int64(14), object(2)\n",
      "memory usage: 38.8+ KB\n"
     ]
    }
   ],
   "source": [
    "df.info()"
   ]
  },
  {
   "cell_type": "code",
   "execution_count": 5,
   "id": "0541e7ca",
   "metadata": {},
   "outputs": [
    {
     "data": {
      "text/plain": [
       "Index(['GENDER', 'AGE', 'SMOKING', 'YELLOW_FINGERS', 'ANXIETY',\n",
       "       'PEER_PRESSURE', 'CHRONIC DISEASE', 'FATIGUE ', 'ALLERGY ', 'WHEEZING',\n",
       "       'ALCOHOL CONSUMING', 'COUGHING', 'SHORTNESS OF BREATH',\n",
       "       'SWALLOWING DIFFICULTY', 'CHEST PAIN', 'LUNG_CANCER'],\n",
       "      dtype='object')"
      ]
     },
     "execution_count": 5,
     "metadata": {},
     "output_type": "execute_result"
    }
   ],
   "source": [
    "df.columns"
   ]
  },
  {
   "cell_type": "code",
   "execution_count": 6,
   "id": "201f0f21",
   "metadata": {},
   "outputs": [
    {
     "data": {
      "text/plain": [
       "GENDER                   object\n",
       "AGE                       int64\n",
       "SMOKING                   int64\n",
       "YELLOW_FINGERS            int64\n",
       "ANXIETY                   int64\n",
       "PEER_PRESSURE             int64\n",
       "CHRONIC DISEASE           int64\n",
       "FATIGUE                   int64\n",
       "ALLERGY                   int64\n",
       "WHEEZING                  int64\n",
       "ALCOHOL CONSUMING         int64\n",
       "COUGHING                  int64\n",
       "SHORTNESS OF BREATH       int64\n",
       "SWALLOWING DIFFICULTY     int64\n",
       "CHEST PAIN                int64\n",
       "LUNG_CANCER              object\n",
       "dtype: object"
      ]
     },
     "execution_count": 6,
     "metadata": {},
     "output_type": "execute_result"
    }
   ],
   "source": [
    "df.dtypes\n"
   ]
  },
  {
   "cell_type": "code",
   "execution_count": 7,
   "id": "16a40086",
   "metadata": {},
   "outputs": [
    {
     "data": {
      "text/plain": [
       "(309, 16)"
      ]
     },
     "execution_count": 7,
     "metadata": {},
     "output_type": "execute_result"
    }
   ],
   "source": [
    "df.shape"
   ]
  },
  {
   "cell_type": "code",
   "execution_count": 8,
   "id": "fbb857ec",
   "metadata": {},
   "outputs": [
    {
     "data": {
      "text/plain": [
       "4944"
      ]
     },
     "execution_count": 8,
     "metadata": {},
     "output_type": "execute_result"
    }
   ],
   "source": [
    "df.size"
   ]
  },
  {
   "cell_type": "code",
   "execution_count": 9,
   "id": "bdc4894b",
   "metadata": {},
   "outputs": [
    {
     "data": {
      "text/plain": [
       "RangeIndex(start=0, stop=309, step=1)"
      ]
     },
     "execution_count": 9,
     "metadata": {},
     "output_type": "execute_result"
    }
   ],
   "source": [
    "df.index"
   ]
  },
  {
   "cell_type": "code",
   "execution_count": 10,
   "id": "af40386e",
   "metadata": {},
   "outputs": [
    {
     "data": {
      "text/plain": [
       "2"
      ]
     },
     "execution_count": 10,
     "metadata": {},
     "output_type": "execute_result"
    }
   ],
   "source": [
    "df.ndim"
   ]
  },
  {
   "cell_type": "code",
   "execution_count": 11,
   "id": "76e9ba2f",
   "metadata": {},
   "outputs": [
    {
     "data": {
      "text/plain": [
       "GENDER                   0\n",
       "AGE                      0\n",
       "SMOKING                  0\n",
       "YELLOW_FINGERS           0\n",
       "ANXIETY                  0\n",
       "PEER_PRESSURE            0\n",
       "CHRONIC DISEASE          0\n",
       "FATIGUE                  0\n",
       "ALLERGY                  0\n",
       "WHEEZING                 0\n",
       "ALCOHOL CONSUMING        0\n",
       "COUGHING                 0\n",
       "SHORTNESS OF BREATH      0\n",
       "SWALLOWING DIFFICULTY    0\n",
       "CHEST PAIN               0\n",
       "LUNG_CANCER              0\n",
       "dtype: int64"
      ]
     },
     "execution_count": 11,
     "metadata": {},
     "output_type": "execute_result"
    }
   ],
   "source": [
    "df.isna().sum()"
   ]
  },
  {
   "cell_type": "code",
   "execution_count": 12,
   "id": "7b57ac52",
   "metadata": {
    "scrolled": true
   },
   "outputs": [
    {
     "data": {
      "text/html": [
       "<div>\n",
       "<style scoped>\n",
       "    .dataframe tbody tr th:only-of-type {\n",
       "        vertical-align: middle;\n",
       "    }\n",
       "\n",
       "    .dataframe tbody tr th {\n",
       "        vertical-align: top;\n",
       "    }\n",
       "\n",
       "    .dataframe thead th {\n",
       "        text-align: right;\n",
       "    }\n",
       "</style>\n",
       "<table border=\"1\" class=\"dataframe\">\n",
       "  <thead>\n",
       "    <tr style=\"text-align: right;\">\n",
       "      <th></th>\n",
       "      <th>AGE</th>\n",
       "      <th>SMOKING</th>\n",
       "      <th>YELLOW_FINGERS</th>\n",
       "      <th>ANXIETY</th>\n",
       "      <th>PEER_PRESSURE</th>\n",
       "      <th>CHRONIC DISEASE</th>\n",
       "      <th>FATIGUE</th>\n",
       "      <th>ALLERGY</th>\n",
       "      <th>WHEEZING</th>\n",
       "      <th>ALCOHOL CONSUMING</th>\n",
       "      <th>COUGHING</th>\n",
       "      <th>SHORTNESS OF BREATH</th>\n",
       "      <th>SWALLOWING DIFFICULTY</th>\n",
       "      <th>CHEST PAIN</th>\n",
       "    </tr>\n",
       "  </thead>\n",
       "  <tbody>\n",
       "    <tr>\n",
       "      <th>count</th>\n",
       "      <td>309.000000</td>\n",
       "      <td>309.000000</td>\n",
       "      <td>309.000000</td>\n",
       "      <td>309.000000</td>\n",
       "      <td>309.000000</td>\n",
       "      <td>309.000000</td>\n",
       "      <td>309.000000</td>\n",
       "      <td>309.000000</td>\n",
       "      <td>309.000000</td>\n",
       "      <td>309.000000</td>\n",
       "      <td>309.000000</td>\n",
       "      <td>309.000000</td>\n",
       "      <td>309.000000</td>\n",
       "      <td>309.000000</td>\n",
       "    </tr>\n",
       "    <tr>\n",
       "      <th>mean</th>\n",
       "      <td>62.673139</td>\n",
       "      <td>1.563107</td>\n",
       "      <td>1.569579</td>\n",
       "      <td>1.498382</td>\n",
       "      <td>1.501618</td>\n",
       "      <td>1.504854</td>\n",
       "      <td>1.673139</td>\n",
       "      <td>1.556634</td>\n",
       "      <td>1.556634</td>\n",
       "      <td>1.556634</td>\n",
       "      <td>1.579288</td>\n",
       "      <td>1.640777</td>\n",
       "      <td>1.469256</td>\n",
       "      <td>1.556634</td>\n",
       "    </tr>\n",
       "    <tr>\n",
       "      <th>std</th>\n",
       "      <td>8.210301</td>\n",
       "      <td>0.496806</td>\n",
       "      <td>0.495938</td>\n",
       "      <td>0.500808</td>\n",
       "      <td>0.500808</td>\n",
       "      <td>0.500787</td>\n",
       "      <td>0.469827</td>\n",
       "      <td>0.497588</td>\n",
       "      <td>0.497588</td>\n",
       "      <td>0.497588</td>\n",
       "      <td>0.494474</td>\n",
       "      <td>0.480551</td>\n",
       "      <td>0.499863</td>\n",
       "      <td>0.497588</td>\n",
       "    </tr>\n",
       "    <tr>\n",
       "      <th>min</th>\n",
       "      <td>21.000000</td>\n",
       "      <td>1.000000</td>\n",
       "      <td>1.000000</td>\n",
       "      <td>1.000000</td>\n",
       "      <td>1.000000</td>\n",
       "      <td>1.000000</td>\n",
       "      <td>1.000000</td>\n",
       "      <td>1.000000</td>\n",
       "      <td>1.000000</td>\n",
       "      <td>1.000000</td>\n",
       "      <td>1.000000</td>\n",
       "      <td>1.000000</td>\n",
       "      <td>1.000000</td>\n",
       "      <td>1.000000</td>\n",
       "    </tr>\n",
       "    <tr>\n",
       "      <th>25%</th>\n",
       "      <td>57.000000</td>\n",
       "      <td>1.000000</td>\n",
       "      <td>1.000000</td>\n",
       "      <td>1.000000</td>\n",
       "      <td>1.000000</td>\n",
       "      <td>1.000000</td>\n",
       "      <td>1.000000</td>\n",
       "      <td>1.000000</td>\n",
       "      <td>1.000000</td>\n",
       "      <td>1.000000</td>\n",
       "      <td>1.000000</td>\n",
       "      <td>1.000000</td>\n",
       "      <td>1.000000</td>\n",
       "      <td>1.000000</td>\n",
       "    </tr>\n",
       "    <tr>\n",
       "      <th>50%</th>\n",
       "      <td>62.000000</td>\n",
       "      <td>2.000000</td>\n",
       "      <td>2.000000</td>\n",
       "      <td>1.000000</td>\n",
       "      <td>2.000000</td>\n",
       "      <td>2.000000</td>\n",
       "      <td>2.000000</td>\n",
       "      <td>2.000000</td>\n",
       "      <td>2.000000</td>\n",
       "      <td>2.000000</td>\n",
       "      <td>2.000000</td>\n",
       "      <td>2.000000</td>\n",
       "      <td>1.000000</td>\n",
       "      <td>2.000000</td>\n",
       "    </tr>\n",
       "    <tr>\n",
       "      <th>75%</th>\n",
       "      <td>69.000000</td>\n",
       "      <td>2.000000</td>\n",
       "      <td>2.000000</td>\n",
       "      <td>2.000000</td>\n",
       "      <td>2.000000</td>\n",
       "      <td>2.000000</td>\n",
       "      <td>2.000000</td>\n",
       "      <td>2.000000</td>\n",
       "      <td>2.000000</td>\n",
       "      <td>2.000000</td>\n",
       "      <td>2.000000</td>\n",
       "      <td>2.000000</td>\n",
       "      <td>2.000000</td>\n",
       "      <td>2.000000</td>\n",
       "    </tr>\n",
       "    <tr>\n",
       "      <th>max</th>\n",
       "      <td>87.000000</td>\n",
       "      <td>2.000000</td>\n",
       "      <td>2.000000</td>\n",
       "      <td>2.000000</td>\n",
       "      <td>2.000000</td>\n",
       "      <td>2.000000</td>\n",
       "      <td>2.000000</td>\n",
       "      <td>2.000000</td>\n",
       "      <td>2.000000</td>\n",
       "      <td>2.000000</td>\n",
       "      <td>2.000000</td>\n",
       "      <td>2.000000</td>\n",
       "      <td>2.000000</td>\n",
       "      <td>2.000000</td>\n",
       "    </tr>\n",
       "  </tbody>\n",
       "</table>\n",
       "</div>"
      ],
      "text/plain": [
       "              AGE     SMOKING  YELLOW_FINGERS     ANXIETY  PEER_PRESSURE  \\\n",
       "count  309.000000  309.000000      309.000000  309.000000     309.000000   \n",
       "mean    62.673139    1.563107        1.569579    1.498382       1.501618   \n",
       "std      8.210301    0.496806        0.495938    0.500808       0.500808   \n",
       "min     21.000000    1.000000        1.000000    1.000000       1.000000   \n",
       "25%     57.000000    1.000000        1.000000    1.000000       1.000000   \n",
       "50%     62.000000    2.000000        2.000000    1.000000       2.000000   \n",
       "75%     69.000000    2.000000        2.000000    2.000000       2.000000   \n",
       "max     87.000000    2.000000        2.000000    2.000000       2.000000   \n",
       "\n",
       "       CHRONIC DISEASE    FATIGUE     ALLERGY     WHEEZING  ALCOHOL CONSUMING  \\\n",
       "count       309.000000  309.000000  309.000000  309.000000         309.000000   \n",
       "mean          1.504854    1.673139    1.556634    1.556634           1.556634   \n",
       "std           0.500787    0.469827    0.497588    0.497588           0.497588   \n",
       "min           1.000000    1.000000    1.000000    1.000000           1.000000   \n",
       "25%           1.000000    1.000000    1.000000    1.000000           1.000000   \n",
       "50%           2.000000    2.000000    2.000000    2.000000           2.000000   \n",
       "75%           2.000000    2.000000    2.000000    2.000000           2.000000   \n",
       "max           2.000000    2.000000    2.000000    2.000000           2.000000   \n",
       "\n",
       "         COUGHING  SHORTNESS OF BREATH  SWALLOWING DIFFICULTY  CHEST PAIN  \n",
       "count  309.000000           309.000000             309.000000  309.000000  \n",
       "mean     1.579288             1.640777               1.469256    1.556634  \n",
       "std      0.494474             0.480551               0.499863    0.497588  \n",
       "min      1.000000             1.000000               1.000000    1.000000  \n",
       "25%      1.000000             1.000000               1.000000    1.000000  \n",
       "50%      2.000000             2.000000               1.000000    2.000000  \n",
       "75%      2.000000             2.000000               2.000000    2.000000  \n",
       "max      2.000000             2.000000               2.000000    2.000000  "
      ]
     },
     "execution_count": 12,
     "metadata": {},
     "output_type": "execute_result"
    }
   ],
   "source": [
    "df.describe()"
   ]
  },
  {
   "cell_type": "code",
   "execution_count": 13,
   "id": "d0173da1",
   "metadata": {
    "scrolled": true
   },
   "outputs": [
    {
     "data": {
      "text/html": [
       "<div>\n",
       "<style scoped>\n",
       "    .dataframe tbody tr th:only-of-type {\n",
       "        vertical-align: middle;\n",
       "    }\n",
       "\n",
       "    .dataframe tbody tr th {\n",
       "        vertical-align: top;\n",
       "    }\n",
       "\n",
       "    .dataframe thead th {\n",
       "        text-align: right;\n",
       "    }\n",
       "</style>\n",
       "<table border=\"1\" class=\"dataframe\">\n",
       "  <thead>\n",
       "    <tr style=\"text-align: right;\">\n",
       "      <th></th>\n",
       "      <th>AGE</th>\n",
       "      <th>SMOKING</th>\n",
       "      <th>YELLOW_FINGERS</th>\n",
       "      <th>ANXIETY</th>\n",
       "      <th>PEER_PRESSURE</th>\n",
       "      <th>CHRONIC DISEASE</th>\n",
       "      <th>FATIGUE</th>\n",
       "      <th>ALLERGY</th>\n",
       "      <th>WHEEZING</th>\n",
       "      <th>ALCOHOL CONSUMING</th>\n",
       "      <th>COUGHING</th>\n",
       "      <th>SHORTNESS OF BREATH</th>\n",
       "      <th>SWALLOWING DIFFICULTY</th>\n",
       "      <th>CHEST PAIN</th>\n",
       "    </tr>\n",
       "  </thead>\n",
       "  <tbody>\n",
       "    <tr>\n",
       "      <th>AGE</th>\n",
       "      <td>1.000000</td>\n",
       "      <td>-0.084475</td>\n",
       "      <td>0.005205</td>\n",
       "      <td>0.053170</td>\n",
       "      <td>0.018685</td>\n",
       "      <td>-0.012642</td>\n",
       "      <td>0.012614</td>\n",
       "      <td>0.027990</td>\n",
       "      <td>0.055011</td>\n",
       "      <td>0.058985</td>\n",
       "      <td>0.169950</td>\n",
       "      <td>-0.017513</td>\n",
       "      <td>-0.001270</td>\n",
       "      <td>-0.018104</td>\n",
       "    </tr>\n",
       "    <tr>\n",
       "      <th>SMOKING</th>\n",
       "      <td>-0.084475</td>\n",
       "      <td>1.000000</td>\n",
       "      <td>-0.014585</td>\n",
       "      <td>0.160267</td>\n",
       "      <td>-0.042822</td>\n",
       "      <td>-0.141522</td>\n",
       "      <td>-0.029575</td>\n",
       "      <td>0.001913</td>\n",
       "      <td>-0.129426</td>\n",
       "      <td>-0.050623</td>\n",
       "      <td>-0.129471</td>\n",
       "      <td>0.061264</td>\n",
       "      <td>0.030718</td>\n",
       "      <td>0.120117</td>\n",
       "    </tr>\n",
       "    <tr>\n",
       "      <th>YELLOW_FINGERS</th>\n",
       "      <td>0.005205</td>\n",
       "      <td>-0.014585</td>\n",
       "      <td>1.000000</td>\n",
       "      <td>0.565829</td>\n",
       "      <td>0.323083</td>\n",
       "      <td>0.041122</td>\n",
       "      <td>-0.118058</td>\n",
       "      <td>-0.144300</td>\n",
       "      <td>-0.078515</td>\n",
       "      <td>-0.289025</td>\n",
       "      <td>-0.012640</td>\n",
       "      <td>-0.105944</td>\n",
       "      <td>0.345904</td>\n",
       "      <td>-0.104829</td>\n",
       "    </tr>\n",
       "    <tr>\n",
       "      <th>ANXIETY</th>\n",
       "      <td>0.053170</td>\n",
       "      <td>0.160267</td>\n",
       "      <td>0.565829</td>\n",
       "      <td>1.000000</td>\n",
       "      <td>0.216841</td>\n",
       "      <td>-0.009678</td>\n",
       "      <td>-0.188538</td>\n",
       "      <td>-0.165750</td>\n",
       "      <td>-0.191807</td>\n",
       "      <td>-0.165750</td>\n",
       "      <td>-0.225644</td>\n",
       "      <td>-0.144077</td>\n",
       "      <td>0.489403</td>\n",
       "      <td>-0.113634</td>\n",
       "    </tr>\n",
       "    <tr>\n",
       "      <th>PEER_PRESSURE</th>\n",
       "      <td>0.018685</td>\n",
       "      <td>-0.042822</td>\n",
       "      <td>0.323083</td>\n",
       "      <td>0.216841</td>\n",
       "      <td>1.000000</td>\n",
       "      <td>0.048515</td>\n",
       "      <td>0.078148</td>\n",
       "      <td>-0.081800</td>\n",
       "      <td>-0.068771</td>\n",
       "      <td>-0.159973</td>\n",
       "      <td>-0.089019</td>\n",
       "      <td>-0.220175</td>\n",
       "      <td>0.366590</td>\n",
       "      <td>-0.094828</td>\n",
       "    </tr>\n",
       "    <tr>\n",
       "      <th>CHRONIC DISEASE</th>\n",
       "      <td>-0.012642</td>\n",
       "      <td>-0.141522</td>\n",
       "      <td>0.041122</td>\n",
       "      <td>-0.009678</td>\n",
       "      <td>0.048515</td>\n",
       "      <td>1.000000</td>\n",
       "      <td>-0.110529</td>\n",
       "      <td>0.106386</td>\n",
       "      <td>-0.049967</td>\n",
       "      <td>0.002150</td>\n",
       "      <td>-0.175287</td>\n",
       "      <td>-0.026459</td>\n",
       "      <td>0.075176</td>\n",
       "      <td>-0.036938</td>\n",
       "    </tr>\n",
       "    <tr>\n",
       "      <th>FATIGUE</th>\n",
       "      <td>0.012614</td>\n",
       "      <td>-0.029575</td>\n",
       "      <td>-0.118058</td>\n",
       "      <td>-0.188538</td>\n",
       "      <td>0.078148</td>\n",
       "      <td>-0.110529</td>\n",
       "      <td>1.000000</td>\n",
       "      <td>0.003056</td>\n",
       "      <td>0.141937</td>\n",
       "      <td>-0.191377</td>\n",
       "      <td>0.146856</td>\n",
       "      <td>0.441745</td>\n",
       "      <td>-0.132790</td>\n",
       "      <td>-0.010832</td>\n",
       "    </tr>\n",
       "    <tr>\n",
       "      <th>ALLERGY</th>\n",
       "      <td>0.027990</td>\n",
       "      <td>0.001913</td>\n",
       "      <td>-0.144300</td>\n",
       "      <td>-0.165750</td>\n",
       "      <td>-0.081800</td>\n",
       "      <td>0.106386</td>\n",
       "      <td>0.003056</td>\n",
       "      <td>1.000000</td>\n",
       "      <td>0.173867</td>\n",
       "      <td>0.344339</td>\n",
       "      <td>0.189524</td>\n",
       "      <td>-0.030056</td>\n",
       "      <td>-0.061508</td>\n",
       "      <td>0.239433</td>\n",
       "    </tr>\n",
       "    <tr>\n",
       "      <th>WHEEZING</th>\n",
       "      <td>0.055011</td>\n",
       "      <td>-0.129426</td>\n",
       "      <td>-0.078515</td>\n",
       "      <td>-0.191807</td>\n",
       "      <td>-0.068771</td>\n",
       "      <td>-0.049967</td>\n",
       "      <td>0.141937</td>\n",
       "      <td>0.173867</td>\n",
       "      <td>1.000000</td>\n",
       "      <td>0.265659</td>\n",
       "      <td>0.374265</td>\n",
       "      <td>0.037834</td>\n",
       "      <td>0.069027</td>\n",
       "      <td>0.147640</td>\n",
       "    </tr>\n",
       "    <tr>\n",
       "      <th>ALCOHOL CONSUMING</th>\n",
       "      <td>0.058985</td>\n",
       "      <td>-0.050623</td>\n",
       "      <td>-0.289025</td>\n",
       "      <td>-0.165750</td>\n",
       "      <td>-0.159973</td>\n",
       "      <td>0.002150</td>\n",
       "      <td>-0.191377</td>\n",
       "      <td>0.344339</td>\n",
       "      <td>0.265659</td>\n",
       "      <td>1.000000</td>\n",
       "      <td>0.202720</td>\n",
       "      <td>-0.179416</td>\n",
       "      <td>-0.009294</td>\n",
       "      <td>0.331226</td>\n",
       "    </tr>\n",
       "    <tr>\n",
       "      <th>COUGHING</th>\n",
       "      <td>0.169950</td>\n",
       "      <td>-0.129471</td>\n",
       "      <td>-0.012640</td>\n",
       "      <td>-0.225644</td>\n",
       "      <td>-0.089019</td>\n",
       "      <td>-0.175287</td>\n",
       "      <td>0.146856</td>\n",
       "      <td>0.189524</td>\n",
       "      <td>0.374265</td>\n",
       "      <td>0.202720</td>\n",
       "      <td>1.000000</td>\n",
       "      <td>0.277385</td>\n",
       "      <td>-0.157586</td>\n",
       "      <td>0.083958</td>\n",
       "    </tr>\n",
       "    <tr>\n",
       "      <th>SHORTNESS OF BREATH</th>\n",
       "      <td>-0.017513</td>\n",
       "      <td>0.061264</td>\n",
       "      <td>-0.105944</td>\n",
       "      <td>-0.144077</td>\n",
       "      <td>-0.220175</td>\n",
       "      <td>-0.026459</td>\n",
       "      <td>0.441745</td>\n",
       "      <td>-0.030056</td>\n",
       "      <td>0.037834</td>\n",
       "      <td>-0.179416</td>\n",
       "      <td>0.277385</td>\n",
       "      <td>1.000000</td>\n",
       "      <td>-0.161015</td>\n",
       "      <td>0.024256</td>\n",
       "    </tr>\n",
       "    <tr>\n",
       "      <th>SWALLOWING DIFFICULTY</th>\n",
       "      <td>-0.001270</td>\n",
       "      <td>0.030718</td>\n",
       "      <td>0.345904</td>\n",
       "      <td>0.489403</td>\n",
       "      <td>0.366590</td>\n",
       "      <td>0.075176</td>\n",
       "      <td>-0.132790</td>\n",
       "      <td>-0.061508</td>\n",
       "      <td>0.069027</td>\n",
       "      <td>-0.009294</td>\n",
       "      <td>-0.157586</td>\n",
       "      <td>-0.161015</td>\n",
       "      <td>1.000000</td>\n",
       "      <td>0.069027</td>\n",
       "    </tr>\n",
       "    <tr>\n",
       "      <th>CHEST PAIN</th>\n",
       "      <td>-0.018104</td>\n",
       "      <td>0.120117</td>\n",
       "      <td>-0.104829</td>\n",
       "      <td>-0.113634</td>\n",
       "      <td>-0.094828</td>\n",
       "      <td>-0.036938</td>\n",
       "      <td>-0.010832</td>\n",
       "      <td>0.239433</td>\n",
       "      <td>0.147640</td>\n",
       "      <td>0.331226</td>\n",
       "      <td>0.083958</td>\n",
       "      <td>0.024256</td>\n",
       "      <td>0.069027</td>\n",
       "      <td>1.000000</td>\n",
       "    </tr>\n",
       "  </tbody>\n",
       "</table>\n",
       "</div>"
      ],
      "text/plain": [
       "                            AGE   SMOKING  YELLOW_FINGERS   ANXIETY  \\\n",
       "AGE                    1.000000 -0.084475        0.005205  0.053170   \n",
       "SMOKING               -0.084475  1.000000       -0.014585  0.160267   \n",
       "YELLOW_FINGERS         0.005205 -0.014585        1.000000  0.565829   \n",
       "ANXIETY                0.053170  0.160267        0.565829  1.000000   \n",
       "PEER_PRESSURE          0.018685 -0.042822        0.323083  0.216841   \n",
       "CHRONIC DISEASE       -0.012642 -0.141522        0.041122 -0.009678   \n",
       "FATIGUE                0.012614 -0.029575       -0.118058 -0.188538   \n",
       "ALLERGY                0.027990  0.001913       -0.144300 -0.165750   \n",
       "WHEEZING               0.055011 -0.129426       -0.078515 -0.191807   \n",
       "ALCOHOL CONSUMING      0.058985 -0.050623       -0.289025 -0.165750   \n",
       "COUGHING               0.169950 -0.129471       -0.012640 -0.225644   \n",
       "SHORTNESS OF BREATH   -0.017513  0.061264       -0.105944 -0.144077   \n",
       "SWALLOWING DIFFICULTY -0.001270  0.030718        0.345904  0.489403   \n",
       "CHEST PAIN            -0.018104  0.120117       -0.104829 -0.113634   \n",
       "\n",
       "                       PEER_PRESSURE  CHRONIC DISEASE  FATIGUE   ALLERGY   \\\n",
       "AGE                         0.018685        -0.012642  0.012614  0.027990   \n",
       "SMOKING                    -0.042822        -0.141522 -0.029575  0.001913   \n",
       "YELLOW_FINGERS              0.323083         0.041122 -0.118058 -0.144300   \n",
       "ANXIETY                     0.216841        -0.009678 -0.188538 -0.165750   \n",
       "PEER_PRESSURE               1.000000         0.048515  0.078148 -0.081800   \n",
       "CHRONIC DISEASE             0.048515         1.000000 -0.110529  0.106386   \n",
       "FATIGUE                     0.078148        -0.110529  1.000000  0.003056   \n",
       "ALLERGY                    -0.081800         0.106386  0.003056  1.000000   \n",
       "WHEEZING                   -0.068771        -0.049967  0.141937  0.173867   \n",
       "ALCOHOL CONSUMING          -0.159973         0.002150 -0.191377  0.344339   \n",
       "COUGHING                   -0.089019        -0.175287  0.146856  0.189524   \n",
       "SHORTNESS OF BREATH        -0.220175        -0.026459  0.441745 -0.030056   \n",
       "SWALLOWING DIFFICULTY       0.366590         0.075176 -0.132790 -0.061508   \n",
       "CHEST PAIN                 -0.094828        -0.036938 -0.010832  0.239433   \n",
       "\n",
       "                       WHEEZING  ALCOHOL CONSUMING  COUGHING  \\\n",
       "AGE                    0.055011           0.058985  0.169950   \n",
       "SMOKING               -0.129426          -0.050623 -0.129471   \n",
       "YELLOW_FINGERS        -0.078515          -0.289025 -0.012640   \n",
       "ANXIETY               -0.191807          -0.165750 -0.225644   \n",
       "PEER_PRESSURE         -0.068771          -0.159973 -0.089019   \n",
       "CHRONIC DISEASE       -0.049967           0.002150 -0.175287   \n",
       "FATIGUE                0.141937          -0.191377  0.146856   \n",
       "ALLERGY                0.173867           0.344339  0.189524   \n",
       "WHEEZING               1.000000           0.265659  0.374265   \n",
       "ALCOHOL CONSUMING      0.265659           1.000000  0.202720   \n",
       "COUGHING               0.374265           0.202720  1.000000   \n",
       "SHORTNESS OF BREATH    0.037834          -0.179416  0.277385   \n",
       "SWALLOWING DIFFICULTY  0.069027          -0.009294 -0.157586   \n",
       "CHEST PAIN             0.147640           0.331226  0.083958   \n",
       "\n",
       "                       SHORTNESS OF BREATH  SWALLOWING DIFFICULTY  CHEST PAIN  \n",
       "AGE                              -0.017513              -0.001270   -0.018104  \n",
       "SMOKING                           0.061264               0.030718    0.120117  \n",
       "YELLOW_FINGERS                   -0.105944               0.345904   -0.104829  \n",
       "ANXIETY                          -0.144077               0.489403   -0.113634  \n",
       "PEER_PRESSURE                    -0.220175               0.366590   -0.094828  \n",
       "CHRONIC DISEASE                  -0.026459               0.075176   -0.036938  \n",
       "FATIGUE                           0.441745              -0.132790   -0.010832  \n",
       "ALLERGY                          -0.030056              -0.061508    0.239433  \n",
       "WHEEZING                          0.037834               0.069027    0.147640  \n",
       "ALCOHOL CONSUMING                -0.179416              -0.009294    0.331226  \n",
       "COUGHING                          0.277385              -0.157586    0.083958  \n",
       "SHORTNESS OF BREATH               1.000000              -0.161015    0.024256  \n",
       "SWALLOWING DIFFICULTY            -0.161015               1.000000    0.069027  \n",
       "CHEST PAIN                        0.024256               0.069027    1.000000  "
      ]
     },
     "execution_count": 13,
     "metadata": {},
     "output_type": "execute_result"
    }
   ],
   "source": [
    "df.corr()"
   ]
  },
  {
   "cell_type": "code",
   "execution_count": 14,
   "id": "c84a0860",
   "metadata": {
    "scrolled": true
   },
   "outputs": [
    {
     "data": {
      "text/html": [
       "<div>\n",
       "<style scoped>\n",
       "    .dataframe tbody tr th:only-of-type {\n",
       "        vertical-align: middle;\n",
       "    }\n",
       "\n",
       "    .dataframe tbody tr th {\n",
       "        vertical-align: top;\n",
       "    }\n",
       "\n",
       "    .dataframe thead th {\n",
       "        text-align: right;\n",
       "    }\n",
       "</style>\n",
       "<table border=\"1\" class=\"dataframe\">\n",
       "  <thead>\n",
       "    <tr style=\"text-align: right;\">\n",
       "      <th></th>\n",
       "      <th>AGE</th>\n",
       "      <th>SMOKING</th>\n",
       "      <th>YELLOW_FINGERS</th>\n",
       "      <th>ANXIETY</th>\n",
       "      <th>PEER_PRESSURE</th>\n",
       "      <th>CHRONIC DISEASE</th>\n",
       "      <th>FATIGUE</th>\n",
       "      <th>ALLERGY</th>\n",
       "      <th>WHEEZING</th>\n",
       "      <th>ALCOHOL CONSUMING</th>\n",
       "      <th>COUGHING</th>\n",
       "      <th>SHORTNESS OF BREATH</th>\n",
       "      <th>SWALLOWING DIFFICULTY</th>\n",
       "      <th>CHEST PAIN</th>\n",
       "    </tr>\n",
       "  </thead>\n",
       "  <tbody>\n",
       "    <tr>\n",
       "      <th>AGE</th>\n",
       "      <td>67.409049</td>\n",
       "      <td>-0.344566</td>\n",
       "      <td>0.021193</td>\n",
       "      <td>0.218625</td>\n",
       "      <td>0.076829</td>\n",
       "      <td>-0.051980</td>\n",
       "      <td>0.048659</td>\n",
       "      <td>0.114351</td>\n",
       "      <td>0.224740</td>\n",
       "      <td>0.240974</td>\n",
       "      <td>0.689961</td>\n",
       "      <td>-0.069096</td>\n",
       "      <td>-0.005212</td>\n",
       "      <td>-0.073961</td>\n",
       "    </tr>\n",
       "    <tr>\n",
       "      <th>SMOKING</th>\n",
       "      <td>-0.344566</td>\n",
       "      <td>0.246816</td>\n",
       "      <td>-0.003593</td>\n",
       "      <td>0.039875</td>\n",
       "      <td>-0.010654</td>\n",
       "      <td>-0.035210</td>\n",
       "      <td>-0.006903</td>\n",
       "      <td>0.000473</td>\n",
       "      <td>-0.031995</td>\n",
       "      <td>-0.012514</td>\n",
       "      <td>-0.031806</td>\n",
       "      <td>0.014626</td>\n",
       "      <td>0.007628</td>\n",
       "      <td>0.029694</td>\n",
       "    </tr>\n",
       "    <tr>\n",
       "      <th>YELLOW_FINGERS</th>\n",
       "      <td>0.021193</td>\n",
       "      <td>-0.003593</td>\n",
       "      <td>0.245955</td>\n",
       "      <td>0.140535</td>\n",
       "      <td>0.080244</td>\n",
       "      <td>0.010213</td>\n",
       "      <td>-0.027508</td>\n",
       "      <td>-0.035609</td>\n",
       "      <td>-0.019375</td>\n",
       "      <td>-0.071323</td>\n",
       "      <td>-0.003100</td>\n",
       "      <td>-0.025249</td>\n",
       "      <td>0.085750</td>\n",
       "      <td>-0.025869</td>\n",
       "    </tr>\n",
       "    <tr>\n",
       "      <th>ANXIETY</th>\n",
       "      <td>0.218625</td>\n",
       "      <td>0.039875</td>\n",
       "      <td>0.140535</td>\n",
       "      <td>0.250809</td>\n",
       "      <td>0.054386</td>\n",
       "      <td>-0.002427</td>\n",
       "      <td>-0.044362</td>\n",
       "      <td>-0.041304</td>\n",
       "      <td>-0.047798</td>\n",
       "      <td>-0.041304</td>\n",
       "      <td>-0.055878</td>\n",
       "      <td>-0.034674</td>\n",
       "      <td>0.122515</td>\n",
       "      <td>-0.028317</td>\n",
       "    </tr>\n",
       "    <tr>\n",
       "      <th>PEER_PRESSURE</th>\n",
       "      <td>0.076829</td>\n",
       "      <td>-0.010654</td>\n",
       "      <td>0.080244</td>\n",
       "      <td>0.054386</td>\n",
       "      <td>0.250809</td>\n",
       "      <td>0.012167</td>\n",
       "      <td>0.018388</td>\n",
       "      <td>-0.020384</td>\n",
       "      <td>-0.017137</td>\n",
       "      <td>-0.039865</td>\n",
       "      <td>-0.022044</td>\n",
       "      <td>-0.052988</td>\n",
       "      <td>0.091771</td>\n",
       "      <td>-0.023631</td>\n",
       "    </tr>\n",
       "    <tr>\n",
       "      <th>CHRONIC DISEASE</th>\n",
       "      <td>-0.051980</td>\n",
       "      <td>-0.035210</td>\n",
       "      <td>0.010213</td>\n",
       "      <td>-0.002427</td>\n",
       "      <td>0.012167</td>\n",
       "      <td>0.250788</td>\n",
       "      <td>-0.026006</td>\n",
       "      <td>0.026510</td>\n",
       "      <td>-0.012451</td>\n",
       "      <td>0.000536</td>\n",
       "      <td>-0.043406</td>\n",
       "      <td>-0.006367</td>\n",
       "      <td>0.018819</td>\n",
       "      <td>-0.009204</td>\n",
       "    </tr>\n",
       "    <tr>\n",
       "      <th>FATIGUE</th>\n",
       "      <td>0.048659</td>\n",
       "      <td>-0.006903</td>\n",
       "      <td>-0.027508</td>\n",
       "      <td>-0.044362</td>\n",
       "      <td>0.018388</td>\n",
       "      <td>-0.026006</td>\n",
       "      <td>0.220737</td>\n",
       "      <td>0.000714</td>\n",
       "      <td>0.033182</td>\n",
       "      <td>-0.044740</td>\n",
       "      <td>0.034117</td>\n",
       "      <td>0.099735</td>\n",
       "      <td>-0.031186</td>\n",
       "      <td>-0.002532</td>\n",
       "    </tr>\n",
       "    <tr>\n",
       "      <th>ALLERGY</th>\n",
       "      <td>0.114351</td>\n",
       "      <td>0.000473</td>\n",
       "      <td>-0.035609</td>\n",
       "      <td>-0.041304</td>\n",
       "      <td>-0.020384</td>\n",
       "      <td>0.026510</td>\n",
       "      <td>0.000714</td>\n",
       "      <td>0.247594</td>\n",
       "      <td>0.043048</td>\n",
       "      <td>0.085256</td>\n",
       "      <td>0.046631</td>\n",
       "      <td>-0.007187</td>\n",
       "      <td>-0.015299</td>\n",
       "      <td>0.059282</td>\n",
       "    </tr>\n",
       "    <tr>\n",
       "      <th>WHEEZING</th>\n",
       "      <td>0.224740</td>\n",
       "      <td>-0.031995</td>\n",
       "      <td>-0.019375</td>\n",
       "      <td>-0.047798</td>\n",
       "      <td>-0.017137</td>\n",
       "      <td>-0.012451</td>\n",
       "      <td>0.033182</td>\n",
       "      <td>0.043048</td>\n",
       "      <td>0.247594</td>\n",
       "      <td>0.065776</td>\n",
       "      <td>0.092086</td>\n",
       "      <td>0.009047</td>\n",
       "      <td>0.017169</td>\n",
       "      <td>0.036555</td>\n",
       "    </tr>\n",
       "    <tr>\n",
       "      <th>ALCOHOL CONSUMING</th>\n",
       "      <td>0.240974</td>\n",
       "      <td>-0.012514</td>\n",
       "      <td>-0.071323</td>\n",
       "      <td>-0.041304</td>\n",
       "      <td>-0.039865</td>\n",
       "      <td>0.000536</td>\n",
       "      <td>-0.044740</td>\n",
       "      <td>0.085256</td>\n",
       "      <td>0.065776</td>\n",
       "      <td>0.247594</td>\n",
       "      <td>0.049878</td>\n",
       "      <td>-0.042901</td>\n",
       "      <td>-0.002312</td>\n",
       "      <td>0.082009</td>\n",
       "    </tr>\n",
       "    <tr>\n",
       "      <th>COUGHING</th>\n",
       "      <td>0.689961</td>\n",
       "      <td>-0.031806</td>\n",
       "      <td>-0.003100</td>\n",
       "      <td>-0.055878</td>\n",
       "      <td>-0.022044</td>\n",
       "      <td>-0.043406</td>\n",
       "      <td>0.034117</td>\n",
       "      <td>0.046631</td>\n",
       "      <td>0.092086</td>\n",
       "      <td>0.049878</td>\n",
       "      <td>0.244505</td>\n",
       "      <td>0.065912</td>\n",
       "      <td>-0.038951</td>\n",
       "      <td>0.020657</td>\n",
       "    </tr>\n",
       "    <tr>\n",
       "      <th>SHORTNESS OF BREATH</th>\n",
       "      <td>-0.069096</td>\n",
       "      <td>0.014626</td>\n",
       "      <td>-0.025249</td>\n",
       "      <td>-0.034674</td>\n",
       "      <td>-0.052988</td>\n",
       "      <td>-0.006367</td>\n",
       "      <td>0.099735</td>\n",
       "      <td>-0.007187</td>\n",
       "      <td>0.009047</td>\n",
       "      <td>-0.042901</td>\n",
       "      <td>0.065912</td>\n",
       "      <td>0.230929</td>\n",
       "      <td>-0.038677</td>\n",
       "      <td>0.005800</td>\n",
       "    </tr>\n",
       "    <tr>\n",
       "      <th>SWALLOWING DIFFICULTY</th>\n",
       "      <td>-0.005212</td>\n",
       "      <td>0.007628</td>\n",
       "      <td>0.085750</td>\n",
       "      <td>0.122515</td>\n",
       "      <td>0.091771</td>\n",
       "      <td>0.018819</td>\n",
       "      <td>-0.031186</td>\n",
       "      <td>-0.015299</td>\n",
       "      <td>0.017169</td>\n",
       "      <td>-0.002312</td>\n",
       "      <td>-0.038951</td>\n",
       "      <td>-0.038677</td>\n",
       "      <td>0.249863</td>\n",
       "      <td>0.017169</td>\n",
       "    </tr>\n",
       "    <tr>\n",
       "      <th>CHEST PAIN</th>\n",
       "      <td>-0.073961</td>\n",
       "      <td>0.029694</td>\n",
       "      <td>-0.025869</td>\n",
       "      <td>-0.028317</td>\n",
       "      <td>-0.023631</td>\n",
       "      <td>-0.009204</td>\n",
       "      <td>-0.002532</td>\n",
       "      <td>0.059282</td>\n",
       "      <td>0.036555</td>\n",
       "      <td>0.082009</td>\n",
       "      <td>0.020657</td>\n",
       "      <td>0.005800</td>\n",
       "      <td>0.017169</td>\n",
       "      <td>0.247594</td>\n",
       "    </tr>\n",
       "  </tbody>\n",
       "</table>\n",
       "</div>"
      ],
      "text/plain": [
       "                             AGE   SMOKING  YELLOW_FINGERS   ANXIETY  \\\n",
       "AGE                    67.409049 -0.344566        0.021193  0.218625   \n",
       "SMOKING                -0.344566  0.246816       -0.003593  0.039875   \n",
       "YELLOW_FINGERS          0.021193 -0.003593        0.245955  0.140535   \n",
       "ANXIETY                 0.218625  0.039875        0.140535  0.250809   \n",
       "PEER_PRESSURE           0.076829 -0.010654        0.080244  0.054386   \n",
       "CHRONIC DISEASE        -0.051980 -0.035210        0.010213 -0.002427   \n",
       "FATIGUE                 0.048659 -0.006903       -0.027508 -0.044362   \n",
       "ALLERGY                 0.114351  0.000473       -0.035609 -0.041304   \n",
       "WHEEZING                0.224740 -0.031995       -0.019375 -0.047798   \n",
       "ALCOHOL CONSUMING       0.240974 -0.012514       -0.071323 -0.041304   \n",
       "COUGHING                0.689961 -0.031806       -0.003100 -0.055878   \n",
       "SHORTNESS OF BREATH    -0.069096  0.014626       -0.025249 -0.034674   \n",
       "SWALLOWING DIFFICULTY  -0.005212  0.007628        0.085750  0.122515   \n",
       "CHEST PAIN             -0.073961  0.029694       -0.025869 -0.028317   \n",
       "\n",
       "                       PEER_PRESSURE  CHRONIC DISEASE  FATIGUE   ALLERGY   \\\n",
       "AGE                         0.076829        -0.051980  0.048659  0.114351   \n",
       "SMOKING                    -0.010654        -0.035210 -0.006903  0.000473   \n",
       "YELLOW_FINGERS              0.080244         0.010213 -0.027508 -0.035609   \n",
       "ANXIETY                     0.054386        -0.002427 -0.044362 -0.041304   \n",
       "PEER_PRESSURE               0.250809         0.012167  0.018388 -0.020384   \n",
       "CHRONIC DISEASE             0.012167         0.250788 -0.026006  0.026510   \n",
       "FATIGUE                     0.018388        -0.026006  0.220737  0.000714   \n",
       "ALLERGY                    -0.020384         0.026510  0.000714  0.247594   \n",
       "WHEEZING                   -0.017137        -0.012451  0.033182  0.043048   \n",
       "ALCOHOL CONSUMING          -0.039865         0.000536 -0.044740  0.085256   \n",
       "COUGHING                   -0.022044        -0.043406  0.034117  0.046631   \n",
       "SHORTNESS OF BREATH        -0.052988        -0.006367  0.099735 -0.007187   \n",
       "SWALLOWING DIFFICULTY       0.091771         0.018819 -0.031186 -0.015299   \n",
       "CHEST PAIN                 -0.023631        -0.009204 -0.002532  0.059282   \n",
       "\n",
       "                       WHEEZING  ALCOHOL CONSUMING  COUGHING  \\\n",
       "AGE                    0.224740           0.240974  0.689961   \n",
       "SMOKING               -0.031995          -0.012514 -0.031806   \n",
       "YELLOW_FINGERS        -0.019375          -0.071323 -0.003100   \n",
       "ANXIETY               -0.047798          -0.041304 -0.055878   \n",
       "PEER_PRESSURE         -0.017137          -0.039865 -0.022044   \n",
       "CHRONIC DISEASE       -0.012451           0.000536 -0.043406   \n",
       "FATIGUE                0.033182          -0.044740  0.034117   \n",
       "ALLERGY                0.043048           0.085256  0.046631   \n",
       "WHEEZING               0.247594           0.065776  0.092086   \n",
       "ALCOHOL CONSUMING      0.065776           0.247594  0.049878   \n",
       "COUGHING               0.092086           0.049878  0.244505   \n",
       "SHORTNESS OF BREATH    0.009047          -0.042901  0.065912   \n",
       "SWALLOWING DIFFICULTY  0.017169          -0.002312 -0.038951   \n",
       "CHEST PAIN             0.036555           0.082009  0.020657   \n",
       "\n",
       "                       SHORTNESS OF BREATH  SWALLOWING DIFFICULTY  CHEST PAIN  \n",
       "AGE                              -0.069096              -0.005212   -0.073961  \n",
       "SMOKING                           0.014626               0.007628    0.029694  \n",
       "YELLOW_FINGERS                   -0.025249               0.085750   -0.025869  \n",
       "ANXIETY                          -0.034674               0.122515   -0.028317  \n",
       "PEER_PRESSURE                    -0.052988               0.091771   -0.023631  \n",
       "CHRONIC DISEASE                  -0.006367               0.018819   -0.009204  \n",
       "FATIGUE                           0.099735              -0.031186   -0.002532  \n",
       "ALLERGY                          -0.007187              -0.015299    0.059282  \n",
       "WHEEZING                          0.009047               0.017169    0.036555  \n",
       "ALCOHOL CONSUMING                -0.042901              -0.002312    0.082009  \n",
       "COUGHING                          0.065912              -0.038951    0.020657  \n",
       "SHORTNESS OF BREATH               0.230929              -0.038677    0.005800  \n",
       "SWALLOWING DIFFICULTY            -0.038677               0.249863    0.017169  \n",
       "CHEST PAIN                        0.005800               0.017169    0.247594  "
      ]
     },
     "execution_count": 14,
     "metadata": {},
     "output_type": "execute_result"
    }
   ],
   "source": [
    "df.cov()"
   ]
  },
  {
   "cell_type": "code",
   "execution_count": 15,
   "id": "7ad809a4",
   "metadata": {},
   "outputs": [
    {
     "name": "stdout",
     "output_type": "stream",
     "text": [
      "LUNG_CANCER  NO  YES\n",
      "GENDER              \n",
      "F            22  125\n",
      "M            17  145\n"
     ]
    },
    {
     "data": {
      "image/png": "[encoded data removed]",
      "text/plain": [
       "<Figure size 432x288 with 1 Axes>"
      ]
     },
     "metadata": {
      "needs_background": "light"
     },
     "output_type": "display_data"
    }
   ],
   "source": [
    "print(pd.pivot_table(data=df,values='AGE',index='GENDER',columns='LUNG_CANCER',aggfunc='count'))\n",
    "sns.countplot(x=\"LUNG_CANCER\", data=df,palette=\"mako\")\n",
    "plt.show()"
   ]
  },
  {
   "cell_type": "code",
   "execution_count": 16,
   "id": "8f621aca",
   "metadata": {
    "scrolled": false
   },
   "outputs": [
    {
     "data": {
      "image/png": "[encoded data removed]",
      "text/plain": [
       "<Figure size 576x360 with 1 Axes>"
      ]
     },
     "metadata": {
      "needs_background": "light"
     },
     "output_type": "display_data"
    }
   ],
   "source": [
    "df.groupby('GENDER')[['SMOKING', 'YELLOW_FINGERS', 'ANXIETY',\n",
    "       'PEER_PRESSURE', 'CHRONIC DISEASE', 'FATIGUE ', 'ALLERGY ', 'WHEEZING',\n",
    "       'ALCOHOL CONSUMING', 'COUGHING', 'SHORTNESS OF BREATH',\n",
    "       'SWALLOWING DIFFICULTY', 'CHEST PAIN']].sum().plot.bar(color=[\"greenyellow\",'green','blue',\"red\",\"yellow\",'grey',\"orange\",\"fuchsia\",\"deeppink\",'white'],figsize=(8,5))\n",
    "plt.ylabel('GENDER')\n",
    "plt.show()"
   ]
  },
  {
   "cell_type": "code",
   "execution_count": 17,
   "id": "5cd22327",
   "metadata": {},
   "outputs": [],
   "source": [
    "count_Cancer=pd.value_counts(df[\"LUNG_CANCER\"], sort= True)"
   ]
  },
  {
   "cell_type": "code",
   "execution_count": 18,
   "id": "5af1a045",
   "metadata": {
    "scrolled": true
   },
   "outputs": [
    {
     "data": {
      "text/plain": [
       "YES    270\n",
       "NO      39\n",
       "Name: LUNG_CANCER, dtype: int64"
      ]
     },
     "execution_count": 18,
     "metadata": {},
     "output_type": "execute_result"
    }
   ],
   "source": [
    "count_Cancer"
   ]
  },
  {
   "cell_type": "code",
   "execution_count": 19,
   "id": "fe34271a",
   "metadata": {},
   "outputs": [
    {
     "data": {
      "image/png": "[encoded data removed]",
      "text/plain": [
       "<Figure size 432x288 with 1 Axes>"
      ]
     },
     "metadata": {},
     "output_type": "display_data"
    }
   ],
   "source": [
    "count_Cancer.plot(kind = 'pie',autopct='%1.0f%%')\n",
    "plt.title('Pie chart')\n",
    "plt.ylabel('')\n",
    "plt.show()"
   ]
  },
  {
   "cell_type": "code",
   "execution_count": 20,
   "id": "6ca8ead3",
   "metadata": {
    "scrolled": true
   },
   "outputs": [
    {
     "data": {
      "text/html": [
       "<div>\n",
       "<style scoped>\n",
       "    .dataframe tbody tr th:only-of-type {\n",
       "        vertical-align: middle;\n",
       "    }\n",
       "\n",
       "    .dataframe tbody tr th {\n",
       "        vertical-align: top;\n",
       "    }\n",
       "\n",
       "    .dataframe thead th {\n",
       "        text-align: right;\n",
       "    }\n",
       "</style>\n",
       "<table border=\"1\" class=\"dataframe\">\n",
       "  <thead>\n",
       "    <tr style=\"text-align: right;\">\n",
       "      <th></th>\n",
       "      <th>AGE</th>\n",
       "      <th>SMOKING</th>\n",
       "      <th>YELLOW_FINGERS</th>\n",
       "      <th>ANXIETY</th>\n",
       "      <th>PEER_PRESSURE</th>\n",
       "      <th>CHRONIC DISEASE</th>\n",
       "      <th>FATIGUE</th>\n",
       "      <th>ALLERGY</th>\n",
       "      <th>WHEEZING</th>\n",
       "      <th>ALCOHOL CONSUMING</th>\n",
       "      <th>COUGHING</th>\n",
       "      <th>SHORTNESS OF BREATH</th>\n",
       "      <th>SWALLOWING DIFFICULTY</th>\n",
       "      <th>CHEST PAIN</th>\n",
       "    </tr>\n",
       "  </thead>\n",
       "  <tbody>\n",
       "    <tr>\n",
       "      <th>AGE</th>\n",
       "      <td>1.000000</td>\n",
       "      <td>-0.084475</td>\n",
       "      <td>0.005205</td>\n",
       "      <td>0.053170</td>\n",
       "      <td>0.018685</td>\n",
       "      <td>-0.012642</td>\n",
       "      <td>0.012614</td>\n",
       "      <td>0.027990</td>\n",
       "      <td>0.055011</td>\n",
       "      <td>0.058985</td>\n",
       "      <td>0.169950</td>\n",
       "      <td>-0.017513</td>\n",
       "      <td>-0.001270</td>\n",
       "      <td>-0.018104</td>\n",
       "    </tr>\n",
       "    <tr>\n",
       "      <th>SMOKING</th>\n",
       "      <td>-0.084475</td>\n",
       "      <td>1.000000</td>\n",
       "      <td>-0.014585</td>\n",
       "      <td>0.160267</td>\n",
       "      <td>-0.042822</td>\n",
       "      <td>-0.141522</td>\n",
       "      <td>-0.029575</td>\n",
       "      <td>0.001913</td>\n",
       "      <td>-0.129426</td>\n",
       "      <td>-0.050623</td>\n",
       "      <td>-0.129471</td>\n",
       "      <td>0.061264</td>\n",
       "      <td>0.030718</td>\n",
       "      <td>0.120117</td>\n",
       "    </tr>\n",
       "    <tr>\n",
       "      <th>YELLOW_FINGERS</th>\n",
       "      <td>0.005205</td>\n",
       "      <td>-0.014585</td>\n",
       "      <td>1.000000</td>\n",
       "      <td>0.565829</td>\n",
       "      <td>0.323083</td>\n",
       "      <td>0.041122</td>\n",
       "      <td>-0.118058</td>\n",
       "      <td>-0.144300</td>\n",
       "      <td>-0.078515</td>\n",
       "      <td>-0.289025</td>\n",
       "      <td>-0.012640</td>\n",
       "      <td>-0.105944</td>\n",
       "      <td>0.345904</td>\n",
       "      <td>-0.104829</td>\n",
       "    </tr>\n",
       "    <tr>\n",
       "      <th>ANXIETY</th>\n",
       "      <td>0.053170</td>\n",
       "      <td>0.160267</td>\n",
       "      <td>0.565829</td>\n",
       "      <td>1.000000</td>\n",
       "      <td>0.216841</td>\n",
       "      <td>-0.009678</td>\n",
       "      <td>-0.188538</td>\n",
       "      <td>-0.165750</td>\n",
       "      <td>-0.191807</td>\n",
       "      <td>-0.165750</td>\n",
       "      <td>-0.225644</td>\n",
       "      <td>-0.144077</td>\n",
       "      <td>0.489403</td>\n",
       "      <td>-0.113634</td>\n",
       "    </tr>\n",
       "    <tr>\n",
       "      <th>PEER_PRESSURE</th>\n",
       "      <td>0.018685</td>\n",
       "      <td>-0.042822</td>\n",
       "      <td>0.323083</td>\n",
       "      <td>0.216841</td>\n",
       "      <td>1.000000</td>\n",
       "      <td>0.048515</td>\n",
       "      <td>0.078148</td>\n",
       "      <td>-0.081800</td>\n",
       "      <td>-0.068771</td>\n",
       "      <td>-0.159973</td>\n",
       "      <td>-0.089019</td>\n",
       "      <td>-0.220175</td>\n",
       "      <td>0.366590</td>\n",
       "      <td>-0.094828</td>\n",
       "    </tr>\n",
       "    <tr>\n",
       "      <th>CHRONIC DISEASE</th>\n",
       "      <td>-0.012642</td>\n",
       "      <td>-0.141522</td>\n",
       "      <td>0.041122</td>\n",
       "      <td>-0.009678</td>\n",
       "      <td>0.048515</td>\n",
       "      <td>1.000000</td>\n",
       "      <td>-0.110529</td>\n",
       "      <td>0.106386</td>\n",
       "      <td>-0.049967</td>\n",
       "      <td>0.002150</td>\n",
       "      <td>-0.175287</td>\n",
       "      <td>-0.026459</td>\n",
       "      <td>0.075176</td>\n",
       "      <td>-0.036938</td>\n",
       "    </tr>\n",
       "    <tr>\n",
       "      <th>FATIGUE</th>\n",
       "      <td>0.012614</td>\n",
       "      <td>-0.029575</td>\n",
       "      <td>-0.118058</td>\n",
       "      <td>-0.188538</td>\n",
       "      <td>0.078148</td>\n",
       "      <td>-0.110529</td>\n",
       "      <td>1.000000</td>\n",
       "      <td>0.003056</td>\n",
       "      <td>0.141937</td>\n",
       "      <td>-0.191377</td>\n",
       "      <td>0.146856</td>\n",
       "      <td>0.441745</td>\n",
       "      <td>-0.132790</td>\n",
       "      <td>-0.010832</td>\n",
       "    </tr>\n",
       "    <tr>\n",
       "      <th>ALLERGY</th>\n",
       "      <td>0.027990</td>\n",
       "      <td>0.001913</td>\n",
       "      <td>-0.144300</td>\n",
       "      <td>-0.165750</td>\n",
       "      <td>-0.081800</td>\n",
       "      <td>0.106386</td>\n",
       "      <td>0.003056</td>\n",
       "      <td>1.000000</td>\n",
       "      <td>0.173867</td>\n",
       "      <td>0.344339</td>\n",
       "      <td>0.189524</td>\n",
       "      <td>-0.030056</td>\n",
       "      <td>-0.061508</td>\n",
       "      <td>0.239433</td>\n",
       "    </tr>\n",
       "    <tr>\n",
       "      <th>WHEEZING</th>\n",
       "      <td>0.055011</td>\n",
       "      <td>-0.129426</td>\n",
       "      <td>-0.078515</td>\n",
       "      <td>-0.191807</td>\n",
       "      <td>-0.068771</td>\n",
       "      <td>-0.049967</td>\n",
       "      <td>0.141937</td>\n",
       "      <td>0.173867</td>\n",
       "      <td>1.000000</td>\n",
       "      <td>0.265659</td>\n",
       "      <td>0.374265</td>\n",
       "      <td>0.037834</td>\n",
       "      <td>0.069027</td>\n",
       "      <td>0.147640</td>\n",
       "    </tr>\n",
       "    <tr>\n",
       "      <th>ALCOHOL CONSUMING</th>\n",
       "      <td>0.058985</td>\n",
       "      <td>-0.050623</td>\n",
       "      <td>-0.289025</td>\n",
       "      <td>-0.165750</td>\n",
       "      <td>-0.159973</td>\n",
       "      <td>0.002150</td>\n",
       "      <td>-0.191377</td>\n",
       "      <td>0.344339</td>\n",
       "      <td>0.265659</td>\n",
       "      <td>1.000000</td>\n",
       "      <td>0.202720</td>\n",
       "      <td>-0.179416</td>\n",
       "      <td>-0.009294</td>\n",
       "      <td>0.331226</td>\n",
       "    </tr>\n",
       "    <tr>\n",
       "      <th>COUGHING</th>\n",
       "      <td>0.169950</td>\n",
       "      <td>-0.129471</td>\n",
       "      <td>-0.012640</td>\n",
       "      <td>-0.225644</td>\n",
       "      <td>-0.089019</td>\n",
       "      <td>-0.175287</td>\n",
       "      <td>0.146856</td>\n",
       "      <td>0.189524</td>\n",
       "      <td>0.374265</td>\n",
       "      <td>0.202720</td>\n",
       "      <td>1.000000</td>\n",
       "      <td>0.277385</td>\n",
       "      <td>-0.157586</td>\n",
       "      <td>0.083958</td>\n",
       "    </tr>\n",
       "    <tr>\n",
       "      <th>SHORTNESS OF BREATH</th>\n",
       "      <td>-0.017513</td>\n",
       "      <td>0.061264</td>\n",
       "      <td>-0.105944</td>\n",
       "      <td>-0.144077</td>\n",
       "      <td>-0.220175</td>\n",
       "      <td>-0.026459</td>\n",
       "      <td>0.441745</td>\n",
       "      <td>-0.030056</td>\n",
       "      <td>0.037834</td>\n",
       "      <td>-0.179416</td>\n",
       "      <td>0.277385</td>\n",
       "      <td>1.000000</td>\n",
       "      <td>-0.161015</td>\n",
       "      <td>0.024256</td>\n",
       "    </tr>\n",
       "    <tr>\n",
       "      <th>SWALLOWING DIFFICULTY</th>\n",
       "      <td>-0.001270</td>\n",
       "      <td>0.030718</td>\n",
       "      <td>0.345904</td>\n",
       "      <td>0.489403</td>\n",
       "      <td>0.366590</td>\n",
       "      <td>0.075176</td>\n",
       "      <td>-0.132790</td>\n",
       "      <td>-0.061508</td>\n",
       "      <td>0.069027</td>\n",
       "      <td>-0.009294</td>\n",
       "      <td>-0.157586</td>\n",
       "      <td>-0.161015</td>\n",
       "      <td>1.000000</td>\n",
       "      <td>0.069027</td>\n",
       "    </tr>\n",
       "    <tr>\n",
       "      <th>CHEST PAIN</th>\n",
       "      <td>-0.018104</td>\n",
       "      <td>0.120117</td>\n",
       "      <td>-0.104829</td>\n",
       "      <td>-0.113634</td>\n",
       "      <td>-0.094828</td>\n",
       "      <td>-0.036938</td>\n",
       "      <td>-0.010832</td>\n",
       "      <td>0.239433</td>\n",
       "      <td>0.147640</td>\n",
       "      <td>0.331226</td>\n",
       "      <td>0.083958</td>\n",
       "      <td>0.024256</td>\n",
       "      <td>0.069027</td>\n",
       "      <td>1.000000</td>\n",
       "    </tr>\n",
       "  </tbody>\n",
       "</table>\n",
       "</div>"
      ],
      "text/plain": [
       "                            AGE   SMOKING  YELLOW_FINGERS   ANXIETY  \\\n",
       "AGE                    1.000000 -0.084475        0.005205  0.053170   \n",
       "SMOKING               -0.084475  1.000000       -0.014585  0.160267   \n",
       "YELLOW_FINGERS         0.005205 -0.014585        1.000000  0.565829   \n",
       "ANXIETY                0.053170  0.160267        0.565829  1.000000   \n",
       "PEER_PRESSURE          0.018685 -0.042822        0.323083  0.216841   \n",
       "CHRONIC DISEASE       -0.012642 -0.141522        0.041122 -0.009678   \n",
       "FATIGUE                0.012614 -0.029575       -0.118058 -0.188538   \n",
       "ALLERGY                0.027990  0.001913       -0.144300 -0.165750   \n",
       "WHEEZING               0.055011 -0.129426       -0.078515 -0.191807   \n",
       "ALCOHOL CONSUMING      0.058985 -0.050623       -0.289025 -0.165750   \n",
       "COUGHING               0.169950 -0.129471       -0.012640 -0.225644   \n",
       "SHORTNESS OF BREATH   -0.017513  0.061264       -0.105944 -0.144077   \n",
       "SWALLOWING DIFFICULTY -0.001270  0.030718        0.345904  0.489403   \n",
       "CHEST PAIN            -0.018104  0.120117       -0.104829 -0.113634   \n",
       "\n",
       "                       PEER_PRESSURE  CHRONIC DISEASE  FATIGUE   ALLERGY   \\\n",
       "AGE                         0.018685        -0.012642  0.012614  0.027990   \n",
       "SMOKING                    -0.042822        -0.141522 -0.029575  0.001913   \n",
       "YELLOW_FINGERS              0.323083         0.041122 -0.118058 -0.144300   \n",
       "ANXIETY                     0.216841        -0.009678 -0.188538 -0.165750   \n",
       "PEER_PRESSURE               1.000000         0.048515  0.078148 -0.081800   \n",
       "CHRONIC DISEASE             0.048515         1.000000 -0.110529  0.106386   \n",
       "FATIGUE                     0.078148        -0.110529  1.000000  0.003056   \n",
       "ALLERGY                    -0.081800         0.106386  0.003056  1.000000   \n",
       "WHEEZING                   -0.068771        -0.049967  0.141937  0.173867   \n",
       "ALCOHOL CONSUMING          -0.159973         0.002150 -0.191377  0.344339   \n",
       "COUGHING                   -0.089019        -0.175287  0.146856  0.189524   \n",
       "SHORTNESS OF BREATH        -0.220175        -0.026459  0.441745 -0.030056   \n",
       "SWALLOWING DIFFICULTY       0.366590         0.075176 -0.132790 -0.061508   \n",
       "CHEST PAIN                 -0.094828        -0.036938 -0.010832  0.239433   \n",
       "\n",
       "                       WHEEZING  ALCOHOL CONSUMING  COUGHING  \\\n",
       "AGE                    0.055011           0.058985  0.169950   \n",
       "SMOKING               -0.129426          -0.050623 -0.129471   \n",
       "YELLOW_FINGERS        -0.078515          -0.289025 -0.012640   \n",
       "ANXIETY               -0.191807          -0.165750 -0.225644   \n",
       "PEER_PRESSURE         -0.068771          -0.159973 -0.089019   \n",
       "CHRONIC DISEASE       -0.049967           0.002150 -0.175287   \n",
       "FATIGUE                0.141937          -0.191377  0.146856   \n",
       "ALLERGY                0.173867           0.344339  0.189524   \n",
       "WHEEZING               1.000000           0.265659  0.374265   \n",
       "ALCOHOL CONSUMING      0.265659           1.000000  0.202720   \n",
       "COUGHING               0.374265           0.202720  1.000000   \n",
       "SHORTNESS OF BREATH    0.037834          -0.179416  0.277385   \n",
       "SWALLOWING DIFFICULTY  0.069027          -0.009294 -0.157586   \n",
       "CHEST PAIN             0.147640           0.331226  0.083958   \n",
       "\n",
       "                       SHORTNESS OF BREATH  SWALLOWING DIFFICULTY  CHEST PAIN  \n",
       "AGE                              -0.017513              -0.001270   -0.018104  \n",
       "SMOKING                           0.061264               0.030718    0.120117  \n",
       "YELLOW_FINGERS                   -0.105944               0.345904   -0.104829  \n",
       "ANXIETY                          -0.144077               0.489403   -0.113634  \n",
       "PEER_PRESSURE                    -0.220175               0.366590   -0.094828  \n",
       "CHRONIC DISEASE                  -0.026459               0.075176   -0.036938  \n",
       "FATIGUE                           0.441745              -0.132790   -0.010832  \n",
       "ALLERGY                          -0.030056              -0.061508    0.239433  \n",
       "WHEEZING                          0.037834               0.069027    0.147640  \n",
       "ALCOHOL CONSUMING                -0.179416              -0.009294    0.331226  \n",
       "COUGHING                          0.277385              -0.157586    0.083958  \n",
       "SHORTNESS OF BREATH               1.000000              -0.161015    0.024256  \n",
       "SWALLOWING DIFFICULTY            -0.161015               1.000000    0.069027  \n",
       "CHEST PAIN                        0.024256               0.069027    1.000000  "
      ]
     },
     "execution_count": 20,
     "metadata": {},
     "output_type": "execute_result"
    }
   ],
   "source": [
    "res=df.corr()\n",
    "res"
   ]
  },
  {
   "cell_type": "code",
   "execution_count": 21,
   "id": "2e48a539",
   "metadata": {
    "scrolled": true
   },
   "outputs": [
    {
     "data": {
      "text/html": [
       "<div>\n",
       "<style scoped>\n",
       "    .dataframe tbody tr th:only-of-type {\n",
       "        vertical-align: middle;\n",
       "    }\n",
       "\n",
       "    .dataframe tbody tr th {\n",
       "        vertical-align: top;\n",
       "    }\n",
       "\n",
       "    .dataframe thead th {\n",
       "        text-align: right;\n",
       "    }\n",
       "</style>\n",
       "<table border=\"1\" class=\"dataframe\">\n",
       "  <thead>\n",
       "    <tr style=\"text-align: right;\">\n",
       "      <th></th>\n",
       "      <th>AGE</th>\n",
       "      <th>SMOKING</th>\n",
       "      <th>YELLOW_FINGERS</th>\n",
       "      <th>ANXIETY</th>\n",
       "      <th>PEER_PRESSURE</th>\n",
       "      <th>CHRONIC DISEASE</th>\n",
       "      <th>FATIGUE</th>\n",
       "      <th>ALLERGY</th>\n",
       "      <th>WHEEZING</th>\n",
       "      <th>ALCOHOL CONSUMING</th>\n",
       "      <th>COUGHING</th>\n",
       "      <th>SHORTNESS OF BREATH</th>\n",
       "      <th>SWALLOWING DIFFICULTY</th>\n",
       "      <th>CHEST PAIN</th>\n",
       "    </tr>\n",
       "  </thead>\n",
       "  <tbody>\n",
       "    <tr>\n",
       "      <th>AGE</th>\n",
       "      <td>67.409049</td>\n",
       "      <td>-0.344566</td>\n",
       "      <td>0.021193</td>\n",
       "      <td>0.218625</td>\n",
       "      <td>0.076829</td>\n",
       "      <td>-0.051980</td>\n",
       "      <td>0.048659</td>\n",
       "      <td>0.114351</td>\n",
       "      <td>0.224740</td>\n",
       "      <td>0.240974</td>\n",
       "      <td>0.689961</td>\n",
       "      <td>-0.069096</td>\n",
       "      <td>-0.005212</td>\n",
       "      <td>-0.073961</td>\n",
       "    </tr>\n",
       "    <tr>\n",
       "      <th>SMOKING</th>\n",
       "      <td>-0.344566</td>\n",
       "      <td>0.246816</td>\n",
       "      <td>-0.003593</td>\n",
       "      <td>0.039875</td>\n",
       "      <td>-0.010654</td>\n",
       "      <td>-0.035210</td>\n",
       "      <td>-0.006903</td>\n",
       "      <td>0.000473</td>\n",
       "      <td>-0.031995</td>\n",
       "      <td>-0.012514</td>\n",
       "      <td>-0.031806</td>\n",
       "      <td>0.014626</td>\n",
       "      <td>0.007628</td>\n",
       "      <td>0.029694</td>\n",
       "    </tr>\n",
       "    <tr>\n",
       "      <th>YELLOW_FINGERS</th>\n",
       "      <td>0.021193</td>\n",
       "      <td>-0.003593</td>\n",
       "      <td>0.245955</td>\n",
       "      <td>0.140535</td>\n",
       "      <td>0.080244</td>\n",
       "      <td>0.010213</td>\n",
       "      <td>-0.027508</td>\n",
       "      <td>-0.035609</td>\n",
       "      <td>-0.019375</td>\n",
       "      <td>-0.071323</td>\n",
       "      <td>-0.003100</td>\n",
       "      <td>-0.025249</td>\n",
       "      <td>0.085750</td>\n",
       "      <td>-0.025869</td>\n",
       "    </tr>\n",
       "    <tr>\n",
       "      <th>ANXIETY</th>\n",
       "      <td>0.218625</td>\n",
       "      <td>0.039875</td>\n",
       "      <td>0.140535</td>\n",
       "      <td>0.250809</td>\n",
       "      <td>0.054386</td>\n",
       "      <td>-0.002427</td>\n",
       "      <td>-0.044362</td>\n",
       "      <td>-0.041304</td>\n",
       "      <td>-0.047798</td>\n",
       "      <td>-0.041304</td>\n",
       "      <td>-0.055878</td>\n",
       "      <td>-0.034674</td>\n",
       "      <td>0.122515</td>\n",
       "      <td>-0.028317</td>\n",
       "    </tr>\n",
       "    <tr>\n",
       "      <th>PEER_PRESSURE</th>\n",
       "      <td>0.076829</td>\n",
       "      <td>-0.010654</td>\n",
       "      <td>0.080244</td>\n",
       "      <td>0.054386</td>\n",
       "      <td>0.250809</td>\n",
       "      <td>0.012167</td>\n",
       "      <td>0.018388</td>\n",
       "      <td>-0.020384</td>\n",
       "      <td>-0.017137</td>\n",
       "      <td>-0.039865</td>\n",
       "      <td>-0.022044</td>\n",
       "      <td>-0.052988</td>\n",
       "      <td>0.091771</td>\n",
       "      <td>-0.023631</td>\n",
       "    </tr>\n",
       "    <tr>\n",
       "      <th>CHRONIC DISEASE</th>\n",
       "      <td>-0.051980</td>\n",
       "      <td>-0.035210</td>\n",
       "      <td>0.010213</td>\n",
       "      <td>-0.002427</td>\n",
       "      <td>0.012167</td>\n",
       "      <td>0.250788</td>\n",
       "      <td>-0.026006</td>\n",
       "      <td>0.026510</td>\n",
       "      <td>-0.012451</td>\n",
       "      <td>0.000536</td>\n",
       "      <td>-0.043406</td>\n",
       "      <td>-0.006367</td>\n",
       "      <td>0.018819</td>\n",
       "      <td>-0.009204</td>\n",
       "    </tr>\n",
       "    <tr>\n",
       "      <th>FATIGUE</th>\n",
       "      <td>0.048659</td>\n",
       "      <td>-0.006903</td>\n",
       "      <td>-0.027508</td>\n",
       "      <td>-0.044362</td>\n",
       "      <td>0.018388</td>\n",
       "      <td>-0.026006</td>\n",
       "      <td>0.220737</td>\n",
       "      <td>0.000714</td>\n",
       "      <td>0.033182</td>\n",
       "      <td>-0.044740</td>\n",
       "      <td>0.034117</td>\n",
       "      <td>0.099735</td>\n",
       "      <td>-0.031186</td>\n",
       "      <td>-0.002532</td>\n",
       "    </tr>\n",
       "    <tr>\n",
       "      <th>ALLERGY</th>\n",
       "      <td>0.114351</td>\n",
       "      <td>0.000473</td>\n",
       "      <td>-0.035609</td>\n",
       "      <td>-0.041304</td>\n",
       "      <td>-0.020384</td>\n",
       "      <td>0.026510</td>\n",
       "      <td>0.000714</td>\n",
       "      <td>0.247594</td>\n",
       "      <td>0.043048</td>\n",
       "      <td>0.085256</td>\n",
       "      <td>0.046631</td>\n",
       "      <td>-0.007187</td>\n",
       "      <td>-0.015299</td>\n",
       "      <td>0.059282</td>\n",
       "    </tr>\n",
       "    <tr>\n",
       "      <th>WHEEZING</th>\n",
       "      <td>0.224740</td>\n",
       "      <td>-0.031995</td>\n",
       "      <td>-0.019375</td>\n",
       "      <td>-0.047798</td>\n",
       "      <td>-0.017137</td>\n",
       "      <td>-0.012451</td>\n",
       "      <td>0.033182</td>\n",
       "      <td>0.043048</td>\n",
       "      <td>0.247594</td>\n",
       "      <td>0.065776</td>\n",
       "      <td>0.092086</td>\n",
       "      <td>0.009047</td>\n",
       "      <td>0.017169</td>\n",
       "      <td>0.036555</td>\n",
       "    </tr>\n",
       "    <tr>\n",
       "      <th>ALCOHOL CONSUMING</th>\n",
       "      <td>0.240974</td>\n",
       "      <td>-0.012514</td>\n",
       "      <td>-0.071323</td>\n",
       "      <td>-0.041304</td>\n",
       "      <td>-0.039865</td>\n",
       "      <td>0.000536</td>\n",
       "      <td>-0.044740</td>\n",
       "      <td>0.085256</td>\n",
       "      <td>0.065776</td>\n",
       "      <td>0.247594</td>\n",
       "      <td>0.049878</td>\n",
       "      <td>-0.042901</td>\n",
       "      <td>-0.002312</td>\n",
       "      <td>0.082009</td>\n",
       "    </tr>\n",
       "    <tr>\n",
       "      <th>COUGHING</th>\n",
       "      <td>0.689961</td>\n",
       "      <td>-0.031806</td>\n",
       "      <td>-0.003100</td>\n",
       "      <td>-0.055878</td>\n",
       "      <td>-0.022044</td>\n",
       "      <td>-0.043406</td>\n",
       "      <td>0.034117</td>\n",
       "      <td>0.046631</td>\n",
       "      <td>0.092086</td>\n",
       "      <td>0.049878</td>\n",
       "      <td>0.244505</td>\n",
       "      <td>0.065912</td>\n",
       "      <td>-0.038951</td>\n",
       "      <td>0.020657</td>\n",
       "    </tr>\n",
       "    <tr>\n",
       "      <th>SHORTNESS OF BREATH</th>\n",
       "      <td>-0.069096</td>\n",
       "      <td>0.014626</td>\n",
       "      <td>-0.025249</td>\n",
       "      <td>-0.034674</td>\n",
       "      <td>-0.052988</td>\n",
       "      <td>-0.006367</td>\n",
       "      <td>0.099735</td>\n",
       "      <td>-0.007187</td>\n",
       "      <td>0.009047</td>\n",
       "      <td>-0.042901</td>\n",
       "      <td>0.065912</td>\n",
       "      <td>0.230929</td>\n",
       "      <td>-0.038677</td>\n",
       "      <td>0.005800</td>\n",
       "    </tr>\n",
       "    <tr>\n",
       "      <th>SWALLOWING DIFFICULTY</th>\n",
       "      <td>-0.005212</td>\n",
       "      <td>0.007628</td>\n",
       "      <td>0.085750</td>\n",
       "      <td>0.122515</td>\n",
       "      <td>0.091771</td>\n",
       "      <td>0.018819</td>\n",
       "      <td>-0.031186</td>\n",
       "      <td>-0.015299</td>\n",
       "      <td>0.017169</td>\n",
       "      <td>-0.002312</td>\n",
       "      <td>-0.038951</td>\n",
       "      <td>-0.038677</td>\n",
       "      <td>0.249863</td>\n",
       "      <td>0.017169</td>\n",
       "    </tr>\n",
       "    <tr>\n",
       "      <th>CHEST PAIN</th>\n",
       "      <td>-0.073961</td>\n",
       "      <td>0.029694</td>\n",
       "      <td>-0.025869</td>\n",
       "      <td>-0.028317</td>\n",
       "      <td>-0.023631</td>\n",
       "      <td>-0.009204</td>\n",
       "      <td>-0.002532</td>\n",
       "      <td>0.059282</td>\n",
       "      <td>0.036555</td>\n",
       "      <td>0.082009</td>\n",
       "      <td>0.020657</td>\n",
       "      <td>0.005800</td>\n",
       "      <td>0.017169</td>\n",
       "      <td>0.247594</td>\n",
       "    </tr>\n",
       "  </tbody>\n",
       "</table>\n",
       "</div>"
      ],
      "text/plain": [
       "                             AGE   SMOKING  YELLOW_FINGERS   ANXIETY  \\\n",
       "AGE                    67.409049 -0.344566        0.021193  0.218625   \n",
       "SMOKING                -0.344566  0.246816       -0.003593  0.039875   \n",
       "YELLOW_FINGERS          0.021193 -0.003593        0.245955  0.140535   \n",
       "ANXIETY                 0.218625  0.039875        0.140535  0.250809   \n",
       "PEER_PRESSURE           0.076829 -0.010654        0.080244  0.054386   \n",
       "CHRONIC DISEASE        -0.051980 -0.035210        0.010213 -0.002427   \n",
       "FATIGUE                 0.048659 -0.006903       -0.027508 -0.044362   \n",
       "ALLERGY                 0.114351  0.000473       -0.035609 -0.041304   \n",
       "WHEEZING                0.224740 -0.031995       -0.019375 -0.047798   \n",
       "ALCOHOL CONSUMING       0.240974 -0.012514       -0.071323 -0.041304   \n",
       "COUGHING                0.689961 -0.031806       -0.003100 -0.055878   \n",
       "SHORTNESS OF BREATH    -0.069096  0.014626       -0.025249 -0.034674   \n",
       "SWALLOWING DIFFICULTY  -0.005212  0.007628        0.085750  0.122515   \n",
       "CHEST PAIN             -0.073961  0.029694       -0.025869 -0.028317   \n",
       "\n",
       "                       PEER_PRESSURE  CHRONIC DISEASE  FATIGUE   ALLERGY   \\\n",
       "AGE                         0.076829        -0.051980  0.048659  0.114351   \n",
       "SMOKING                    -0.010654        -0.035210 -0.006903  0.000473   \n",
       "YELLOW_FINGERS              0.080244         0.010213 -0.027508 -0.035609   \n",
       "ANXIETY                     0.054386        -0.002427 -0.044362 -0.041304   \n",
       "PEER_PRESSURE               0.250809         0.012167  0.018388 -0.020384   \n",
       "CHRONIC DISEASE             0.012167         0.250788 -0.026006  0.026510   \n",
       "FATIGUE                     0.018388        -0.026006  0.220737  0.000714   \n",
       "ALLERGY                    -0.020384         0.026510  0.000714  0.247594   \n",
       "WHEEZING                   -0.017137        -0.012451  0.033182  0.043048   \n",
       "ALCOHOL CONSUMING          -0.039865         0.000536 -0.044740  0.085256   \n",
       "COUGHING                   -0.022044        -0.043406  0.034117  0.046631   \n",
       "SHORTNESS OF BREATH        -0.052988        -0.006367  0.099735 -0.007187   \n",
       "SWALLOWING DIFFICULTY       0.091771         0.018819 -0.031186 -0.015299   \n",
       "CHEST PAIN                 -0.023631        -0.009204 -0.002532  0.059282   \n",
       "\n",
       "                       WHEEZING  ALCOHOL CONSUMING  COUGHING  \\\n",
       "AGE                    0.224740           0.240974  0.689961   \n",
       "SMOKING               -0.031995          -0.012514 -0.031806   \n",
       "YELLOW_FINGERS        -0.019375          -0.071323 -0.003100   \n",
       "ANXIETY               -0.047798          -0.041304 -0.055878   \n",
       "PEER_PRESSURE         -0.017137          -0.039865 -0.022044   \n",
       "CHRONIC DISEASE       -0.012451           0.000536 -0.043406   \n",
       "FATIGUE                0.033182          -0.044740  0.034117   \n",
       "ALLERGY                0.043048           0.085256  0.046631   \n",
       "WHEEZING               0.247594           0.065776  0.092086   \n",
       "ALCOHOL CONSUMING      0.065776           0.247594  0.049878   \n",
       "COUGHING               0.092086           0.049878  0.244505   \n",
       "SHORTNESS OF BREATH    0.009047          -0.042901  0.065912   \n",
       "SWALLOWING DIFFICULTY  0.017169          -0.002312 -0.038951   \n",
       "CHEST PAIN             0.036555           0.082009  0.020657   \n",
       "\n",
       "                       SHORTNESS OF BREATH  SWALLOWING DIFFICULTY  CHEST PAIN  \n",
       "AGE                              -0.069096              -0.005212   -0.073961  \n",
       "SMOKING                           0.014626               0.007628    0.029694  \n",
       "YELLOW_FINGERS                   -0.025249               0.085750   -0.025869  \n",
       "ANXIETY                          -0.034674               0.122515   -0.028317  \n",
       "PEER_PRESSURE                    -0.052988               0.091771   -0.023631  \n",
       "CHRONIC DISEASE                  -0.006367               0.018819   -0.009204  \n",
       "FATIGUE                           0.099735              -0.031186   -0.002532  \n",
       "ALLERGY                          -0.007187              -0.015299    0.059282  \n",
       "WHEEZING                          0.009047               0.017169    0.036555  \n",
       "ALCOHOL CONSUMING                -0.042901              -0.002312    0.082009  \n",
       "COUGHING                          0.065912              -0.038951    0.020657  \n",
       "SHORTNESS OF BREATH               0.230929              -0.038677    0.005800  \n",
       "SWALLOWING DIFFICULTY            -0.038677               0.249863    0.017169  \n",
       "CHEST PAIN                        0.005800               0.017169    0.247594  "
      ]
     },
     "execution_count": 21,
     "metadata": {},
     "output_type": "execute_result"
    }
   ],
   "source": [
    "df.cov()"
   ]
  },
  {
   "cell_type": "code",
   "execution_count": 22,
   "id": "cd30620d",
   "metadata": {},
   "outputs": [
    {
     "data": {
      "image/png": "[encoded data removed]",
      "text/plain": [
       "<Figure size 960x960 with 2 Axes>"
      ]
     },
     "metadata": {},
     "output_type": "display_data"
    }
   ],
   "source": [
    "\n",
    "fig = plt.figure(num=None, figsize=(12, 12), dpi=80, facecolor='w', edgecolor='k')\n",
    "sns.heatmap(res, annot=True, annot_kws={\"size\": 10},fmt='.3f')\n",
    "plt.show()\n"
   ]
  },
  {
   "cell_type": "markdown",
   "id": "4ebaff24",
   "metadata": {},
   "source": [
    "#### Conclusions from EDA:\n",
    "* Lung Cancer is more detected for males than females \n",
    "* 87% are affected with lung cancer \n",
    "\n",
    "Data is completely cleaned and ready for prediction. Depending upon the ML approach we will modify the data accordingly "
   ]
  },
  {
   "cell_type": "markdown",
   "id": "9995fd09",
   "metadata": {},
   "source": [
    "##### Preparing to build a model \n",
    "* Multiple variables which are independent features to predict a dependent variable \n",
    "* Classify the data by replace method and drop columns which are not required "
   ]
  },
  {
   "cell_type": "code",
   "execution_count": 23,
   "id": "77f12c1c",
   "metadata": {
    "scrolled": true
   },
   "outputs": [
    {
     "data": {
      "text/html": [
       "<div>\n",
       "<style scoped>\n",
       "    .dataframe tbody tr th:only-of-type {\n",
       "        vertical-align: middle;\n",
       "    }\n",
       "\n",
       "    .dataframe tbody tr th {\n",
       "        vertical-align: top;\n",
       "    }\n",
       "\n",
       "    .dataframe thead th {\n",
       "        text-align: right;\n",
       "    }\n",
       "</style>\n",
       "<table border=\"1\" class=\"dataframe\">\n",
       "  <thead>\n",
       "    <tr style=\"text-align: right;\">\n",
       "      <th></th>\n",
       "      <th>GENDER</th>\n",
       "      <th>AGE</th>\n",
       "      <th>SMOKING</th>\n",
       "      <th>YELLOW_FINGERS</th>\n",
       "      <th>ANXIETY</th>\n",
       "      <th>PEER_PRESSURE</th>\n",
       "      <th>CHRONICDISEASE</th>\n",
       "      <th>FATIGUE</th>\n",
       "      <th>ALLERGY</th>\n",
       "      <th>WHEEZING</th>\n",
       "      <th>ALCOHOLCONSUMING</th>\n",
       "      <th>COUGHING</th>\n",
       "      <th>SHORTNESSOFBREATH</th>\n",
       "      <th>SWALLOWING DIFFICULTY</th>\n",
       "      <th>CHESTPAIN</th>\n",
       "      <th>LUNG_CANCER</th>\n",
       "    </tr>\n",
       "  </thead>\n",
       "  <tbody>\n",
       "    <tr>\n",
       "      <th>0</th>\n",
       "      <td>M</td>\n",
       "      <td>69</td>\n",
       "      <td>1</td>\n",
       "      <td>2</td>\n",
       "      <td>2</td>\n",
       "      <td>1</td>\n",
       "      <td>1</td>\n",
       "      <td>2</td>\n",
       "      <td>1</td>\n",
       "      <td>2</td>\n",
       "      <td>2</td>\n",
       "      <td>2</td>\n",
       "      <td>2</td>\n",
       "      <td>2</td>\n",
       "      <td>2</td>\n",
       "      <td>YES</td>\n",
       "    </tr>\n",
       "    <tr>\n",
       "      <th>1</th>\n",
       "      <td>M</td>\n",
       "      <td>74</td>\n",
       "      <td>2</td>\n",
       "      <td>1</td>\n",
       "      <td>1</td>\n",
       "      <td>1</td>\n",
       "      <td>2</td>\n",
       "      <td>2</td>\n",
       "      <td>2</td>\n",
       "      <td>1</td>\n",
       "      <td>1</td>\n",
       "      <td>1</td>\n",
       "      <td>2</td>\n",
       "      <td>2</td>\n",
       "      <td>2</td>\n",
       "      <td>YES</td>\n",
       "    </tr>\n",
       "    <tr>\n",
       "      <th>2</th>\n",
       "      <td>F</td>\n",
       "      <td>59</td>\n",
       "      <td>1</td>\n",
       "      <td>1</td>\n",
       "      <td>1</td>\n",
       "      <td>2</td>\n",
       "      <td>1</td>\n",
       "      <td>2</td>\n",
       "      <td>1</td>\n",
       "      <td>2</td>\n",
       "      <td>1</td>\n",
       "      <td>2</td>\n",
       "      <td>2</td>\n",
       "      <td>1</td>\n",
       "      <td>2</td>\n",
       "      <td>NO</td>\n",
       "    </tr>\n",
       "    <tr>\n",
       "      <th>3</th>\n",
       "      <td>M</td>\n",
       "      <td>63</td>\n",
       "      <td>2</td>\n",
       "      <td>2</td>\n",
       "      <td>2</td>\n",
       "      <td>1</td>\n",
       "      <td>1</td>\n",
       "      <td>1</td>\n",
       "      <td>1</td>\n",
       "      <td>1</td>\n",
       "      <td>2</td>\n",
       "      <td>1</td>\n",
       "      <td>1</td>\n",
       "      <td>2</td>\n",
       "      <td>2</td>\n",
       "      <td>NO</td>\n",
       "    </tr>\n",
       "    <tr>\n",
       "      <th>4</th>\n",
       "      <td>F</td>\n",
       "      <td>63</td>\n",
       "      <td>1</td>\n",
       "      <td>2</td>\n",
       "      <td>1</td>\n",
       "      <td>1</td>\n",
       "      <td>1</td>\n",
       "      <td>1</td>\n",
       "      <td>1</td>\n",
       "      <td>2</td>\n",
       "      <td>1</td>\n",
       "      <td>2</td>\n",
       "      <td>2</td>\n",
       "      <td>1</td>\n",
       "      <td>1</td>\n",
       "      <td>NO</td>\n",
       "    </tr>\n",
       "    <tr>\n",
       "      <th>...</th>\n",
       "      <td>...</td>\n",
       "      <td>...</td>\n",
       "      <td>...</td>\n",
       "      <td>...</td>\n",
       "      <td>...</td>\n",
       "      <td>...</td>\n",
       "      <td>...</td>\n",
       "      <td>...</td>\n",
       "      <td>...</td>\n",
       "      <td>...</td>\n",
       "      <td>...</td>\n",
       "      <td>...</td>\n",
       "      <td>...</td>\n",
       "      <td>...</td>\n",
       "      <td>...</td>\n",
       "      <td>...</td>\n",
       "    </tr>\n",
       "    <tr>\n",
       "      <th>304</th>\n",
       "      <td>F</td>\n",
       "      <td>56</td>\n",
       "      <td>1</td>\n",
       "      <td>1</td>\n",
       "      <td>1</td>\n",
       "      <td>2</td>\n",
       "      <td>2</td>\n",
       "      <td>2</td>\n",
       "      <td>1</td>\n",
       "      <td>1</td>\n",
       "      <td>2</td>\n",
       "      <td>2</td>\n",
       "      <td>2</td>\n",
       "      <td>2</td>\n",
       "      <td>1</td>\n",
       "      <td>YES</td>\n",
       "    </tr>\n",
       "    <tr>\n",
       "      <th>305</th>\n",
       "      <td>M</td>\n",
       "      <td>70</td>\n",
       "      <td>2</td>\n",
       "      <td>1</td>\n",
       "      <td>1</td>\n",
       "      <td>1</td>\n",
       "      <td>1</td>\n",
       "      <td>2</td>\n",
       "      <td>2</td>\n",
       "      <td>2</td>\n",
       "      <td>2</td>\n",
       "      <td>2</td>\n",
       "      <td>2</td>\n",
       "      <td>1</td>\n",
       "      <td>2</td>\n",
       "      <td>YES</td>\n",
       "    </tr>\n",
       "    <tr>\n",
       "      <th>306</th>\n",
       "      <td>M</td>\n",
       "      <td>58</td>\n",
       "      <td>2</td>\n",
       "      <td>1</td>\n",
       "      <td>1</td>\n",
       "      <td>1</td>\n",
       "      <td>1</td>\n",
       "      <td>1</td>\n",
       "      <td>2</td>\n",
       "      <td>2</td>\n",
       "      <td>2</td>\n",
       "      <td>2</td>\n",
       "      <td>1</td>\n",
       "      <td>1</td>\n",
       "      <td>2</td>\n",
       "      <td>YES</td>\n",
       "    </tr>\n",
       "    <tr>\n",
       "      <th>307</th>\n",
       "      <td>M</td>\n",
       "      <td>67</td>\n",
       "      <td>2</td>\n",
       "      <td>1</td>\n",
       "      <td>2</td>\n",
       "      <td>1</td>\n",
       "      <td>1</td>\n",
       "      <td>2</td>\n",
       "      <td>2</td>\n",
       "      <td>1</td>\n",
       "      <td>2</td>\n",
       "      <td>2</td>\n",
       "      <td>2</td>\n",
       "      <td>1</td>\n",
       "      <td>2</td>\n",
       "      <td>YES</td>\n",
       "    </tr>\n",
       "    <tr>\n",
       "      <th>308</th>\n",
       "      <td>M</td>\n",
       "      <td>62</td>\n",
       "      <td>1</td>\n",
       "      <td>1</td>\n",
       "      <td>1</td>\n",
       "      <td>2</td>\n",
       "      <td>1</td>\n",
       "      <td>2</td>\n",
       "      <td>2</td>\n",
       "      <td>2</td>\n",
       "      <td>2</td>\n",
       "      <td>1</td>\n",
       "      <td>1</td>\n",
       "      <td>2</td>\n",
       "      <td>1</td>\n",
       "      <td>YES</td>\n",
       "    </tr>\n",
       "  </tbody>\n",
       "</table>\n",
       "<p>309 rows × 16 columns</p>\n",
       "</div>"
      ],
      "text/plain": [
       "    GENDER  AGE  SMOKING  YELLOW_FINGERS  ANXIETY  PEER_PRESSURE  \\\n",
       "0        M   69        1               2        2              1   \n",
       "1        M   74        2               1        1              1   \n",
       "2        F   59        1               1        1              2   \n",
       "3        M   63        2               2        2              1   \n",
       "4        F   63        1               2        1              1   \n",
       "..     ...  ...      ...             ...      ...            ...   \n",
       "304      F   56        1               1        1              2   \n",
       "305      M   70        2               1        1              1   \n",
       "306      M   58        2               1        1              1   \n",
       "307      M   67        2               1        2              1   \n",
       "308      M   62        1               1        1              2   \n",
       "\n",
       "     CHRONICDISEASE  FATIGUE   ALLERGY   WHEEZING  ALCOHOLCONSUMING  COUGHING  \\\n",
       "0                 1         2         1         2                 2         2   \n",
       "1                 2         2         2         1                 1         1   \n",
       "2                 1         2         1         2                 1         2   \n",
       "3                 1         1         1         1                 2         1   \n",
       "4                 1         1         1         2                 1         2   \n",
       "..              ...       ...       ...       ...               ...       ...   \n",
       "304               2         2         1         1                 2         2   \n",
       "305               1         2         2         2                 2         2   \n",
       "306               1         1         2         2                 2         2   \n",
       "307               1         2         2         1                 2         2   \n",
       "308               1         2         2         2                 2         1   \n",
       "\n",
       "     SHORTNESSOFBREATH  SWALLOWING DIFFICULTY  CHESTPAIN LUNG_CANCER  \n",
       "0                    2                      2          2         YES  \n",
       "1                    2                      2          2         YES  \n",
       "2                    2                      1          2          NO  \n",
       "3                    1                      2          2          NO  \n",
       "4                    2                      1          1          NO  \n",
       "..                 ...                    ...        ...         ...  \n",
       "304                  2                      2          1         YES  \n",
       "305                  2                      1          2         YES  \n",
       "306                  1                      1          2         YES  \n",
       "307                  2                      1          2         YES  \n",
       "308                  1                      2          1         YES  \n",
       "\n",
       "[309 rows x 16 columns]"
      ]
     },
     "execution_count": 23,
     "metadata": {},
     "output_type": "execute_result"
    }
   ],
   "source": [
    "df.rename(columns={\"CHEST PAIN\":\"CHESTPAIN\",'SWALLOWINGDIFFICULTY':\"SWALLOWINGDIFFICULTY\",\"SHORTNESS OF BREATH\":\"SHORTNESSOFBREATH\",'ALCOHOL CONSUMING':'ALCOHOLCONSUMING','CHRONIC DISEASE':'CHRONICDISEASE'})"
   ]
  },
  {
   "cell_type": "markdown",
   "id": "c60b4f1c",
   "metadata": {},
   "source": [
    "#### Now the data cleaning is done and its ready for creating a model for predicting CANCER"
   ]
  },
  {
   "cell_type": "markdown",
   "id": "e396362b",
   "metadata": {},
   "source": [
    "### Preparing the data for MODEL\n",
    "* converting the data into machine understandable format for model creation "
   ]
  },
  {
   "cell_type": "code",
   "execution_count": 25,
   "id": "1982f48d",
   "metadata": {},
   "outputs": [],
   "source": [
    "df.GENDER=df.GENDER.replace({\"M\":0,\"F\":1})\n",
    "df.LUNG_CANCER=df.LUNG_CANCER.replace({'YES':0,'NO':1})\n"
   ]
  },
  {
   "cell_type": "code",
   "execution_count": 26,
   "id": "4ebaf0f4",
   "metadata": {
    "scrolled": true
   },
   "outputs": [
    {
     "data": {
      "text/html": [
       "<div>\n",
       "<style scoped>\n",
       "    .dataframe tbody tr th:only-of-type {\n",
       "        vertical-align: middle;\n",
       "    }\n",
       "\n",
       "    .dataframe tbody tr th {\n",
       "        vertical-align: top;\n",
       "    }\n",
       "\n",
       "    .dataframe thead th {\n",
       "        text-align: right;\n",
       "    }\n",
       "</style>\n",
       "<table border=\"1\" class=\"dataframe\">\n",
       "  <thead>\n",
       "    <tr style=\"text-align: right;\">\n",
       "      <th></th>\n",
       "      <th>GENDER</th>\n",
       "      <th>AGE</th>\n",
       "      <th>SMOKING</th>\n",
       "      <th>YELLOW_FINGERS</th>\n",
       "      <th>ANXIETY</th>\n",
       "      <th>PEER_PRESSURE</th>\n",
       "      <th>CHRONIC DISEASE</th>\n",
       "      <th>FATIGUE</th>\n",
       "      <th>ALLERGY</th>\n",
       "      <th>WHEEZING</th>\n",
       "      <th>ALCOHOL CONSUMING</th>\n",
       "      <th>COUGHING</th>\n",
       "      <th>SHORTNESS OF BREATH</th>\n",
       "      <th>SWALLOWING DIFFICULTY</th>\n",
       "      <th>CHEST PAIN</th>\n",
       "      <th>LUNG_CANCER</th>\n",
       "    </tr>\n",
       "  </thead>\n",
       "  <tbody>\n",
       "    <tr>\n",
       "      <th>0</th>\n",
       "      <td>0</td>\n",
       "      <td>69</td>\n",
       "      <td>1</td>\n",
       "      <td>2</td>\n",
       "      <td>2</td>\n",
       "      <td>1</td>\n",
       "      <td>1</td>\n",
       "      <td>2</td>\n",
       "      <td>1</td>\n",
       "      <td>2</td>\n",
       "      <td>2</td>\n",
       "      <td>2</td>\n",
       "      <td>2</td>\n",
       "      <td>2</td>\n",
       "      <td>2</td>\n",
       "      <td>0</td>\n",
       "    </tr>\n",
       "    <tr>\n",
       "      <th>1</th>\n",
       "      <td>0</td>\n",
       "      <td>74</td>\n",
       "      <td>2</td>\n",
       "      <td>1</td>\n",
       "      <td>1</td>\n",
       "      <td>1</td>\n",
       "      <td>2</td>\n",
       "      <td>2</td>\n",
       "      <td>2</td>\n",
       "      <td>1</td>\n",
       "      <td>1</td>\n",
       "      <td>1</td>\n",
       "      <td>2</td>\n",
       "      <td>2</td>\n",
       "      <td>2</td>\n",
       "      <td>0</td>\n",
       "    </tr>\n",
       "    <tr>\n",
       "      <th>2</th>\n",
       "      <td>1</td>\n",
       "      <td>59</td>\n",
       "      <td>1</td>\n",
       "      <td>1</td>\n",
       "      <td>1</td>\n",
       "      <td>2</td>\n",
       "      <td>1</td>\n",
       "      <td>2</td>\n",
       "      <td>1</td>\n",
       "      <td>2</td>\n",
       "      <td>1</td>\n",
       "      <td>2</td>\n",
       "      <td>2</td>\n",
       "      <td>1</td>\n",
       "      <td>2</td>\n",
       "      <td>1</td>\n",
       "    </tr>\n",
       "    <tr>\n",
       "      <th>3</th>\n",
       "      <td>0</td>\n",
       "      <td>63</td>\n",
       "      <td>2</td>\n",
       "      <td>2</td>\n",
       "      <td>2</td>\n",
       "      <td>1</td>\n",
       "      <td>1</td>\n",
       "      <td>1</td>\n",
       "      <td>1</td>\n",
       "      <td>1</td>\n",
       "      <td>2</td>\n",
       "      <td>1</td>\n",
       "      <td>1</td>\n",
       "      <td>2</td>\n",
       "      <td>2</td>\n",
       "      <td>1</td>\n",
       "    </tr>\n",
       "    <tr>\n",
       "      <th>4</th>\n",
       "      <td>1</td>\n",
       "      <td>63</td>\n",
       "      <td>1</td>\n",
       "      <td>2</td>\n",
       "      <td>1</td>\n",
       "      <td>1</td>\n",
       "      <td>1</td>\n",
       "      <td>1</td>\n",
       "      <td>1</td>\n",
       "      <td>2</td>\n",
       "      <td>1</td>\n",
       "      <td>2</td>\n",
       "      <td>2</td>\n",
       "      <td>1</td>\n",
       "      <td>1</td>\n",
       "      <td>1</td>\n",
       "    </tr>\n",
       "    <tr>\n",
       "      <th>...</th>\n",
       "      <td>...</td>\n",
       "      <td>...</td>\n",
       "      <td>...</td>\n",
       "      <td>...</td>\n",
       "      <td>...</td>\n",
       "      <td>...</td>\n",
       "      <td>...</td>\n",
       "      <td>...</td>\n",
       "      <td>...</td>\n",
       "      <td>...</td>\n",
       "      <td>...</td>\n",
       "      <td>...</td>\n",
       "      <td>...</td>\n",
       "      <td>...</td>\n",
       "      <td>...</td>\n",
       "      <td>...</td>\n",
       "    </tr>\n",
       "    <tr>\n",
       "      <th>304</th>\n",
       "      <td>1</td>\n",
       "      <td>56</td>\n",
       "      <td>1</td>\n",
       "      <td>1</td>\n",
       "      <td>1</td>\n",
       "      <td>2</td>\n",
       "      <td>2</td>\n",
       "      <td>2</td>\n",
       "      <td>1</td>\n",
       "      <td>1</td>\n",
       "      <td>2</td>\n",
       "      <td>2</td>\n",
       "      <td>2</td>\n",
       "      <td>2</td>\n",
       "      <td>1</td>\n",
       "      <td>0</td>\n",
       "    </tr>\n",
       "    <tr>\n",
       "      <th>305</th>\n",
       "      <td>0</td>\n",
       "      <td>70</td>\n",
       "      <td>2</td>\n",
       "      <td>1</td>\n",
       "      <td>1</td>\n",
       "      <td>1</td>\n",
       "      <td>1</td>\n",
       "      <td>2</td>\n",
       "      <td>2</td>\n",
       "      <td>2</td>\n",
       "      <td>2</td>\n",
       "      <td>2</td>\n",
       "      <td>2</td>\n",
       "      <td>1</td>\n",
       "      <td>2</td>\n",
       "      <td>0</td>\n",
       "    </tr>\n",
       "    <tr>\n",
       "      <th>306</th>\n",
       "      <td>0</td>\n",
       "      <td>58</td>\n",
       "      <td>2</td>\n",
       "      <td>1</td>\n",
       "      <td>1</td>\n",
       "      <td>1</td>\n",
       "      <td>1</td>\n",
       "      <td>1</td>\n",
       "      <td>2</td>\n",
       "      <td>2</td>\n",
       "      <td>2</td>\n",
       "      <td>2</td>\n",
       "      <td>1</td>\n",
       "      <td>1</td>\n",
       "      <td>2</td>\n",
       "      <td>0</td>\n",
       "    </tr>\n",
       "    <tr>\n",
       "      <th>307</th>\n",
       "      <td>0</td>\n",
       "      <td>67</td>\n",
       "      <td>2</td>\n",
       "      <td>1</td>\n",
       "      <td>2</td>\n",
       "      <td>1</td>\n",
       "      <td>1</td>\n",
       "      <td>2</td>\n",
       "      <td>2</td>\n",
       "      <td>1</td>\n",
       "      <td>2</td>\n",
       "      <td>2</td>\n",
       "      <td>2</td>\n",
       "      <td>1</td>\n",
       "      <td>2</td>\n",
       "      <td>0</td>\n",
       "    </tr>\n",
       "    <tr>\n",
       "      <th>308</th>\n",
       "      <td>0</td>\n",
       "      <td>62</td>\n",
       "      <td>1</td>\n",
       "      <td>1</td>\n",
       "      <td>1</td>\n",
       "      <td>2</td>\n",
       "      <td>1</td>\n",
       "      <td>2</td>\n",
       "      <td>2</td>\n",
       "      <td>2</td>\n",
       "      <td>2</td>\n",
       "      <td>1</td>\n",
       "      <td>1</td>\n",
       "      <td>2</td>\n",
       "      <td>1</td>\n",
       "      <td>0</td>\n",
       "    </tr>\n",
       "  </tbody>\n",
       "</table>\n",
       "<p>309 rows × 16 columns</p>\n",
       "</div>"
      ],
      "text/plain": [
       "     GENDER  AGE  SMOKING  YELLOW_FINGERS  ANXIETY  PEER_PRESSURE  \\\n",
       "0         0   69        1               2        2              1   \n",
       "1         0   74        2               1        1              1   \n",
       "2         1   59        1               1        1              2   \n",
       "3         0   63        2               2        2              1   \n",
       "4         1   63        1               2        1              1   \n",
       "..      ...  ...      ...             ...      ...            ...   \n",
       "304       1   56        1               1        1              2   \n",
       "305       0   70        2               1        1              1   \n",
       "306       0   58        2               1        1              1   \n",
       "307       0   67        2               1        2              1   \n",
       "308       0   62        1               1        1              2   \n",
       "\n",
       "     CHRONIC DISEASE  FATIGUE   ALLERGY   WHEEZING  ALCOHOL CONSUMING  \\\n",
       "0                  1         2         1         2                  2   \n",
       "1                  2         2         2         1                  1   \n",
       "2                  1         2         1         2                  1   \n",
       "3                  1         1         1         1                  2   \n",
       "4                  1         1         1         2                  1   \n",
       "..               ...       ...       ...       ...                ...   \n",
       "304                2         2         1         1                  2   \n",
       "305                1         2         2         2                  2   \n",
       "306                1         1         2         2                  2   \n",
       "307                1         2         2         1                  2   \n",
       "308                1         2         2         2                  2   \n",
       "\n",
       "     COUGHING  SHORTNESS OF BREATH  SWALLOWING DIFFICULTY  CHEST PAIN  \\\n",
       "0           2                    2                      2           2   \n",
       "1           1                    2                      2           2   \n",
       "2           2                    2                      1           2   \n",
       "3           1                    1                      2           2   \n",
       "4           2                    2                      1           1   \n",
       "..        ...                  ...                    ...         ...   \n",
       "304         2                    2                      2           1   \n",
       "305         2                    2                      1           2   \n",
       "306         2                    1                      1           2   \n",
       "307         2                    2                      1           2   \n",
       "308         1                    1                      2           1   \n",
       "\n",
       "     LUNG_CANCER  \n",
       "0              0  \n",
       "1              0  \n",
       "2              1  \n",
       "3              1  \n",
       "4              1  \n",
       "..           ...  \n",
       "304            0  \n",
       "305            0  \n",
       "306            0  \n",
       "307            0  \n",
       "308            0  \n",
       "\n",
       "[309 rows x 16 columns]"
      ]
     },
     "execution_count": 26,
     "metadata": {},
     "output_type": "execute_result"
    }
   ],
   "source": [
    "df"
   ]
  },
  {
   "cell_type": "code",
   "execution_count": 27,
   "id": "395835bd",
   "metadata": {},
   "outputs": [
    {
     "data": {
      "text/html": [
       "<div>\n",
       "<style scoped>\n",
       "    .dataframe tbody tr th:only-of-type {\n",
       "        vertical-align: middle;\n",
       "    }\n",
       "\n",
       "    .dataframe tbody tr th {\n",
       "        vertical-align: top;\n",
       "    }\n",
       "\n",
       "    .dataframe thead th {\n",
       "        text-align: right;\n",
       "    }\n",
       "</style>\n",
       "<table border=\"1\" class=\"dataframe\">\n",
       "  <thead>\n",
       "    <tr style=\"text-align: right;\">\n",
       "      <th></th>\n",
       "      <th>GENDER</th>\n",
       "      <th>AGE</th>\n",
       "      <th>SMOKING</th>\n",
       "      <th>YELLOW_FINGERS</th>\n",
       "      <th>ANXIETY</th>\n",
       "      <th>PEER_PRESSURE</th>\n",
       "      <th>CHRONIC DISEASE</th>\n",
       "      <th>FATIGUE</th>\n",
       "      <th>ALLERGY</th>\n",
       "      <th>WHEEZING</th>\n",
       "      <th>ALCOHOL CONSUMING</th>\n",
       "      <th>COUGHING</th>\n",
       "      <th>SHORTNESS OF BREATH</th>\n",
       "      <th>SWALLOWING DIFFICULTY</th>\n",
       "      <th>CHEST PAIN</th>\n",
       "      <th>LUNG_CANCER</th>\n",
       "    </tr>\n",
       "  </thead>\n",
       "  <tbody>\n",
       "    <tr>\n",
       "      <th>0</th>\n",
       "      <td>0</td>\n",
       "      <td>69</td>\n",
       "      <td>1</td>\n",
       "      <td>2</td>\n",
       "      <td>2</td>\n",
       "      <td>1</td>\n",
       "      <td>1</td>\n",
       "      <td>2</td>\n",
       "      <td>1</td>\n",
       "      <td>2</td>\n",
       "      <td>2</td>\n",
       "      <td>2</td>\n",
       "      <td>2</td>\n",
       "      <td>2</td>\n",
       "      <td>2</td>\n",
       "      <td>0</td>\n",
       "    </tr>\n",
       "    <tr>\n",
       "      <th>1</th>\n",
       "      <td>0</td>\n",
       "      <td>74</td>\n",
       "      <td>2</td>\n",
       "      <td>1</td>\n",
       "      <td>1</td>\n",
       "      <td>1</td>\n",
       "      <td>2</td>\n",
       "      <td>2</td>\n",
       "      <td>2</td>\n",
       "      <td>1</td>\n",
       "      <td>1</td>\n",
       "      <td>1</td>\n",
       "      <td>2</td>\n",
       "      <td>2</td>\n",
       "      <td>2</td>\n",
       "      <td>0</td>\n",
       "    </tr>\n",
       "    <tr>\n",
       "      <th>2</th>\n",
       "      <td>1</td>\n",
       "      <td>59</td>\n",
       "      <td>1</td>\n",
       "      <td>1</td>\n",
       "      <td>1</td>\n",
       "      <td>2</td>\n",
       "      <td>1</td>\n",
       "      <td>2</td>\n",
       "      <td>1</td>\n",
       "      <td>2</td>\n",
       "      <td>1</td>\n",
       "      <td>2</td>\n",
       "      <td>2</td>\n",
       "      <td>1</td>\n",
       "      <td>2</td>\n",
       "      <td>1</td>\n",
       "    </tr>\n",
       "    <tr>\n",
       "      <th>3</th>\n",
       "      <td>0</td>\n",
       "      <td>63</td>\n",
       "      <td>2</td>\n",
       "      <td>2</td>\n",
       "      <td>2</td>\n",
       "      <td>1</td>\n",
       "      <td>1</td>\n",
       "      <td>1</td>\n",
       "      <td>1</td>\n",
       "      <td>1</td>\n",
       "      <td>2</td>\n",
       "      <td>1</td>\n",
       "      <td>1</td>\n",
       "      <td>2</td>\n",
       "      <td>2</td>\n",
       "      <td>1</td>\n",
       "    </tr>\n",
       "    <tr>\n",
       "      <th>4</th>\n",
       "      <td>1</td>\n",
       "      <td>63</td>\n",
       "      <td>1</td>\n",
       "      <td>2</td>\n",
       "      <td>1</td>\n",
       "      <td>1</td>\n",
       "      <td>1</td>\n",
       "      <td>1</td>\n",
       "      <td>1</td>\n",
       "      <td>2</td>\n",
       "      <td>1</td>\n",
       "      <td>2</td>\n",
       "      <td>2</td>\n",
       "      <td>1</td>\n",
       "      <td>1</td>\n",
       "      <td>1</td>\n",
       "    </tr>\n",
       "    <tr>\n",
       "      <th>...</th>\n",
       "      <td>...</td>\n",
       "      <td>...</td>\n",
       "      <td>...</td>\n",
       "      <td>...</td>\n",
       "      <td>...</td>\n",
       "      <td>...</td>\n",
       "      <td>...</td>\n",
       "      <td>...</td>\n",
       "      <td>...</td>\n",
       "      <td>...</td>\n",
       "      <td>...</td>\n",
       "      <td>...</td>\n",
       "      <td>...</td>\n",
       "      <td>...</td>\n",
       "      <td>...</td>\n",
       "      <td>...</td>\n",
       "    </tr>\n",
       "    <tr>\n",
       "      <th>304</th>\n",
       "      <td>1</td>\n",
       "      <td>56</td>\n",
       "      <td>1</td>\n",
       "      <td>1</td>\n",
       "      <td>1</td>\n",
       "      <td>2</td>\n",
       "      <td>2</td>\n",
       "      <td>2</td>\n",
       "      <td>1</td>\n",
       "      <td>1</td>\n",
       "      <td>2</td>\n",
       "      <td>2</td>\n",
       "      <td>2</td>\n",
       "      <td>2</td>\n",
       "      <td>1</td>\n",
       "      <td>0</td>\n",
       "    </tr>\n",
       "    <tr>\n",
       "      <th>305</th>\n",
       "      <td>0</td>\n",
       "      <td>70</td>\n",
       "      <td>2</td>\n",
       "      <td>1</td>\n",
       "      <td>1</td>\n",
       "      <td>1</td>\n",
       "      <td>1</td>\n",
       "      <td>2</td>\n",
       "      <td>2</td>\n",
       "      <td>2</td>\n",
       "      <td>2</td>\n",
       "      <td>2</td>\n",
       "      <td>2</td>\n",
       "      <td>1</td>\n",
       "      <td>2</td>\n",
       "      <td>0</td>\n",
       "    </tr>\n",
       "    <tr>\n",
       "      <th>306</th>\n",
       "      <td>0</td>\n",
       "      <td>58</td>\n",
       "      <td>2</td>\n",
       "      <td>1</td>\n",
       "      <td>1</td>\n",
       "      <td>1</td>\n",
       "      <td>1</td>\n",
       "      <td>1</td>\n",
       "      <td>2</td>\n",
       "      <td>2</td>\n",
       "      <td>2</td>\n",
       "      <td>2</td>\n",
       "      <td>1</td>\n",
       "      <td>1</td>\n",
       "      <td>2</td>\n",
       "      <td>0</td>\n",
       "    </tr>\n",
       "    <tr>\n",
       "      <th>307</th>\n",
       "      <td>0</td>\n",
       "      <td>67</td>\n",
       "      <td>2</td>\n",
       "      <td>1</td>\n",
       "      <td>2</td>\n",
       "      <td>1</td>\n",
       "      <td>1</td>\n",
       "      <td>2</td>\n",
       "      <td>2</td>\n",
       "      <td>1</td>\n",
       "      <td>2</td>\n",
       "      <td>2</td>\n",
       "      <td>2</td>\n",
       "      <td>1</td>\n",
       "      <td>2</td>\n",
       "      <td>0</td>\n",
       "    </tr>\n",
       "    <tr>\n",
       "      <th>308</th>\n",
       "      <td>0</td>\n",
       "      <td>62</td>\n",
       "      <td>1</td>\n",
       "      <td>1</td>\n",
       "      <td>1</td>\n",
       "      <td>2</td>\n",
       "      <td>1</td>\n",
       "      <td>2</td>\n",
       "      <td>2</td>\n",
       "      <td>2</td>\n",
       "      <td>2</td>\n",
       "      <td>1</td>\n",
       "      <td>1</td>\n",
       "      <td>2</td>\n",
       "      <td>1</td>\n",
       "      <td>0</td>\n",
       "    </tr>\n",
       "  </tbody>\n",
       "</table>\n",
       "<p>309 rows × 16 columns</p>\n",
       "</div>"
      ],
      "text/plain": [
       "     GENDER  AGE  SMOKING  YELLOW_FINGERS  ANXIETY  PEER_PRESSURE  \\\n",
       "0         0   69        1               2        2              1   \n",
       "1         0   74        2               1        1              1   \n",
       "2         1   59        1               1        1              2   \n",
       "3         0   63        2               2        2              1   \n",
       "4         1   63        1               2        1              1   \n",
       "..      ...  ...      ...             ...      ...            ...   \n",
       "304       1   56        1               1        1              2   \n",
       "305       0   70        2               1        1              1   \n",
       "306       0   58        2               1        1              1   \n",
       "307       0   67        2               1        2              1   \n",
       "308       0   62        1               1        1              2   \n",
       "\n",
       "     CHRONIC DISEASE  FATIGUE   ALLERGY   WHEEZING  ALCOHOL CONSUMING  \\\n",
       "0                  1         2         1         2                  2   \n",
       "1                  2         2         2         1                  1   \n",
       "2                  1         2         1         2                  1   \n",
       "3                  1         1         1         1                  2   \n",
       "4                  1         1         1         2                  1   \n",
       "..               ...       ...       ...       ...                ...   \n",
       "304                2         2         1         1                  2   \n",
       "305                1         2         2         2                  2   \n",
       "306                1         1         2         2                  2   \n",
       "307                1         2         2         1                  2   \n",
       "308                1         2         2         2                  2   \n",
       "\n",
       "     COUGHING  SHORTNESS OF BREATH  SWALLOWING DIFFICULTY  CHEST PAIN  \\\n",
       "0           2                    2                      2           2   \n",
       "1           1                    2                      2           2   \n",
       "2           2                    2                      1           2   \n",
       "3           1                    1                      2           2   \n",
       "4           2                    2                      1           1   \n",
       "..        ...                  ...                    ...         ...   \n",
       "304         2                    2                      2           1   \n",
       "305         2                    2                      1           2   \n",
       "306         2                    1                      1           2   \n",
       "307         2                    2                      1           2   \n",
       "308         1                    1                      2           1   \n",
       "\n",
       "     LUNG_CANCER  \n",
       "0              0  \n",
       "1              0  \n",
       "2              1  \n",
       "3              1  \n",
       "4              1  \n",
       "..           ...  \n",
       "304            0  \n",
       "305            0  \n",
       "306            0  \n",
       "307            0  \n",
       "308            0  \n",
       "\n",
       "[309 rows x 16 columns]"
      ]
     },
     "execution_count": 27,
     "metadata": {},
     "output_type": "execute_result"
    }
   ],
   "source": [
    "d=df.copy()\n",
    "d"
   ]
  },
  {
   "cell_type": "code",
   "execution_count": 28,
   "id": "b097db6d",
   "metadata": {},
   "outputs": [],
   "source": [
    "def age(agevalue):\n",
    "    if agevalue<30:\n",
    "        return 1\n",
    "    elif agevalue<50:\n",
    "        return 2\n",
    "    else:\n",
    "        return 3"
   ]
  },
  {
   "cell_type": "code",
   "execution_count": 29,
   "id": "d50fe5cc",
   "metadata": {},
   "outputs": [],
   "source": [
    "d['AGE']=d['AGE'].apply(age)"
   ]
  },
  {
   "cell_type": "code",
   "execution_count": 30,
   "id": "adf5b104",
   "metadata": {
    "scrolled": true
   },
   "outputs": [
    {
     "data": {
      "text/html": [
       "<div>\n",
       "<style scoped>\n",
       "    .dataframe tbody tr th:only-of-type {\n",
       "        vertical-align: middle;\n",
       "    }\n",
       "\n",
       "    .dataframe tbody tr th {\n",
       "        vertical-align: top;\n",
       "    }\n",
       "\n",
       "    .dataframe thead th {\n",
       "        text-align: right;\n",
       "    }\n",
       "</style>\n",
       "<table border=\"1\" class=\"dataframe\">\n",
       "  <thead>\n",
       "    <tr style=\"text-align: right;\">\n",
       "      <th></th>\n",
       "      <th>GENDER</th>\n",
       "      <th>AGE</th>\n",
       "      <th>SMOKING</th>\n",
       "      <th>YELLOW_FINGERS</th>\n",
       "      <th>ANXIETY</th>\n",
       "      <th>PEER_PRESSURE</th>\n",
       "      <th>CHRONIC DISEASE</th>\n",
       "      <th>FATIGUE</th>\n",
       "      <th>ALLERGY</th>\n",
       "      <th>WHEEZING</th>\n",
       "      <th>ALCOHOL CONSUMING</th>\n",
       "      <th>COUGHING</th>\n",
       "      <th>SHORTNESS OF BREATH</th>\n",
       "      <th>SWALLOWING DIFFICULTY</th>\n",
       "      <th>CHEST PAIN</th>\n",
       "      <th>LUNG_CANCER</th>\n",
       "    </tr>\n",
       "  </thead>\n",
       "  <tbody>\n",
       "    <tr>\n",
       "      <th>0</th>\n",
       "      <td>0</td>\n",
       "      <td>3</td>\n",
       "      <td>1</td>\n",
       "      <td>2</td>\n",
       "      <td>2</td>\n",
       "      <td>1</td>\n",
       "      <td>1</td>\n",
       "      <td>2</td>\n",
       "      <td>1</td>\n",
       "      <td>2</td>\n",
       "      <td>2</td>\n",
       "      <td>2</td>\n",
       "      <td>2</td>\n",
       "      <td>2</td>\n",
       "      <td>2</td>\n",
       "      <td>0</td>\n",
       "    </tr>\n",
       "    <tr>\n",
       "      <th>1</th>\n",
       "      <td>0</td>\n",
       "      <td>3</td>\n",
       "      <td>2</td>\n",
       "      <td>1</td>\n",
       "      <td>1</td>\n",
       "      <td>1</td>\n",
       "      <td>2</td>\n",
       "      <td>2</td>\n",
       "      <td>2</td>\n",
       "      <td>1</td>\n",
       "      <td>1</td>\n",
       "      <td>1</td>\n",
       "      <td>2</td>\n",
       "      <td>2</td>\n",
       "      <td>2</td>\n",
       "      <td>0</td>\n",
       "    </tr>\n",
       "    <tr>\n",
       "      <th>2</th>\n",
       "      <td>1</td>\n",
       "      <td>3</td>\n",
       "      <td>1</td>\n",
       "      <td>1</td>\n",
       "      <td>1</td>\n",
       "      <td>2</td>\n",
       "      <td>1</td>\n",
       "      <td>2</td>\n",
       "      <td>1</td>\n",
       "      <td>2</td>\n",
       "      <td>1</td>\n",
       "      <td>2</td>\n",
       "      <td>2</td>\n",
       "      <td>1</td>\n",
       "      <td>2</td>\n",
       "      <td>1</td>\n",
       "    </tr>\n",
       "    <tr>\n",
       "      <th>3</th>\n",
       "      <td>0</td>\n",
       "      <td>3</td>\n",
       "      <td>2</td>\n",
       "      <td>2</td>\n",
       "      <td>2</td>\n",
       "      <td>1</td>\n",
       "      <td>1</td>\n",
       "      <td>1</td>\n",
       "      <td>1</td>\n",
       "      <td>1</td>\n",
       "      <td>2</td>\n",
       "      <td>1</td>\n",
       "      <td>1</td>\n",
       "      <td>2</td>\n",
       "      <td>2</td>\n",
       "      <td>1</td>\n",
       "    </tr>\n",
       "    <tr>\n",
       "      <th>4</th>\n",
       "      <td>1</td>\n",
       "      <td>3</td>\n",
       "      <td>1</td>\n",
       "      <td>2</td>\n",
       "      <td>1</td>\n",
       "      <td>1</td>\n",
       "      <td>1</td>\n",
       "      <td>1</td>\n",
       "      <td>1</td>\n",
       "      <td>2</td>\n",
       "      <td>1</td>\n",
       "      <td>2</td>\n",
       "      <td>2</td>\n",
       "      <td>1</td>\n",
       "      <td>1</td>\n",
       "      <td>1</td>\n",
       "    </tr>\n",
       "    <tr>\n",
       "      <th>...</th>\n",
       "      <td>...</td>\n",
       "      <td>...</td>\n",
       "      <td>...</td>\n",
       "      <td>...</td>\n",
       "      <td>...</td>\n",
       "      <td>...</td>\n",
       "      <td>...</td>\n",
       "      <td>...</td>\n",
       "      <td>...</td>\n",
       "      <td>...</td>\n",
       "      <td>...</td>\n",
       "      <td>...</td>\n",
       "      <td>...</td>\n",
       "      <td>...</td>\n",
       "      <td>...</td>\n",
       "      <td>...</td>\n",
       "    </tr>\n",
       "    <tr>\n",
       "      <th>304</th>\n",
       "      <td>1</td>\n",
       "      <td>3</td>\n",
       "      <td>1</td>\n",
       "      <td>1</td>\n",
       "      <td>1</td>\n",
       "      <td>2</td>\n",
       "      <td>2</td>\n",
       "      <td>2</td>\n",
       "      <td>1</td>\n",
       "      <td>1</td>\n",
       "      <td>2</td>\n",
       "      <td>2</td>\n",
       "      <td>2</td>\n",
       "      <td>2</td>\n",
       "      <td>1</td>\n",
       "      <td>0</td>\n",
       "    </tr>\n",
       "    <tr>\n",
       "      <th>305</th>\n",
       "      <td>0</td>\n",
       "      <td>3</td>\n",
       "      <td>2</td>\n",
       "      <td>1</td>\n",
       "      <td>1</td>\n",
       "      <td>1</td>\n",
       "      <td>1</td>\n",
       "      <td>2</td>\n",
       "      <td>2</td>\n",
       "      <td>2</td>\n",
       "      <td>2</td>\n",
       "      <td>2</td>\n",
       "      <td>2</td>\n",
       "      <td>1</td>\n",
       "      <td>2</td>\n",
       "      <td>0</td>\n",
       "    </tr>\n",
       "    <tr>\n",
       "      <th>306</th>\n",
       "      <td>0</td>\n",
       "      <td>3</td>\n",
       "      <td>2</td>\n",
       "      <td>1</td>\n",
       "      <td>1</td>\n",
       "      <td>1</td>\n",
       "      <td>1</td>\n",
       "      <td>1</td>\n",
       "      <td>2</td>\n",
       "      <td>2</td>\n",
       "      <td>2</td>\n",
       "      <td>2</td>\n",
       "      <td>1</td>\n",
       "      <td>1</td>\n",
       "      <td>2</td>\n",
       "      <td>0</td>\n",
       "    </tr>\n",
       "    <tr>\n",
       "      <th>307</th>\n",
       "      <td>0</td>\n",
       "      <td>3</td>\n",
       "      <td>2</td>\n",
       "      <td>1</td>\n",
       "      <td>2</td>\n",
       "      <td>1</td>\n",
       "      <td>1</td>\n",
       "      <td>2</td>\n",
       "      <td>2</td>\n",
       "      <td>1</td>\n",
       "      <td>2</td>\n",
       "      <td>2</td>\n",
       "      <td>2</td>\n",
       "      <td>1</td>\n",
       "      <td>2</td>\n",
       "      <td>0</td>\n",
       "    </tr>\n",
       "    <tr>\n",
       "      <th>308</th>\n",
       "      <td>0</td>\n",
       "      <td>3</td>\n",
       "      <td>1</td>\n",
       "      <td>1</td>\n",
       "      <td>1</td>\n",
       "      <td>2</td>\n",
       "      <td>1</td>\n",
       "      <td>2</td>\n",
       "      <td>2</td>\n",
       "      <td>2</td>\n",
       "      <td>2</td>\n",
       "      <td>1</td>\n",
       "      <td>1</td>\n",
       "      <td>2</td>\n",
       "      <td>1</td>\n",
       "      <td>0</td>\n",
       "    </tr>\n",
       "  </tbody>\n",
       "</table>\n",
       "<p>309 rows × 16 columns</p>\n",
       "</div>"
      ],
      "text/plain": [
       "     GENDER  AGE  SMOKING  YELLOW_FINGERS  ANXIETY  PEER_PRESSURE  \\\n",
       "0         0    3        1               2        2              1   \n",
       "1         0    3        2               1        1              1   \n",
       "2         1    3        1               1        1              2   \n",
       "3         0    3        2               2        2              1   \n",
       "4         1    3        1               2        1              1   \n",
       "..      ...  ...      ...             ...      ...            ...   \n",
       "304       1    3        1               1        1              2   \n",
       "305       0    3        2               1        1              1   \n",
       "306       0    3        2               1        1              1   \n",
       "307       0    3        2               1        2              1   \n",
       "308       0    3        1               1        1              2   \n",
       "\n",
       "     CHRONIC DISEASE  FATIGUE   ALLERGY   WHEEZING  ALCOHOL CONSUMING  \\\n",
       "0                  1         2         1         2                  2   \n",
       "1                  2         2         2         1                  1   \n",
       "2                  1         2         1         2                  1   \n",
       "3                  1         1         1         1                  2   \n",
       "4                  1         1         1         2                  1   \n",
       "..               ...       ...       ...       ...                ...   \n",
       "304                2         2         1         1                  2   \n",
       "305                1         2         2         2                  2   \n",
       "306                1         1         2         2                  2   \n",
       "307                1         2         2         1                  2   \n",
       "308                1         2         2         2                  2   \n",
       "\n",
       "     COUGHING  SHORTNESS OF BREATH  SWALLOWING DIFFICULTY  CHEST PAIN  \\\n",
       "0           2                    2                      2           2   \n",
       "1           1                    2                      2           2   \n",
       "2           2                    2                      1           2   \n",
       "3           1                    1                      2           2   \n",
       "4           2                    2                      1           1   \n",
       "..        ...                  ...                    ...         ...   \n",
       "304         2                    2                      2           1   \n",
       "305         2                    2                      1           2   \n",
       "306         2                    1                      1           2   \n",
       "307         2                    2                      1           2   \n",
       "308         1                    1                      2           1   \n",
       "\n",
       "     LUNG_CANCER  \n",
       "0              0  \n",
       "1              0  \n",
       "2              1  \n",
       "3              1  \n",
       "4              1  \n",
       "..           ...  \n",
       "304            0  \n",
       "305            0  \n",
       "306            0  \n",
       "307            0  \n",
       "308            0  \n",
       "\n",
       "[309 rows x 16 columns]"
      ]
     },
     "execution_count": 30,
     "metadata": {},
     "output_type": "execute_result"
    }
   ],
   "source": [
    "d"
   ]
  },
  {
   "cell_type": "markdown",
   "id": "7de8a2fd",
   "metadata": {},
   "source": [
    "#### <u>Splitting the dataset:<u>\n",
    "* test_size = 0.25 so that data is split into 75% and 25%\n",
    "* random_state is applied so that each time we run we get the same result "
   ]
  },
  {
   "cell_type": "code",
   "execution_count": 31,
   "id": "9e84c3d1",
   "metadata": {},
   "outputs": [
    {
     "data": {
      "text/plain": [
       "Index(['GENDER', 'AGE', 'SMOKING', 'YELLOW_FINGERS', 'ANXIETY',\n",
       "       'PEER_PRESSURE', 'CHRONIC DISEASE', 'FATIGUE ', 'ALLERGY ', 'WHEEZING',\n",
       "       'ALCOHOL CONSUMING', 'COUGHING', 'SHORTNESS OF BREATH',\n",
       "       'SWALLOWING DIFFICULTY', 'CHEST PAIN', 'LUNG_CANCER'],\n",
       "      dtype='object')"
      ]
     },
     "execution_count": 31,
     "metadata": {},
     "output_type": "execute_result"
    }
   ],
   "source": [
    "df.columns"
   ]
  },
  {
   "cell_type": "code",
   "execution_count": 32,
   "id": "961a22e5",
   "metadata": {},
   "outputs": [],
   "source": [
    "x=df[['GENDER', 'AGE', 'SMOKING', 'YELLOW_FINGERS', 'ANXIETY',\n",
    "       'PEER_PRESSURE', 'CHRONIC DISEASE', 'FATIGUE ', 'ALLERGY ', 'WHEEZING',\n",
    "       'ALCOHOL CONSUMING', 'COUGHING', 'SHORTNESS OF BREATH',\n",
    "       'SWALLOWING DIFFICULTY', 'CHEST PAIN']].values\n",
    "y=df['LUNG_CANCER']"
   ]
  },
  {
   "cell_type": "code",
   "execution_count": 33,
   "id": "2350d9b2",
   "metadata": {},
   "outputs": [
    {
     "data": {
      "text/plain": [
       "array([[ 0, 69,  1, ...,  2,  2,  2],\n",
       "       [ 0, 74,  2, ...,  2,  2,  2],\n",
       "       [ 1, 59,  1, ...,  2,  1,  2],\n",
       "       ...,\n",
       "       [ 0, 58,  2, ...,  1,  1,  2],\n",
       "       [ 0, 67,  2, ...,  2,  1,  2],\n",
       "       [ 0, 62,  1, ...,  1,  2,  1]], dtype=int64)"
      ]
     },
     "execution_count": 33,
     "metadata": {},
     "output_type": "execute_result"
    }
   ],
   "source": [
    "x"
   ]
  },
  {
   "cell_type": "code",
   "execution_count": 34,
   "id": "c9f0be6a",
   "metadata": {},
   "outputs": [
    {
     "data": {
      "text/plain": [
       "0      0\n",
       "1      0\n",
       "2      1\n",
       "3      1\n",
       "4      1\n",
       "      ..\n",
       "304    0\n",
       "305    0\n",
       "306    0\n",
       "307    0\n",
       "308    0\n",
       "Name: LUNG_CANCER, Length: 309, dtype: int64"
      ]
     },
     "execution_count": 34,
     "metadata": {},
     "output_type": "execute_result"
    }
   ],
   "source": [
    "y"
   ]
  },
  {
   "cell_type": "markdown",
   "id": "106a77ed",
   "metadata": {},
   "source": [
    "#### Importing libraries for spliting the data "
   ]
  },
  {
   "cell_type": "code",
   "execution_count": 35,
   "id": "c18d5b85",
   "metadata": {},
   "outputs": [],
   "source": [
    "\n",
    "from sklearn.model_selection import train_test_split\n",
    "x_train,x_test,y_train,y_test=train_test_split(x,y,test_size=0.25,random_state=27)"
   ]
  },
  {
   "cell_type": "markdown",
   "id": "e0ddefe7",
   "metadata": {},
   "source": [
    "#### Checking for shape of train and test cases"
   ]
  },
  {
   "cell_type": "code",
   "execution_count": 36,
   "id": "a614a705",
   "metadata": {
    "scrolled": true
   },
   "outputs": [
    {
     "name": "stdout",
     "output_type": "stream",
     "text": [
      "(231, 15)\n",
      "(78, 15)\n",
      "(231,)\n",
      "(78,)\n"
     ]
    }
   ],
   "source": [
    "print(x_train.shape)\n",
    "print(x_test.shape)\n",
    "print(y_train.shape)\n",
    "print(y_test.shape)"
   ]
  },
  {
   "cell_type": "markdown",
   "id": "ad9fc5f7",
   "metadata": {},
   "source": [
    "#### Training the data with Some of the ML approaches:\n",
    "    * Logistic Regression\n",
    "    * KNN\n",
    "    * Random Forest Classifier\n",
    "    * Decision Tree Classifier\n",
    "    * Naive Bayes Classifier\n",
    "    \n",
    "    "
   ]
  },
  {
   "cell_type": "markdown",
   "id": "ab0839d7",
   "metadata": {},
   "source": [
    "### <u>Logistic Regression :<u>\n",
    "* Logistic regression models a relationship between predictor variables and a categorical response variable. Here, we could use logistic regression to model the relationship between various features of purchasing to predict if a person have lung cancer or not (a binary variable: either yes or no). Logistic regression helps us estimate a probability of falling into a certain level of the categorical response given a set of predictors."
   ]
  },
  {
   "cell_type": "code",
   "execution_count": 37,
   "id": "88c35781",
   "metadata": {},
   "outputs": [],
   "source": [
    "from sklearn.linear_model import LogisticRegression "
   ]
  },
  {
   "cell_type": "code",
   "execution_count": 38,
   "id": "53bf3471",
   "metadata": {},
   "outputs": [],
   "source": [
    "model_LR=LogisticRegression()"
   ]
  },
  {
   "cell_type": "code",
   "execution_count": 39,
   "id": "cfb808a7",
   "metadata": {
    "scrolled": true
   },
   "outputs": [
    {
     "name": "stderr",
     "output_type": "stream",
     "text": [
      "C:\\Users\\User\\anaconda3\\lib\\site-packages\\sklearn\\linear_model\\_logistic.py:763: ConvergenceWarning: lbfgs failed to converge (status=1):\n",
      "STOP: TOTAL NO. of ITERATIONS REACHED LIMIT.\n",
      "\n",
      "Increase the number of iterations (max_iter) or scale the data as shown in:\n",
      "    https://scikit-learn.org/stable/modules/preprocessing.html\n",
      "Please also refer to the documentation for alternative solver options:\n",
      "    https://scikit-learn.org/stable/modules/linear_model.html#logistic-regression\n",
      "  n_iter_i = _check_optimize_result(\n"
     ]
    },
    {
     "data": {
      "text/plain": [
       "LogisticRegression()"
      ]
     },
     "execution_count": 39,
     "metadata": {},
     "output_type": "execute_result"
    }
   ],
   "source": [
    "model_LR.fit(x_train,y_train)"
   ]
  },
  {
   "cell_type": "code",
   "execution_count": 40,
   "id": "de53b2dd",
   "metadata": {},
   "outputs": [
    {
     "data": {
      "text/plain": [
       "0.9307359307359307"
      ]
     },
     "execution_count": 40,
     "metadata": {},
     "output_type": "execute_result"
    }
   ],
   "source": [
    "model_LR.score(x_train,y_train)"
   ]
  },
  {
   "cell_type": "markdown",
   "id": "59c30200",
   "metadata": {},
   "source": [
    "#### <u>K-Nearest Neighbors<u>\n",
    "* The K-Nearest Neighbors or KNN Classification is a simple and easy to implement, supervised machine learning algorithm that is used mostly for classification problems but applicable for regression problems too."
   ]
  },
  {
   "cell_type": "code",
   "execution_count": 122,
   "id": "18fa4fa0",
   "metadata": {},
   "outputs": [],
   "source": [
    "from sklearn.neighbors import KNeighborsClassifier"
   ]
  },
  {
   "cell_type": "code",
   "execution_count": 123,
   "id": "e9ffd727",
   "metadata": {},
   "outputs": [],
   "source": [
    "model_KNN=KNeighborsClassifier(n_neighbors=5)"
   ]
  },
  {
   "cell_type": "code",
   "execution_count": 124,
   "id": "af80170c",
   "metadata": {},
   "outputs": [
    {
     "data": {
      "text/plain": [
       "KNeighborsClassifier()"
      ]
     },
     "execution_count": 124,
     "metadata": {},
     "output_type": "execute_result"
    }
   ],
   "source": [
    "model_KNN.fit(x_train,y_train)"
   ]
  },
  {
   "cell_type": "code",
   "execution_count": 125,
   "id": "175e706e",
   "metadata": {},
   "outputs": [
    {
     "data": {
      "text/plain": [
       "0.9047619047619048"
      ]
     },
     "execution_count": 125,
     "metadata": {},
     "output_type": "execute_result"
    }
   ],
   "source": [
    "model_KNN.score(x_train,y_train)"
   ]
  },
  {
   "cell_type": "markdown",
   "id": "669d7323",
   "metadata": {},
   "source": [
    "#### <u>Decision Tree:<u>\n",
    "* Decision tree regression observes features of an object and trains a model in the structure of a tree to predict data in the future to produce meaningful continuous output. Continuous output means that the output/result is not discrete, i.e., it is not represented just by a discrete, known set of numbers or values."
   ]
  },
  {
   "cell_type": "code",
   "execution_count": 126,
   "id": "d62497ea",
   "metadata": {},
   "outputs": [],
   "source": [
    "from sklearn.tree import DecisionTreeClassifier"
   ]
  },
  {
   "cell_type": "code",
   "execution_count": 48,
   "id": "4c3a2f73",
   "metadata": {},
   "outputs": [],
   "source": [
    "model_DC=DecisionTreeClassifier()"
   ]
  },
  {
   "cell_type": "code",
   "execution_count": 49,
   "id": "40c03fef",
   "metadata": {},
   "outputs": [
    {
     "data": {
      "text/plain": [
       "DecisionTreeClassifier()"
      ]
     },
     "execution_count": 49,
     "metadata": {},
     "output_type": "execute_result"
    }
   ],
   "source": [
    "model_DC.fit(x_train,y_train)"
   ]
  },
  {
   "cell_type": "code",
   "execution_count": 50,
   "id": "fbc968b0",
   "metadata": {},
   "outputs": [
    {
     "data": {
      "text/plain": [
       "0.9956709956709957"
      ]
     },
     "execution_count": 50,
     "metadata": {},
     "output_type": "execute_result"
    }
   ],
   "source": [
    "model_DC.score(x_train,y_train)"
   ]
  },
  {
   "cell_type": "markdown",
   "id": "941ea548",
   "metadata": {},
   "source": [
    "### <u>Random Forest:<u>\n",
    "* Random forests is a supervised learning algorithm. It can be used both for classification and regression. \n",
    "* It is also the most flexible and easy to use algorithm. A forest is comprised of trees. It is said that the more trees it has, the more robust a forest is. Random forests creates decision trees on randomly selected data samples, gets prediction from each tree and selects the best solution by means of voting. It also provides a pretty good indicator of the feature importance. "
   ]
  },
  {
   "cell_type": "code",
   "execution_count": 51,
   "id": "14bfcfd5",
   "metadata": {},
   "outputs": [],
   "source": [
    "from sklearn.ensemble import RandomForestClassifier"
   ]
  },
  {
   "cell_type": "code",
   "execution_count": 52,
   "id": "2b6badb1",
   "metadata": {},
   "outputs": [
    {
     "data": {
      "text/plain": [
       "RandomForestClassifier()"
      ]
     },
     "execution_count": 52,
     "metadata": {},
     "output_type": "execute_result"
    }
   ],
   "source": [
    "model_RF= RandomForestClassifier()\n",
    "model_RF.fit(x_train,y_train)"
   ]
  },
  {
   "cell_type": "code",
   "execution_count": 53,
   "id": "3f028c88",
   "metadata": {},
   "outputs": [
    {
     "data": {
      "text/plain": [
       "0.9956709956709957"
      ]
     },
     "execution_count": 53,
     "metadata": {},
     "output_type": "execute_result"
    }
   ],
   "source": [
    "model_RF.score(x_train,y_train)"
   ]
  },
  {
   "cell_type": "markdown",
   "id": "9d048375",
   "metadata": {},
   "source": [
    "### <u>Suport Vector Classifier :<u>\n",
    "* The objective of a Linear SVC (Support Vector Classifier) is to fit to the data you provide, returning a \"best fit\" hyperplane that divides, or categorizes, your data. From there, after getting the hyperplane, you can then feed some features to your classifier to see what the \"predicted\" class is. This makes this specific algorithm rather suitable for our uses, though you can use this for many situations."
   ]
  },
  {
   "cell_type": "code",
   "execution_count": 56,
   "id": "af2b5337",
   "metadata": {},
   "outputs": [],
   "source": [
    "from sklearn.svm import SVC"
   ]
  },
  {
   "cell_type": "code",
   "execution_count": 57,
   "id": "40c03873",
   "metadata": {},
   "outputs": [],
   "source": [
    "model_SVM=SVC()"
   ]
  },
  {
   "cell_type": "code",
   "execution_count": 58,
   "id": "fba7a8b0",
   "metadata": {},
   "outputs": [
    {
     "data": {
      "text/plain": [
       "SVC()"
      ]
     },
     "execution_count": 58,
     "metadata": {},
     "output_type": "execute_result"
    }
   ],
   "source": [
    "model_SVM.fit(x_train,y_train)"
   ]
  },
  {
   "cell_type": "code",
   "execution_count": 59,
   "id": "d68b0675",
   "metadata": {},
   "outputs": [
    {
     "data": {
      "text/plain": [
       "0.8658008658008658"
      ]
     },
     "execution_count": 59,
     "metadata": {},
     "output_type": "execute_result"
    }
   ],
   "source": [
    "model_SVM.score(x_train,y_train)"
   ]
  },
  {
   "cell_type": "markdown",
   "id": "31c5a86f",
   "metadata": {},
   "source": [
    "### <u>Naive Bayes Classifier:<u>\n",
    "* Naive Bayes classifiers are a collection of classification algorithms based on Bayes’ Theorem. It is not a single algorithm but a family of algorithms where all of them share a common principle, i.e. every pair of features being classified is independent of each other."
   ]
  },
  {
   "cell_type": "code",
   "execution_count": 60,
   "id": "b8292dcf",
   "metadata": {},
   "outputs": [],
   "source": [
    "from sklearn.naive_bayes import GaussianNB"
   ]
  },
  {
   "cell_type": "code",
   "execution_count": 61,
   "id": "e1dec578",
   "metadata": {},
   "outputs": [],
   "source": [
    "model_NB=GaussianNB()"
   ]
  },
  {
   "cell_type": "code",
   "execution_count": 62,
   "id": "43a31c37",
   "metadata": {},
   "outputs": [
    {
     "data": {
      "text/plain": [
       "GaussianNB()"
      ]
     },
     "execution_count": 62,
     "metadata": {},
     "output_type": "execute_result"
    }
   ],
   "source": [
    "model_NB.fit(x_train,y_train)"
   ]
  },
  {
   "cell_type": "code",
   "execution_count": 63,
   "id": "538f3e96",
   "metadata": {},
   "outputs": [
    {
     "data": {
      "text/plain": [
       "0.9090909090909091"
      ]
     },
     "execution_count": 63,
     "metadata": {},
     "output_type": "execute_result"
    }
   ],
   "source": [
    "model_NB.score(x_train,y_train)"
   ]
  },
  {
   "cell_type": "markdown",
   "id": "44fc3f79",
   "metadata": {},
   "source": [
    "#### Testing the model and score  "
   ]
  },
  {
   "cell_type": "markdown",
   "id": "858b05d8",
   "metadata": {},
   "source": [
    "### <u>Logistic Regression :<u>"
   ]
  },
  {
   "cell_type": "code",
   "execution_count": 64,
   "id": "8d2582a6",
   "metadata": {},
   "outputs": [
    {
     "data": {
      "text/plain": [
       "array([1, 0, 0, 0, 0, 0, 0, 0, 0, 0, 0, 0, 0, 1, 0, 0, 0, 0, 0, 0, 0, 0,\n",
       "       0, 0, 0, 0, 1, 0, 0, 0, 0, 0, 0, 0, 0, 1, 0, 0, 0, 0, 1, 0, 0, 0,\n",
       "       0, 0, 0, 0, 0, 0, 0, 0, 0, 0, 0, 0, 0, 0, 0, 0, 0, 0, 0, 0, 0, 0,\n",
       "       0, 0, 0, 0, 0, 0, 0, 0, 0, 0, 0, 0], dtype=int64)"
      ]
     },
     "execution_count": 64,
     "metadata": {},
     "output_type": "execute_result"
    }
   ],
   "source": [
    "model_LR.predict(x_test)"
   ]
  },
  {
   "cell_type": "code",
   "execution_count": 65,
   "id": "ca1b05c6",
   "metadata": {},
   "outputs": [
    {
     "data": {
      "text/plain": [
       "0.9358974358974359"
      ]
     },
     "execution_count": 65,
     "metadata": {},
     "output_type": "execute_result"
    }
   ],
   "source": [
    "model_LR.score(x_test,y_test)"
   ]
  },
  {
   "cell_type": "markdown",
   "id": "29349175",
   "metadata": {},
   "source": [
    "#### <u>K-Nearest Neighbors:<u>"
   ]
  },
  {
   "cell_type": "code",
   "execution_count": 66,
   "id": "82462288",
   "metadata": {},
   "outputs": [
    {
     "data": {
      "text/plain": [
       "array([0, 0, 0, 0, 0, 0, 0, 0, 0, 0, 0, 0, 0, 0, 0, 0, 0, 0, 0, 0, 0, 0,\n",
       "       0, 0, 0, 0, 0, 0, 0, 0, 0, 0, 0, 0, 0, 1, 0, 0, 0, 0, 0, 0, 0, 0,\n",
       "       0, 0, 0, 0, 0, 0, 0, 0, 0, 0, 0, 0, 0, 0, 0, 0, 0, 1, 0, 0, 0, 0,\n",
       "       0, 0, 0, 0, 0, 0, 0, 0, 0, 0, 0, 0], dtype=int64)"
      ]
     },
     "execution_count": 66,
     "metadata": {},
     "output_type": "execute_result"
    }
   ],
   "source": [
    "model_KNN.predict(x_test)"
   ]
  },
  {
   "cell_type": "code",
   "execution_count": 67,
   "id": "89cda17b",
   "metadata": {},
   "outputs": [
    {
     "data": {
      "text/plain": [
       "0.8717948717948718"
      ]
     },
     "execution_count": 67,
     "metadata": {},
     "output_type": "execute_result"
    }
   ],
   "source": [
    "model_KNN.score(x_test,y_test)"
   ]
  },
  {
   "cell_type": "markdown",
   "id": "26689ff3",
   "metadata": {},
   "source": [
    "#### Decision Classifier:"
   ]
  },
  {
   "cell_type": "code",
   "execution_count": 68,
   "id": "a3228101",
   "metadata": {},
   "outputs": [
    {
     "data": {
      "text/plain": [
       "array([1, 0, 0, 0, 0, 0, 0, 0, 0, 0, 0, 0, 0, 1, 0, 0, 0, 0, 0, 0, 0, 0,\n",
       "       0, 0, 0, 0, 1, 0, 0, 0, 0, 0, 0, 0, 0, 1, 1, 0, 0, 0, 1, 0, 0, 0,\n",
       "       0, 0, 0, 0, 0, 0, 0, 0, 1, 0, 0, 0, 0, 0, 0, 0, 0, 0, 0, 0, 0, 0,\n",
       "       0, 0, 0, 0, 0, 0, 0, 0, 0, 0, 0, 1], dtype=int64)"
      ]
     },
     "execution_count": 68,
     "metadata": {},
     "output_type": "execute_result"
    }
   ],
   "source": [
    "model_DC.predict(x_test)"
   ]
  },
  {
   "cell_type": "code",
   "execution_count": 69,
   "id": "f46c8f51",
   "metadata": {},
   "outputs": [
    {
     "data": {
      "text/plain": [
       "0.9487179487179487"
      ]
     },
     "execution_count": 69,
     "metadata": {},
     "output_type": "execute_result"
    }
   ],
   "source": [
    "model_DC.score(x_test,y_test)"
   ]
  },
  {
   "cell_type": "markdown",
   "id": "7ba1f75d",
   "metadata": {},
   "source": [
    "#### Random Forest:\n"
   ]
  },
  {
   "cell_type": "code",
   "execution_count": 70,
   "id": "afcf56bb",
   "metadata": {},
   "outputs": [
    {
     "data": {
      "text/plain": [
       "array([1, 0, 0, 0, 0, 0, 0, 0, 0, 0, 0, 0, 0, 1, 0, 0, 0, 0, 0, 0, 0, 0,\n",
       "       0, 0, 0, 0, 1, 0, 0, 0, 0, 0, 0, 0, 0, 1, 0, 0, 0, 0, 1, 0, 0, 0,\n",
       "       0, 0, 0, 0, 0, 0, 0, 0, 1, 0, 0, 0, 0, 0, 0, 0, 0, 0, 0, 0, 0, 0,\n",
       "       0, 0, 0, 0, 0, 0, 0, 0, 0, 0, 0, 0], dtype=int64)"
      ]
     },
     "execution_count": 70,
     "metadata": {},
     "output_type": "execute_result"
    }
   ],
   "source": [
    "model_RF.predict(x_test)"
   ]
  },
  {
   "cell_type": "code",
   "execution_count": 71,
   "id": "ff7fe65e",
   "metadata": {},
   "outputs": [
    {
     "data": {
      "text/plain": [
       "0.9487179487179487"
      ]
     },
     "execution_count": 71,
     "metadata": {},
     "output_type": "execute_result"
    }
   ],
   "source": [
    "model_RF.score(x_test,y_test)"
   ]
  },
  {
   "cell_type": "markdown",
   "id": "2785c506",
   "metadata": {},
   "source": [
    "#### Suport Vector Classifier :\n"
   ]
  },
  {
   "cell_type": "code",
   "execution_count": 72,
   "id": "5ec4c4ba",
   "metadata": {},
   "outputs": [
    {
     "data": {
      "text/plain": [
       "array([0, 0, 0, 0, 0, 0, 0, 0, 0, 0, 0, 0, 0, 0, 0, 0, 0, 0, 0, 0, 0, 0,\n",
       "       0, 0, 0, 0, 0, 0, 0, 0, 0, 0, 0, 0, 0, 0, 0, 0, 0, 0, 0, 0, 0, 0,\n",
       "       0, 0, 0, 0, 0, 0, 0, 0, 0, 0, 0, 0, 0, 0, 0, 0, 0, 0, 0, 0, 0, 0,\n",
       "       0, 0, 0, 0, 0, 0, 0, 0, 0, 0, 0, 0], dtype=int64)"
      ]
     },
     "execution_count": 72,
     "metadata": {},
     "output_type": "execute_result"
    }
   ],
   "source": [
    "model_SVM.predict(x_test)"
   ]
  },
  {
   "cell_type": "code",
   "execution_count": 73,
   "id": "3f72f601",
   "metadata": {},
   "outputs": [
    {
     "data": {
      "text/plain": [
       "0.8974358974358975"
      ]
     },
     "execution_count": 73,
     "metadata": {},
     "output_type": "execute_result"
    }
   ],
   "source": [
    "model_SVM.score(x_test,y_test)"
   ]
  },
  {
   "cell_type": "markdown",
   "id": "47bf7d83",
   "metadata": {},
   "source": [
    "#### Naives Bayes classifier :"
   ]
  },
  {
   "cell_type": "code",
   "execution_count": 74,
   "id": "8eacd545",
   "metadata": {},
   "outputs": [
    {
     "data": {
      "text/plain": [
       "array([1, 0, 0, 0, 0, 0, 0, 0, 0, 0, 0, 0, 0, 1, 0, 0, 0, 0, 0, 0, 0, 0,\n",
       "       0, 0, 0, 0, 1, 0, 0, 0, 0, 1, 0, 0, 0, 1, 0, 0, 0, 0, 1, 0, 0, 0,\n",
       "       0, 0, 0, 0, 0, 0, 0, 0, 0, 0, 0, 0, 0, 0, 0, 0, 0, 0, 0, 0, 0, 0,\n",
       "       1, 0, 0, 0, 0, 0, 0, 0, 0, 0, 0, 1], dtype=int64)"
      ]
     },
     "execution_count": 74,
     "metadata": {},
     "output_type": "execute_result"
    }
   ],
   "source": [
    "model_NB.predict(x_test)"
   ]
  },
  {
   "cell_type": "code",
   "execution_count": 75,
   "id": "7f33a6c0",
   "metadata": {},
   "outputs": [
    {
     "data": {
      "text/plain": [
       "0.9230769230769231"
      ]
     },
     "execution_count": 75,
     "metadata": {},
     "output_type": "execute_result"
    }
   ],
   "source": [
    "model_NB.score(x_test,y_test)"
   ]
  },
  {
   "cell_type": "markdown",
   "id": "a41c9281",
   "metadata": {},
   "source": [
    "#### Checking the accuracyscore, plotting the confusion matrix"
   ]
  },
  {
   "cell_type": "code",
   "execution_count": 80,
   "id": "8b858e27",
   "metadata": {},
   "outputs": [],
   "source": [
    "from sklearn.metrics import confusion_matrix\n",
    "from sklearn.metrics import plot_confusion_matrix\n",
    "from sklearn.metrics import accuracy_score"
   ]
  },
  {
   "cell_type": "markdown",
   "id": "c42e572d",
   "metadata": {},
   "source": [
    "### Logistic Regression :\n"
   ]
  },
  {
   "cell_type": "code",
   "execution_count": 81,
   "id": "cc5bf8da",
   "metadata": {},
   "outputs": [
    {
     "data": {
      "text/plain": [
       "array([1, 0, 0, 0, 0, 0, 0, 0, 0, 0, 0, 0, 0, 1, 0, 0, 0, 0, 0, 0, 0, 0,\n",
       "       0, 0, 0, 0, 1, 0, 0, 0, 0, 0, 0, 0, 0, 1, 0, 0, 0, 0, 1, 0, 0, 0,\n",
       "       0, 0, 0, 0, 0, 0, 0, 0, 0, 0, 0, 0, 0, 0, 0, 0, 0, 0, 0, 0, 0, 0,\n",
       "       0, 0, 0, 0, 0, 0, 0, 0, 0, 0, 0, 0], dtype=int64)"
      ]
     },
     "execution_count": 81,
     "metadata": {},
     "output_type": "execute_result"
    }
   ],
   "source": [
    "y_predict_LR=model_LR.predict(x_test)\n",
    "y_predict_LR"
   ]
  },
  {
   "cell_type": "code",
   "execution_count": 82,
   "id": "0de5f9e9",
   "metadata": {},
   "outputs": [
    {
     "data": {
      "text/html": [
       "<div>\n",
       "<style scoped>\n",
       "    .dataframe tbody tr th:only-of-type {\n",
       "        vertical-align: middle;\n",
       "    }\n",
       "\n",
       "    .dataframe tbody tr th {\n",
       "        vertical-align: top;\n",
       "    }\n",
       "\n",
       "    .dataframe thead th {\n",
       "        text-align: right;\n",
       "    }\n",
       "</style>\n",
       "<table border=\"1\" class=\"dataframe\">\n",
       "  <thead>\n",
       "    <tr style=\"text-align: right;\">\n",
       "      <th></th>\n",
       "      <th>Actual</th>\n",
       "      <th>Predicted</th>\n",
       "    </tr>\n",
       "  </thead>\n",
       "  <tbody>\n",
       "    <tr>\n",
       "      <th>262</th>\n",
       "      <td>1</td>\n",
       "      <td>1</td>\n",
       "    </tr>\n",
       "    <tr>\n",
       "      <th>231</th>\n",
       "      <td>0</td>\n",
       "      <td>0</td>\n",
       "    </tr>\n",
       "    <tr>\n",
       "      <th>178</th>\n",
       "      <td>0</td>\n",
       "      <td>0</td>\n",
       "    </tr>\n",
       "    <tr>\n",
       "      <th>123</th>\n",
       "      <td>0</td>\n",
       "      <td>0</td>\n",
       "    </tr>\n",
       "    <tr>\n",
       "      <th>285</th>\n",
       "      <td>0</td>\n",
       "      <td>0</td>\n",
       "    </tr>\n",
       "    <tr>\n",
       "      <th>...</th>\n",
       "      <td>...</td>\n",
       "      <td>...</td>\n",
       "    </tr>\n",
       "    <tr>\n",
       "      <th>155</th>\n",
       "      <td>0</td>\n",
       "      <td>0</td>\n",
       "    </tr>\n",
       "    <tr>\n",
       "      <th>152</th>\n",
       "      <td>0</td>\n",
       "      <td>0</td>\n",
       "    </tr>\n",
       "    <tr>\n",
       "      <th>54</th>\n",
       "      <td>0</td>\n",
       "      <td>0</td>\n",
       "    </tr>\n",
       "    <tr>\n",
       "      <th>40</th>\n",
       "      <td>0</td>\n",
       "      <td>0</td>\n",
       "    </tr>\n",
       "    <tr>\n",
       "      <th>183</th>\n",
       "      <td>1</td>\n",
       "      <td>0</td>\n",
       "    </tr>\n",
       "  </tbody>\n",
       "</table>\n",
       "<p>78 rows × 2 columns</p>\n",
       "</div>"
      ],
      "text/plain": [
       "     Actual  Predicted\n",
       "262       1          1\n",
       "231       0          0\n",
       "178       0          0\n",
       "123       0          0\n",
       "285       0          0\n",
       "..      ...        ...\n",
       "155       0          0\n",
       "152       0          0\n",
       "54        0          0\n",
       "40        0          0\n",
       "183       1          0\n",
       "\n",
       "[78 rows x 2 columns]"
      ]
     },
     "execution_count": 82,
     "metadata": {},
     "output_type": "execute_result"
    }
   ],
   "source": [
    "d1=pd.DataFrame({'Actual':y_test,\"Predicted\":y_predict_LR})\n",
    "d1"
   ]
  },
  {
   "cell_type": "code",
   "execution_count": 83,
   "id": "215785d4",
   "metadata": {},
   "outputs": [
    {
     "data": {
      "text/plain": [
       "array([[69,  1],\n",
       "       [ 4,  4]], dtype=int64)"
      ]
     },
     "execution_count": 83,
     "metadata": {},
     "output_type": "execute_result"
    }
   ],
   "source": [
    "performance_LR=confusion_matrix(y_test,y_predict_LR)\n",
    "performance_LR"
   ]
  },
  {
   "cell_type": "code",
   "execution_count": 84,
   "id": "694fd0c1",
   "metadata": {},
   "outputs": [
    {
     "data": {
      "image/png": "[encoded data removed]",
      "text/plain": [
       "<Figure size 432x288 with 2 Axes>"
      ]
     },
     "metadata": {
      "needs_background": "light"
     },
     "output_type": "display_data"
    }
   ],
   "source": [
    "plot_confusion_matrix(model_LR,x_test,y_test)\n",
    "plt.show()"
   ]
  },
  {
   "cell_type": "code",
   "execution_count": 112,
   "id": "cfb619dc",
   "metadata": {},
   "outputs": [
    {
     "data": {
      "text/plain": [
       "0.9358974358974359"
      ]
     },
     "execution_count": 112,
     "metadata": {},
     "output_type": "execute_result"
    }
   ],
   "source": [
    "accuracy_score(y_test,y_predict_LR)"
   ]
  },
  {
   "cell_type": "markdown",
   "id": "e25adbd8",
   "metadata": {},
   "source": [
    "#### K-Nearest Neighbors:\n"
   ]
  },
  {
   "cell_type": "code",
   "execution_count": 85,
   "id": "46896f89",
   "metadata": {},
   "outputs": [
    {
     "data": {
      "text/plain": [
       "array([0, 0, 0, 0, 0, 0, 0, 0, 0, 0, 0, 0, 0, 0, 0, 0, 0, 0, 0, 0, 0, 0,\n",
       "       0, 0, 0, 0, 0, 0, 0, 0, 0, 0, 0, 0, 0, 1, 0, 0, 0, 0, 0, 0, 0, 0,\n",
       "       0, 0, 0, 0, 0, 0, 0, 0, 0, 0, 0, 0, 0, 0, 0, 0, 0, 1, 0, 0, 0, 0,\n",
       "       0, 0, 0, 0, 0, 0, 0, 0, 0, 0, 0, 0], dtype=int64)"
      ]
     },
     "execution_count": 85,
     "metadata": {},
     "output_type": "execute_result"
    }
   ],
   "source": [
    "y_predict_KNN=model_KNN.predict(x_test)\n",
    "y_predict_KNN"
   ]
  },
  {
   "cell_type": "code",
   "execution_count": 86,
   "id": "ccda37ef",
   "metadata": {},
   "outputs": [
    {
     "data": {
      "text/html": [
       "<div>\n",
       "<style scoped>\n",
       "    .dataframe tbody tr th:only-of-type {\n",
       "        vertical-align: middle;\n",
       "    }\n",
       "\n",
       "    .dataframe tbody tr th {\n",
       "        vertical-align: top;\n",
       "    }\n",
       "\n",
       "    .dataframe thead th {\n",
       "        text-align: right;\n",
       "    }\n",
       "</style>\n",
       "<table border=\"1\" class=\"dataframe\">\n",
       "  <thead>\n",
       "    <tr style=\"text-align: right;\">\n",
       "      <th></th>\n",
       "      <th>Actual</th>\n",
       "      <th>Predicted</th>\n",
       "    </tr>\n",
       "  </thead>\n",
       "  <tbody>\n",
       "    <tr>\n",
       "      <th>262</th>\n",
       "      <td>1</td>\n",
       "      <td>0</td>\n",
       "    </tr>\n",
       "    <tr>\n",
       "      <th>231</th>\n",
       "      <td>0</td>\n",
       "      <td>0</td>\n",
       "    </tr>\n",
       "    <tr>\n",
       "      <th>178</th>\n",
       "      <td>0</td>\n",
       "      <td>0</td>\n",
       "    </tr>\n",
       "    <tr>\n",
       "      <th>123</th>\n",
       "      <td>0</td>\n",
       "      <td>0</td>\n",
       "    </tr>\n",
       "    <tr>\n",
       "      <th>285</th>\n",
       "      <td>0</td>\n",
       "      <td>0</td>\n",
       "    </tr>\n",
       "    <tr>\n",
       "      <th>...</th>\n",
       "      <td>...</td>\n",
       "      <td>...</td>\n",
       "    </tr>\n",
       "    <tr>\n",
       "      <th>155</th>\n",
       "      <td>0</td>\n",
       "      <td>0</td>\n",
       "    </tr>\n",
       "    <tr>\n",
       "      <th>152</th>\n",
       "      <td>0</td>\n",
       "      <td>0</td>\n",
       "    </tr>\n",
       "    <tr>\n",
       "      <th>54</th>\n",
       "      <td>0</td>\n",
       "      <td>0</td>\n",
       "    </tr>\n",
       "    <tr>\n",
       "      <th>40</th>\n",
       "      <td>0</td>\n",
       "      <td>0</td>\n",
       "    </tr>\n",
       "    <tr>\n",
       "      <th>183</th>\n",
       "      <td>1</td>\n",
       "      <td>0</td>\n",
       "    </tr>\n",
       "  </tbody>\n",
       "</table>\n",
       "<p>78 rows × 2 columns</p>\n",
       "</div>"
      ],
      "text/plain": [
       "     Actual  Predicted\n",
       "262       1          0\n",
       "231       0          0\n",
       "178       0          0\n",
       "123       0          0\n",
       "285       0          0\n",
       "..      ...        ...\n",
       "155       0          0\n",
       "152       0          0\n",
       "54        0          0\n",
       "40        0          0\n",
       "183       1          0\n",
       "\n",
       "[78 rows x 2 columns]"
      ]
     },
     "execution_count": 86,
     "metadata": {},
     "output_type": "execute_result"
    }
   ],
   "source": [
    "d2=pd.DataFrame({'Actual':y_test,\"Predicted\":y_predict_KNN})\n",
    "d2"
   ]
  },
  {
   "cell_type": "code",
   "execution_count": 87,
   "id": "a7f68112",
   "metadata": {},
   "outputs": [
    {
     "data": {
      "text/plain": [
       "array([[68,  2],\n",
       "       [ 8,  0]], dtype=int64)"
      ]
     },
     "execution_count": 87,
     "metadata": {},
     "output_type": "execute_result"
    }
   ],
   "source": [
    "performance_KNN=confusion_matrix(y_test,y_predict_KNN)\n",
    "performance_KNN"
   ]
  },
  {
   "cell_type": "code",
   "execution_count": 88,
   "id": "f4d85921",
   "metadata": {
    "scrolled": true
   },
   "outputs": [
    {
     "data": {
      "image/png": "[encoded data removed]",
      "text/plain": [
       "<Figure size 432x288 with 2 Axes>"
      ]
     },
     "metadata": {
      "needs_background": "light"
     },
     "output_type": "display_data"
    }
   ],
   "source": [
    "plot_confusion_matrix(model_KNN,x_test,y_test)\n",
    "plt.show()"
   ]
  },
  {
   "cell_type": "code",
   "execution_count": 113,
   "id": "a0ca372b",
   "metadata": {},
   "outputs": [
    {
     "data": {
      "text/plain": [
       "0.8717948717948718"
      ]
     },
     "execution_count": 113,
     "metadata": {},
     "output_type": "execute_result"
    }
   ],
   "source": [
    "accuracy_score(y_test,y_predict_KNN)"
   ]
  },
  {
   "cell_type": "markdown",
   "id": "b6b835fc",
   "metadata": {},
   "source": [
    "#### Decision Classifier:\n"
   ]
  },
  {
   "cell_type": "code",
   "execution_count": 89,
   "id": "7a422985",
   "metadata": {},
   "outputs": [
    {
     "data": {
      "text/plain": [
       "array([1, 0, 0, 0, 0, 0, 0, 0, 0, 0, 0, 0, 0, 1, 0, 0, 0, 0, 0, 0, 0, 0,\n",
       "       0, 0, 0, 0, 1, 0, 0, 0, 0, 0, 0, 0, 0, 1, 1, 0, 0, 0, 1, 0, 0, 0,\n",
       "       0, 0, 0, 0, 0, 0, 0, 0, 1, 0, 0, 0, 0, 0, 0, 0, 0, 0, 0, 0, 0, 0,\n",
       "       0, 0, 0, 0, 0, 0, 0, 0, 0, 0, 0, 1], dtype=int64)"
      ]
     },
     "execution_count": 89,
     "metadata": {},
     "output_type": "execute_result"
    }
   ],
   "source": [
    "y_predict_DC=model_DC.predict(x_test)\n",
    "y_predict_DC"
   ]
  },
  {
   "cell_type": "code",
   "execution_count": 90,
   "id": "df2e6943",
   "metadata": {},
   "outputs": [
    {
     "data": {
      "text/html": [
       "<div>\n",
       "<style scoped>\n",
       "    .dataframe tbody tr th:only-of-type {\n",
       "        vertical-align: middle;\n",
       "    }\n",
       "\n",
       "    .dataframe tbody tr th {\n",
       "        vertical-align: top;\n",
       "    }\n",
       "\n",
       "    .dataframe thead th {\n",
       "        text-align: right;\n",
       "    }\n",
       "</style>\n",
       "<table border=\"1\" class=\"dataframe\">\n",
       "  <thead>\n",
       "    <tr style=\"text-align: right;\">\n",
       "      <th></th>\n",
       "      <th>Actual</th>\n",
       "      <th>Predicted</th>\n",
       "    </tr>\n",
       "  </thead>\n",
       "  <tbody>\n",
       "    <tr>\n",
       "      <th>262</th>\n",
       "      <td>1</td>\n",
       "      <td>1</td>\n",
       "    </tr>\n",
       "    <tr>\n",
       "      <th>231</th>\n",
       "      <td>0</td>\n",
       "      <td>0</td>\n",
       "    </tr>\n",
       "    <tr>\n",
       "      <th>178</th>\n",
       "      <td>0</td>\n",
       "      <td>0</td>\n",
       "    </tr>\n",
       "    <tr>\n",
       "      <th>123</th>\n",
       "      <td>0</td>\n",
       "      <td>0</td>\n",
       "    </tr>\n",
       "    <tr>\n",
       "      <th>285</th>\n",
       "      <td>0</td>\n",
       "      <td>0</td>\n",
       "    </tr>\n",
       "    <tr>\n",
       "      <th>...</th>\n",
       "      <td>...</td>\n",
       "      <td>...</td>\n",
       "    </tr>\n",
       "    <tr>\n",
       "      <th>155</th>\n",
       "      <td>0</td>\n",
       "      <td>0</td>\n",
       "    </tr>\n",
       "    <tr>\n",
       "      <th>152</th>\n",
       "      <td>0</td>\n",
       "      <td>0</td>\n",
       "    </tr>\n",
       "    <tr>\n",
       "      <th>54</th>\n",
       "      <td>0</td>\n",
       "      <td>0</td>\n",
       "    </tr>\n",
       "    <tr>\n",
       "      <th>40</th>\n",
       "      <td>0</td>\n",
       "      <td>0</td>\n",
       "    </tr>\n",
       "    <tr>\n",
       "      <th>183</th>\n",
       "      <td>1</td>\n",
       "      <td>1</td>\n",
       "    </tr>\n",
       "  </tbody>\n",
       "</table>\n",
       "<p>78 rows × 2 columns</p>\n",
       "</div>"
      ],
      "text/plain": [
       "     Actual  Predicted\n",
       "262       1          1\n",
       "231       0          0\n",
       "178       0          0\n",
       "123       0          0\n",
       "285       0          0\n",
       "..      ...        ...\n",
       "155       0          0\n",
       "152       0          0\n",
       "54        0          0\n",
       "40        0          0\n",
       "183       1          1\n",
       "\n",
       "[78 rows x 2 columns]"
      ]
     },
     "execution_count": 90,
     "metadata": {},
     "output_type": "execute_result"
    }
   ],
   "source": [
    "d3=pd.DataFrame({'Actual':y_test,\"Predicted\":y_predict_DC})\n",
    "d3"
   ]
  },
  {
   "cell_type": "code",
   "execution_count": 91,
   "id": "18c5195f",
   "metadata": {},
   "outputs": [
    {
     "data": {
      "text/plain": [
       "array([[68,  2],\n",
       "       [ 2,  6]], dtype=int64)"
      ]
     },
     "execution_count": 91,
     "metadata": {},
     "output_type": "execute_result"
    }
   ],
   "source": [
    "performance_DC=confusion_matrix(y_test,y_predict_DC)\n",
    "performance_DC"
   ]
  },
  {
   "cell_type": "code",
   "execution_count": 92,
   "id": "f582db03",
   "metadata": {
    "scrolled": true
   },
   "outputs": [
    {
     "data": {
      "image/png": "[encoded data removed]",
      "text/plain": [
       "<Figure size 432x288 with 2 Axes>"
      ]
     },
     "metadata": {
      "needs_background": "light"
     },
     "output_type": "display_data"
    }
   ],
   "source": [
    "plot_confusion_matrix(model_DC,x_test,y_test)\n",
    "plt.show()"
   ]
  },
  {
   "cell_type": "code",
   "execution_count": 114,
   "id": "97379c98",
   "metadata": {},
   "outputs": [
    {
     "data": {
      "text/plain": [
       "0.9487179487179487"
      ]
     },
     "execution_count": 114,
     "metadata": {},
     "output_type": "execute_result"
    }
   ],
   "source": [
    "accuracy_score(y_test,y_predict_DC)"
   ]
  },
  {
   "cell_type": "markdown",
   "id": "971f2533",
   "metadata": {},
   "source": [
    "#### Random Forest:\n"
   ]
  },
  {
   "cell_type": "code",
   "execution_count": 99,
   "id": "3958f8ec",
   "metadata": {},
   "outputs": [
    {
     "data": {
      "text/plain": [
       "array([1, 0, 0, 0, 0, 0, 0, 0, 0, 0, 0, 0, 0, 1, 0, 0, 0, 0, 0, 0, 0, 0,\n",
       "       0, 0, 0, 0, 1, 0, 0, 0, 0, 0, 0, 0, 0, 1, 0, 0, 0, 0, 1, 0, 0, 0,\n",
       "       0, 0, 0, 0, 0, 0, 0, 0, 1, 0, 0, 0, 0, 0, 0, 0, 0, 0, 0, 0, 0, 0,\n",
       "       0, 0, 0, 0, 0, 0, 0, 0, 0, 0, 0, 0], dtype=int64)"
      ]
     },
     "execution_count": 99,
     "metadata": {},
     "output_type": "execute_result"
    }
   ],
   "source": [
    "y_predict_RF=model_RF.predict(x_test)\n",
    "y_predict_RF"
   ]
  },
  {
   "cell_type": "code",
   "execution_count": 100,
   "id": "dbdf2381",
   "metadata": {},
   "outputs": [
    {
     "data": {
      "text/html": [
       "<div>\n",
       "<style scoped>\n",
       "    .dataframe tbody tr th:only-of-type {\n",
       "        vertical-align: middle;\n",
       "    }\n",
       "\n",
       "    .dataframe tbody tr th {\n",
       "        vertical-align: top;\n",
       "    }\n",
       "\n",
       "    .dataframe thead th {\n",
       "        text-align: right;\n",
       "    }\n",
       "</style>\n",
       "<table border=\"1\" class=\"dataframe\">\n",
       "  <thead>\n",
       "    <tr style=\"text-align: right;\">\n",
       "      <th></th>\n",
       "      <th>Actual</th>\n",
       "      <th>Predicted</th>\n",
       "    </tr>\n",
       "  </thead>\n",
       "  <tbody>\n",
       "    <tr>\n",
       "      <th>262</th>\n",
       "      <td>1</td>\n",
       "      <td>1</td>\n",
       "    </tr>\n",
       "    <tr>\n",
       "      <th>231</th>\n",
       "      <td>0</td>\n",
       "      <td>0</td>\n",
       "    </tr>\n",
       "    <tr>\n",
       "      <th>178</th>\n",
       "      <td>0</td>\n",
       "      <td>0</td>\n",
       "    </tr>\n",
       "    <tr>\n",
       "      <th>123</th>\n",
       "      <td>0</td>\n",
       "      <td>0</td>\n",
       "    </tr>\n",
       "    <tr>\n",
       "      <th>285</th>\n",
       "      <td>0</td>\n",
       "      <td>0</td>\n",
       "    </tr>\n",
       "    <tr>\n",
       "      <th>...</th>\n",
       "      <td>...</td>\n",
       "      <td>...</td>\n",
       "    </tr>\n",
       "    <tr>\n",
       "      <th>155</th>\n",
       "      <td>0</td>\n",
       "      <td>0</td>\n",
       "    </tr>\n",
       "    <tr>\n",
       "      <th>152</th>\n",
       "      <td>0</td>\n",
       "      <td>0</td>\n",
       "    </tr>\n",
       "    <tr>\n",
       "      <th>54</th>\n",
       "      <td>0</td>\n",
       "      <td>0</td>\n",
       "    </tr>\n",
       "    <tr>\n",
       "      <th>40</th>\n",
       "      <td>0</td>\n",
       "      <td>0</td>\n",
       "    </tr>\n",
       "    <tr>\n",
       "      <th>183</th>\n",
       "      <td>1</td>\n",
       "      <td>0</td>\n",
       "    </tr>\n",
       "  </tbody>\n",
       "</table>\n",
       "<p>78 rows × 2 columns</p>\n",
       "</div>"
      ],
      "text/plain": [
       "     Actual  Predicted\n",
       "262       1          1\n",
       "231       0          0\n",
       "178       0          0\n",
       "123       0          0\n",
       "285       0          0\n",
       "..      ...        ...\n",
       "155       0          0\n",
       "152       0          0\n",
       "54        0          0\n",
       "40        0          0\n",
       "183       1          0\n",
       "\n",
       "[78 rows x 2 columns]"
      ]
     },
     "execution_count": 100,
     "metadata": {},
     "output_type": "execute_result"
    }
   ],
   "source": [
    "d4=pd.DataFrame({'Actual':y_test,\"Predicted\":y_predict_RF})\n",
    "d4"
   ]
  },
  {
   "cell_type": "code",
   "execution_count": 101,
   "id": "e0ee1b30",
   "metadata": {},
   "outputs": [
    {
     "data": {
      "text/plain": [
       "array([[69,  1],\n",
       "       [ 3,  5]], dtype=int64)"
      ]
     },
     "execution_count": 101,
     "metadata": {},
     "output_type": "execute_result"
    }
   ],
   "source": [
    "performance_RF=confusion_matrix(y_test,y_predict_RF)\n",
    "performance_RF"
   ]
  },
  {
   "cell_type": "code",
   "execution_count": 102,
   "id": "f4d1f9f1",
   "metadata": {
    "scrolled": true
   },
   "outputs": [
    {
     "data": {
      "image/png": "[encoded data removed]",
      "text/plain": [
       "<Figure size 432x288 with 2 Axes>"
      ]
     },
     "metadata": {
      "needs_background": "light"
     },
     "output_type": "display_data"
    }
   ],
   "source": [
    "plot_confusion_matrix(model_RF,x_test,y_test)\n",
    "plt.show()"
   ]
  },
  {
   "cell_type": "code",
   "execution_count": 115,
   "id": "96f20765",
   "metadata": {},
   "outputs": [
    {
     "data": {
      "text/plain": [
       "0.9487179487179487"
      ]
     },
     "execution_count": 115,
     "metadata": {},
     "output_type": "execute_result"
    }
   ],
   "source": [
    "accuracy_score(y_test,y_predict_RF)"
   ]
  },
  {
   "cell_type": "markdown",
   "id": "cc0fd31a",
   "metadata": {},
   "source": [
    "\n",
    "#### Suport Vector Classifier :\n"
   ]
  },
  {
   "cell_type": "code",
   "execution_count": 104,
   "id": "4bf964fb",
   "metadata": {},
   "outputs": [
    {
     "data": {
      "text/plain": [
       "array([0, 0, 0, 0, 0, 0, 0, 0, 0, 0, 0, 0, 0, 0, 0, 0, 0, 0, 0, 0, 0, 0,\n",
       "       0, 0, 0, 0, 0, 0, 0, 0, 0, 0, 0, 0, 0, 0, 0, 0, 0, 0, 0, 0, 0, 0,\n",
       "       0, 0, 0, 0, 0, 0, 0, 0, 0, 0, 0, 0, 0, 0, 0, 0, 0, 0, 0, 0, 0, 0,\n",
       "       0, 0, 0, 0, 0, 0, 0, 0, 0, 0, 0, 0], dtype=int64)"
      ]
     },
     "execution_count": 104,
     "metadata": {},
     "output_type": "execute_result"
    }
   ],
   "source": [
    "y_predict_SVM=model_SVM.predict(x_test)\n",
    "y_predict_SVM"
   ]
  },
  {
   "cell_type": "code",
   "execution_count": 105,
   "id": "cc24c0ca",
   "metadata": {},
   "outputs": [
    {
     "data": {
      "text/html": [
       "<div>\n",
       "<style scoped>\n",
       "    .dataframe tbody tr th:only-of-type {\n",
       "        vertical-align: middle;\n",
       "    }\n",
       "\n",
       "    .dataframe tbody tr th {\n",
       "        vertical-align: top;\n",
       "    }\n",
       "\n",
       "    .dataframe thead th {\n",
       "        text-align: right;\n",
       "    }\n",
       "</style>\n",
       "<table border=\"1\" class=\"dataframe\">\n",
       "  <thead>\n",
       "    <tr style=\"text-align: right;\">\n",
       "      <th></th>\n",
       "      <th>Actual</th>\n",
       "      <th>Predicted</th>\n",
       "    </tr>\n",
       "  </thead>\n",
       "  <tbody>\n",
       "    <tr>\n",
       "      <th>262</th>\n",
       "      <td>1</td>\n",
       "      <td>0</td>\n",
       "    </tr>\n",
       "    <tr>\n",
       "      <th>231</th>\n",
       "      <td>0</td>\n",
       "      <td>0</td>\n",
       "    </tr>\n",
       "    <tr>\n",
       "      <th>178</th>\n",
       "      <td>0</td>\n",
       "      <td>0</td>\n",
       "    </tr>\n",
       "    <tr>\n",
       "      <th>123</th>\n",
       "      <td>0</td>\n",
       "      <td>0</td>\n",
       "    </tr>\n",
       "    <tr>\n",
       "      <th>285</th>\n",
       "      <td>0</td>\n",
       "      <td>0</td>\n",
       "    </tr>\n",
       "    <tr>\n",
       "      <th>...</th>\n",
       "      <td>...</td>\n",
       "      <td>...</td>\n",
       "    </tr>\n",
       "    <tr>\n",
       "      <th>155</th>\n",
       "      <td>0</td>\n",
       "      <td>0</td>\n",
       "    </tr>\n",
       "    <tr>\n",
       "      <th>152</th>\n",
       "      <td>0</td>\n",
       "      <td>0</td>\n",
       "    </tr>\n",
       "    <tr>\n",
       "      <th>54</th>\n",
       "      <td>0</td>\n",
       "      <td>0</td>\n",
       "    </tr>\n",
       "    <tr>\n",
       "      <th>40</th>\n",
       "      <td>0</td>\n",
       "      <td>0</td>\n",
       "    </tr>\n",
       "    <tr>\n",
       "      <th>183</th>\n",
       "      <td>1</td>\n",
       "      <td>0</td>\n",
       "    </tr>\n",
       "  </tbody>\n",
       "</table>\n",
       "<p>78 rows × 2 columns</p>\n",
       "</div>"
      ],
      "text/plain": [
       "     Actual  Predicted\n",
       "262       1          0\n",
       "231       0          0\n",
       "178       0          0\n",
       "123       0          0\n",
       "285       0          0\n",
       "..      ...        ...\n",
       "155       0          0\n",
       "152       0          0\n",
       "54        0          0\n",
       "40        0          0\n",
       "183       1          0\n",
       "\n",
       "[78 rows x 2 columns]"
      ]
     },
     "execution_count": 105,
     "metadata": {},
     "output_type": "execute_result"
    }
   ],
   "source": [
    "d5=pd.DataFrame({'Actual':y_test,\"Predicted\":y_predict_SVM})\n",
    "d5"
   ]
  },
  {
   "cell_type": "code",
   "execution_count": 106,
   "id": "7b847b68",
   "metadata": {},
   "outputs": [
    {
     "data": {
      "text/plain": [
       "array([[70,  0],\n",
       "       [ 8,  0]], dtype=int64)"
      ]
     },
     "execution_count": 106,
     "metadata": {},
     "output_type": "execute_result"
    }
   ],
   "source": [
    "performance_SVM=confusion_matrix(y_test,y_predict_SVM)\n",
    "performance_SVM"
   ]
  },
  {
   "cell_type": "code",
   "execution_count": 107,
   "id": "3135c53f",
   "metadata": {},
   "outputs": [
    {
     "data": {
      "image/png": "[encoded data removed]",
      "text/plain": [
       "<Figure size 432x288 with 2 Axes>"
      ]
     },
     "metadata": {
      "needs_background": "light"
     },
     "output_type": "display_data"
    }
   ],
   "source": [
    "plot_confusion_matrix(model_SVM,x_test,y_test)\n",
    "plt.show()"
   ]
  },
  {
   "cell_type": "code",
   "execution_count": 116,
   "id": "6ea66df3",
   "metadata": {},
   "outputs": [
    {
     "data": {
      "text/plain": [
       "0.8974358974358975"
      ]
     },
     "execution_count": 116,
     "metadata": {},
     "output_type": "execute_result"
    }
   ],
   "source": [
    "accuracy_score(y_test,y_predict_SVM)"
   ]
  },
  {
   "cell_type": "markdown",
   "id": "e25aa3a5",
   "metadata": {},
   "source": [
    "\n",
    "#### Naives Bayes classifier :"
   ]
  },
  {
   "cell_type": "code",
   "execution_count": 108,
   "id": "430071a4",
   "metadata": {},
   "outputs": [
    {
     "data": {
      "text/plain": [
       "array([1, 0, 0, 0, 0, 0, 0, 0, 0, 0, 0, 0, 0, 1, 0, 0, 0, 0, 0, 0, 0, 0,\n",
       "       0, 0, 0, 0, 1, 0, 0, 0, 0, 1, 0, 0, 0, 1, 0, 0, 0, 0, 1, 0, 0, 0,\n",
       "       0, 0, 0, 0, 0, 0, 0, 0, 0, 0, 0, 0, 0, 0, 0, 0, 0, 0, 0, 0, 0, 0,\n",
       "       1, 0, 0, 0, 0, 0, 0, 0, 0, 0, 0, 1], dtype=int64)"
      ]
     },
     "execution_count": 108,
     "metadata": {},
     "output_type": "execute_result"
    }
   ],
   "source": [
    "y_predict_NB=model_NB.predict(x_test)\n",
    "y_predict_NB"
   ]
  },
  {
   "cell_type": "code",
   "execution_count": 109,
   "id": "91e62e95",
   "metadata": {},
   "outputs": [
    {
     "data": {
      "text/html": [
       "<div>\n",
       "<style scoped>\n",
       "    .dataframe tbody tr th:only-of-type {\n",
       "        vertical-align: middle;\n",
       "    }\n",
       "\n",
       "    .dataframe tbody tr th {\n",
       "        vertical-align: top;\n",
       "    }\n",
       "\n",
       "    .dataframe thead th {\n",
       "        text-align: right;\n",
       "    }\n",
       "</style>\n",
       "<table border=\"1\" class=\"dataframe\">\n",
       "  <thead>\n",
       "    <tr style=\"text-align: right;\">\n",
       "      <th></th>\n",
       "      <th>Actual</th>\n",
       "      <th>Predicted</th>\n",
       "    </tr>\n",
       "  </thead>\n",
       "  <tbody>\n",
       "    <tr>\n",
       "      <th>262</th>\n",
       "      <td>1</td>\n",
       "      <td>1</td>\n",
       "    </tr>\n",
       "    <tr>\n",
       "      <th>231</th>\n",
       "      <td>0</td>\n",
       "      <td>0</td>\n",
       "    </tr>\n",
       "    <tr>\n",
       "      <th>178</th>\n",
       "      <td>0</td>\n",
       "      <td>0</td>\n",
       "    </tr>\n",
       "    <tr>\n",
       "      <th>123</th>\n",
       "      <td>0</td>\n",
       "      <td>0</td>\n",
       "    </tr>\n",
       "    <tr>\n",
       "      <th>285</th>\n",
       "      <td>0</td>\n",
       "      <td>0</td>\n",
       "    </tr>\n",
       "    <tr>\n",
       "      <th>...</th>\n",
       "      <td>...</td>\n",
       "      <td>...</td>\n",
       "    </tr>\n",
       "    <tr>\n",
       "      <th>155</th>\n",
       "      <td>0</td>\n",
       "      <td>0</td>\n",
       "    </tr>\n",
       "    <tr>\n",
       "      <th>152</th>\n",
       "      <td>0</td>\n",
       "      <td>0</td>\n",
       "    </tr>\n",
       "    <tr>\n",
       "      <th>54</th>\n",
       "      <td>0</td>\n",
       "      <td>0</td>\n",
       "    </tr>\n",
       "    <tr>\n",
       "      <th>40</th>\n",
       "      <td>0</td>\n",
       "      <td>0</td>\n",
       "    </tr>\n",
       "    <tr>\n",
       "      <th>183</th>\n",
       "      <td>1</td>\n",
       "      <td>1</td>\n",
       "    </tr>\n",
       "  </tbody>\n",
       "</table>\n",
       "<p>78 rows × 2 columns</p>\n",
       "</div>"
      ],
      "text/plain": [
       "     Actual  Predicted\n",
       "262       1          1\n",
       "231       0          0\n",
       "178       0          0\n",
       "123       0          0\n",
       "285       0          0\n",
       "..      ...        ...\n",
       "155       0          0\n",
       "152       0          0\n",
       "54        0          0\n",
       "40        0          0\n",
       "183       1          1\n",
       "\n",
       "[78 rows x 2 columns]"
      ]
     },
     "execution_count": 109,
     "metadata": {},
     "output_type": "execute_result"
    }
   ],
   "source": [
    "d6=pd.DataFrame({'Actual':y_test,\"Predicted\":y_predict_NB})\n",
    "d6"
   ]
  },
  {
   "cell_type": "code",
   "execution_count": 110,
   "id": "5bdf41ae",
   "metadata": {},
   "outputs": [
    {
     "data": {
      "text/plain": [
       "array([[67,  3],\n",
       "       [ 3,  5]], dtype=int64)"
      ]
     },
     "execution_count": 110,
     "metadata": {},
     "output_type": "execute_result"
    }
   ],
   "source": [
    "performance_NB=confusion_matrix(y_test,y_predict_NB)\n",
    "performance_NB"
   ]
  },
  {
   "cell_type": "code",
   "execution_count": 111,
   "id": "37812aca",
   "metadata": {},
   "outputs": [
    {
     "data": {
      "image/png": "[encoded data removed]",
      "text/plain": [
       "<Figure size 432x288 with 2 Axes>"
      ]
     },
     "metadata": {
      "needs_background": "light"
     },
     "output_type": "display_data"
    }
   ],
   "source": [
    "plot_confusion_matrix(model_NB,x_test,y_test)\n",
    "plt.show()"
   ]
  },
  {
   "cell_type": "code",
   "execution_count": 117,
   "id": "62702d69",
   "metadata": {},
   "outputs": [
    {
     "data": {
      "text/plain": [
       "0.9230769230769231"
      ]
     },
     "execution_count": 117,
     "metadata": {},
     "output_type": "execute_result"
    }
   ],
   "source": [
    "accuracy_score(y_test,y_predict_NB)"
   ]
  },
  {
   "cell_type": "markdown",
   "id": "179f203c",
   "metadata": {},
   "source": [
    "### Conclusion \n",
    "* Lung Cancer was observed for 87% of the people according to the data and predominantly found among men\n",
    "* Observations from the approches made:\n",
    "   \n",
    "    * **Logistic Regression-      93.5% with 73 correct results**\n",
    "    * **Random Forest -           94.8%  with 74 correct results**\n",
    "    * **Decision Tree -           94.8%  with 74 correct results**\n",
    "    * **KNN -                     87.1% with 68 correct results**\n",
    "    * **SVM-                      89.8%  with 70 correct results**\n",
    "    * **Naive Bayes-              92.3% with 72 correct results**\n",
    " * Both Random Forest and Decision Classifier gives better correct results with more accuracy score "
   ]
  },
  {
   "cell_type": "code",
   "execution_count": null,
   "id": "8b63fedc",
   "metadata": {},
   "outputs": [],
   "source": []
  }
 ],
 "metadata": {
  "kernelspec": {
   "display_name": "Python 3 (ipykernel)",
   "language": "python",
   "name": "python3"
  },
  "language_info": {
   "codemirror_mode": {
    "name": "ipython",
    "version": 3
   },
   "file_extension": ".py",
   "mimetype": "text/x-python",
   "name": "python",
   "nbconvert_exporter": "python",
   "pygments_lexer": "ipython3",
   "version": "3.9.7"
  }
 },
 "nbformat": 4,
 "nbformat_minor": 5
}
